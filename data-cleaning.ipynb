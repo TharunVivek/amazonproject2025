{
 "cells": [
  {
   "cell_type": "code",
   "execution_count": null,
   "metadata": {
    "application/vnd.databricks.v1+cell": {
     "cellMetadata": {
      "byteLimit": 2048000,
      "rowLimit": 10000
     },
     "inputWidgets": {},
     "nuid": "9e8ddb9a-88cf-47d3-b4cc-0c0e76af0317",
     "showTitle": false,
     "tableResultSettingsMap": {},
     "title": ""
    }
   },
   "outputs": [],
   "source": [
    "#initialization\n",
    "\n",
    "## sparksesion acts as a entry pont for the spark functionalities\n",
    "## in data bricks these things are done automatically while creating a new notebook\n",
    "#from pyspark.sql import SparkSession\n",
    "#spark = SparkSession.builder.appname('newapp').getOrCreate()\n",
    "\n"
   ]
  },
  {
   "cell_type": "code",
   "execution_count": null,
   "metadata": {
    "application/vnd.databricks.v1+cell": {
     "cellMetadata": {
      "byteLimit": 2048000,
      "rowLimit": 10000
     },
     "inputWidgets": {},
     "nuid": "596d9f12-2c54-455b-bed3-bf2c9a099876",
     "showTitle": false,
     "tableResultSettingsMap": {},
     "title": ""
    }
   },
   "outputs": [],
   "source": [
    "## loading data \n",
    "\n",
    "#df = spark.raed.format('csv').option('header','true').load('file/path.csv')\n",
    "\n",
    "## reading the csv file\n",
    "\n",
    "file_path = 'dbfs:/FileStore/Amazon_Sale_Report-1.csv'\n",
    "\n",
    "\n",
    "df = spark.read.csv(file_path,header = True,inferSchema = True)"
   ]
  },
  {
   "cell_type": "code",
   "execution_count": null,
   "metadata": {
    "application/vnd.databricks.v1+cell": {
     "cellMetadata": {
      "byteLimit": 2048000,
      "rowLimit": 10000
     },
     "inputWidgets": {},
     "nuid": "50812010-e82f-4b6b-8335-792f6c20b4a7",
     "showTitle": false,
     "tableResultSettingsMap": {},
     "title": ""
    }
   },
   "outputs": [
    {
     "name": "stdout",
     "output_type": "stream",
     "text": [
      "Out[3]: ['Order ID',\n",
      " 'Date',\n",
      " 'Status',\n",
      " 'Fulfilment',\n",
      " 'Sales Channel ',\n",
      " 'ship-service-level',\n",
      " 'Style',\n",
      " 'SKU',\n",
      " 'Category',\n",
      " 'Size',\n",
      " 'ASIN',\n",
      " 'Courier Status',\n",
      " 'Qty',\n",
      " 'currency',\n",
      " 'ship-city',\n",
      " 'ship-state',\n",
      " 'ship-postal-code',\n",
      " 'ship-country',\n",
      " 'fulfilled-by',\n",
      " '_c19']"
     ]
    }
   ],
   "source": [
    "## viewing column names\n",
    "\n",
    "df.columns\n"
   ]
  },
  {
   "cell_type": "code",
   "execution_count": null,
   "metadata": {
    "application/vnd.databricks.v1+cell": {
     "cellMetadata": {
      "byteLimit": 2048000,
      "rowLimit": 10000
     },
     "inputWidgets": {},
     "nuid": "e67a9c9a-478b-44e6-b9e1-ea5277169248",
     "showTitle": false,
     "tableResultSettingsMap": {},
     "title": ""
    }
   },
   "outputs": [
    {
     "name": "stdout",
     "output_type": "stream",
     "text": [
      "Out[4]: Row(Order ID='405-8078784-5731545', Date=datetime.date(2022, 4, 30), Status='Cancelled', Fulfilment='Merchant', Sales Channel ='Amazon.in', ship-service-level='Standard', Style='SET389', SKU='SET389-KR-NP-S', Category='Set', Size='S', ASIN='B07STS2W9T', Courier Status=None, Qty=0, currency='INR', ship-city='MUMBAI', ship-state='MAHARASHTRA', ship-postal-code=400081, ship-country='IN', fulfilled-by='Easy Ship', _c19=None)"
     ]
    }
   ],
   "source": [
    "##viewing first record \n",
    "\n",
    "df.first()"
   ]
  },
  {
   "cell_type": "code",
   "execution_count": null,
   "metadata": {
    "application/vnd.databricks.v1+cell": {
     "cellMetadata": {
      "byteLimit": 2048000,
      "rowLimit": 10000
     },
     "inputWidgets": {},
     "nuid": "eec94207-e236-49ec-a931-3b62c5adeed3",
     "showTitle": false,
     "tableResultSettingsMap": {},
     "title": ""
    }
   },
   "outputs": [
    {
     "name": "stdout",
     "output_type": "stream",
     "text": [
      "Out[5]: [Row(Order ID='405-8078784-5731545', Date=datetime.date(2022, 4, 30), Status='Cancelled', Fulfilment='Merchant', Sales Channel ='Amazon.in', ship-service-level='Standard', Style='SET389', SKU='SET389-KR-NP-S', Category='Set', Size='S', ASIN='B07STS2W9T', Courier Status=None, Qty=0, currency='INR', ship-city='MUMBAI', ship-state='MAHARASHTRA', ship-postal-code=400081, ship-country='IN', fulfilled-by='Easy Ship', _c19=None),\n",
      " Row(Order ID='171-9198151-1101146', Date=datetime.date(2022, 4, 30), Status='Shipped - Delivered to Buyer', Fulfilment='Merchant', Sales Channel ='Amazon.in', ship-service-level='Standard', Style='JNE3781', SKU='JNE3781-KR-XXXL', Category='kurta', Size='3XL', ASIN='B07N6TD2WL', Courier Status='Shipped', Qty=1, currency='INR', ship-city='BENGALURU', ship-state='KARNATAKA', ship-postal-code=560085, ship-country='IN', fulfilled-by='Easy Ship', _c19=None),\n",
      " Row(Order ID='404-0687676-7273146', Date=datetime.date(2022, 4, 30), Status='Shipped', Fulfilment='Amazon', Sales Channel ='Amazon.in', ship-service-level='Expedited', Style='JNE3371', SKU='JNE3371-KR-XL', Category='kurta', Size='XL', ASIN='B07WJ6WPN1', Courier Status='Shipped', Qty=1, currency='INR', ship-city='NAVI MUMBAI', ship-state='MAHARASHTRA', ship-postal-code=410210, ship-country='IN', fulfilled-by=None, _c19=None),\n",
      " Row(Order ID='403-9615377-8133951', Date=datetime.date(2022, 4, 30), Status='Cancelled', Fulfilment='Merchant', Sales Channel ='Amazon.in', ship-service-level='Standard', Style='J0341', SKU='J0341-DR-L', Category='Western Dress', Size='L', ASIN='B07PYSF4WZ', Courier Status=None, Qty=0, currency='INR', ship-city='PUDUCHERRY', ship-state='PUDUCHERRY', ship-postal-code=605008, ship-country='IN', fulfilled-by='Easy Ship', _c19=None),\n",
      " Row(Order ID='407-1069790-7240320', Date=datetime.date(2022, 4, 30), Status='Shipped', Fulfilment='Amazon', Sales Channel ='Amazon.in', ship-service-level='Expedited', Style='JNE3671', SKU='JNE3671-TU-XXXL', Category='Top', Size='3XL', ASIN='B082KXNM7X', Courier Status='Shipped', Qty=1, currency='INR', ship-city='CHENNAI', ship-state='TAMIL NADU', ship-postal-code=600073, ship-country='IN', fulfilled-by=None, _c19=None),\n",
      " Row(Order ID='404-1490984-4578765', Date=datetime.date(2022, 4, 30), Status='Shipped', Fulfilment='Amazon', Sales Channel ='Amazon.in', ship-service-level='Expedited', Style='SET264', SKU='SET264-KR-NP-XL', Category='Set', Size='XL', ASIN='B07X5M41BJ', Courier Status='Shipped', Qty=1, currency='INR', ship-city='GHAZIABAD', ship-state='UTTAR PRADESH', ship-postal-code=201102, ship-country='IN', fulfilled-by=None, _c19=None),\n",
      " Row(Order ID='408-5748499-6859555', Date=datetime.date(2022, 4, 30), Status='Shipped', Fulfilment='Amazon', Sales Channel ='Amazon.in', ship-service-level='Expedited', Style='J0095', SKU='J0095-SET-L', Category='Set', Size='L', ASIN='B07H9RCVHQ', Courier Status='Shipped', Qty=1, currency='INR', ship-city='CHANDIGARH', ship-state='CHANDIGARH', ship-postal-code=160036, ship-country='IN', fulfilled-by=None, _c19=None),\n",
      " Row(Order ID='406-7807733-3785945', Date=datetime.date(2022, 4, 30), Status='Shipped - Delivered to Buyer', Fulfilment='Merchant', Sales Channel ='Amazon.in', ship-service-level='Standard', Style='JNE3405', SKU='JNE3405-KR-S', Category='kurta', Size='S', ASIN='B07PJ5QWZ3', Courier Status='Shipped', Qty=1, currency='INR', ship-city='HYDERABAD', ship-state='TELANGANA', ship-postal-code=500032, ship-country='IN', fulfilled-by='Easy Ship', _c19=None),\n",
      " Row(Order ID='407-5443024-5233168', Date=datetime.date(2022, 4, 30), Status='Cancelled', Fulfilment='Amazon', Sales Channel ='Amazon.in', ship-service-level='Expedited', Style='SET200', SKU='SET200-KR-NP-A-XXXL', Category='Set', Size='3XL', ASIN='B01D6VFN7O', Courier Status='Cancelled', Qty=0, currency=None, ship-city='HYDERABAD', ship-state='TELANGANA', ship-postal-code=500008, ship-country='IN', fulfilled-by=None, _c19=None),\n",
      " Row(Order ID='402-4393761-0311520', Date=datetime.date(2022, 4, 30), Status='Shipped', Fulfilment='Amazon', Sales Channel ='Amazon.in', ship-service-level='Expedited', Style='JNE3461', SKU='JNE3461-KR-XXL', Category='kurta', Size='XXL', ASIN='B07P43X53C', Courier Status='Shipped', Qty=1, currency='INR', ship-city='Chennai', ship-state='TAMIL NADU', ship-postal-code=600041, ship-country='IN', fulfilled-by=None, _c19=None)]"
     ]
    }
   ],
   "source": [
    "## viewing first 10 records\n",
    "df.take(10)"
   ]
  },
  {
   "cell_type": "code",
   "execution_count": null,
   "metadata": {
    "application/vnd.databricks.v1+cell": {
     "cellMetadata": {
      "byteLimit": 2048000,
      "rowLimit": 10000
     },
     "inputWidgets": {},
     "nuid": "0e5ff785-ff34-4463-b748-388859dc598e",
     "showTitle": false,
     "tableResultSettingsMap": {},
     "title": ""
    }
   },
   "outputs": [
    {
     "name": "stdout",
     "output_type": "stream",
     "text": [
      "+-------------------+----------+--------------------+----------+--------------+------------------+-------+---------------+-------------+----+----------+--------------+---+--------+-----------+-----------+----------------+------------+------------+----+\n",
      "|           Order ID|      Date|              Status|Fulfilment|Sales Channel |ship-service-level|  Style|            SKU|     Category|Size|      ASIN|Courier Status|Qty|currency|  ship-city| ship-state|ship-postal-code|ship-country|fulfilled-by|_c19|\n",
      "+-------------------+----------+--------------------+----------+--------------+------------------+-------+---------------+-------------+----+----------+--------------+---+--------+-----------+-----------+----------------+------------+------------+----+\n",
      "|405-8078784-5731545|2022-04-30|           Cancelled|  Merchant|     Amazon.in|          Standard| SET389| SET389-KR-NP-S|          Set|   S|B07STS2W9T|          null|  0|     INR|     MUMBAI|MAHARASHTRA|          400081|          IN|   Easy Ship|null|\n",
      "|171-9198151-1101146|2022-04-30|Shipped - Deliver...|  Merchant|     Amazon.in|          Standard|JNE3781|JNE3781-KR-XXXL|        kurta| 3XL|B07N6TD2WL|       Shipped|  1|     INR|  BENGALURU|  KARNATAKA|          560085|          IN|   Easy Ship|null|\n",
      "|404-0687676-7273146|2022-04-30|             Shipped|    Amazon|     Amazon.in|         Expedited|JNE3371|  JNE3371-KR-XL|        kurta|  XL|B07WJ6WPN1|       Shipped|  1|     INR|NAVI MUMBAI|MAHARASHTRA|          410210|          IN|        null|null|\n",
      "|403-9615377-8133951|2022-04-30|           Cancelled|  Merchant|     Amazon.in|          Standard|  J0341|     J0341-DR-L|Western Dress|   L|B07PYSF4WZ|          null|  0|     INR| PUDUCHERRY| PUDUCHERRY|          605008|          IN|   Easy Ship|null|\n",
      "|407-1069790-7240320|2022-04-30|             Shipped|    Amazon|     Amazon.in|         Expedited|JNE3671|JNE3671-TU-XXXL|          Top| 3XL|B082KXNM7X|       Shipped|  1|     INR|    CHENNAI| TAMIL NADU|          600073|          IN|        null|null|\n",
      "+-------------------+----------+--------------------+----------+--------------+------------------+-------+---------------+-------------+----+----------+--------------+---+--------+-----------+-----------+----------------+------------+------------+----+\n",
      "only showing top 5 rows\n",
      "\n"
     ]
    }
   ],
   "source": [
    "## viewing top 5 records in table format\n",
    "\n",
    "df.show(5)"
   ]
  },
  {
   "cell_type": "code",
   "execution_count": null,
   "metadata": {
    "application/vnd.databricks.v1+cell": {
     "cellMetadata": {
      "byteLimit": 2048000,
      "rowLimit": 10000
     },
     "inputWidgets": {},
     "nuid": "b4ee3f9a-c996-43d2-8a9d-88c1ddcb4eda",
     "showTitle": false,
     "tableResultSettingsMap": {},
     "title": ""
    }
   },
   "outputs": [
    {
     "name": "stdout",
     "output_type": "stream",
     "text": [
      "+-------------------+----------+--------------------+----+\n",
      "|           Order ID|      Date|              Status|_c19|\n",
      "+-------------------+----------+--------------------+----+\n",
      "|405-8078784-5731545|2022-04-30|           Cancelled|null|\n",
      "|171-9198151-1101146|2022-04-30|Shipped - Deliver...|null|\n",
      "|404-0687676-7273146|2022-04-30|             Shipped|null|\n",
      "|403-9615377-8133951|2022-04-30|           Cancelled|null|\n",
      "|407-1069790-7240320|2022-04-30|             Shipped|null|\n",
      "|404-1490984-4578765|2022-04-30|             Shipped|null|\n",
      "|408-5748499-6859555|2022-04-30|             Shipped|null|\n",
      "|406-7807733-3785945|2022-04-30|Shipped - Deliver...|null|\n",
      "|407-5443024-5233168|2022-04-30|           Cancelled|null|\n",
      "|402-4393761-0311520|2022-04-30|             Shipped|null|\n",
      "|407-5633625-6970741|2022-04-30|             Shipped|null|\n",
      "|171-4638481-6326716|2022-04-30|             Shipped|null|\n",
      "|405-5513694-8146768|2022-04-30|Shipped - Deliver...|null|\n",
      "|408-7955685-3083534|2022-04-30|             Shipped|null|\n",
      "|408-1298370-1920302|2022-04-30|Shipped - Deliver...|null|\n",
      "|403-4965581-9520319|2022-04-30|Shipped - Deliver...|null|\n",
      "|406-9379318-6555504|2022-04-30|             Shipped|null|\n",
      "|405-9013803-8009918|2022-04-30|             Shipped|null|\n",
      "|402-4030358-5835511|2022-04-30|Shipped - Deliver...|null|\n",
      "|405-5957858-1051546|2022-04-30|             Shipped|null|\n",
      "+-------------------+----------+--------------------+----+\n",
      "only showing top 20 rows\n",
      "\n"
     ]
    }
   ],
   "source": [
    "## viewing specific columns only\n",
    "\n",
    "df['Order ID',\n",
    " 'Date',\n",
    " 'Status','_c19'].show()"
   ]
  },
  {
   "cell_type": "code",
   "execution_count": null,
   "metadata": {
    "application/vnd.databricks.v1+cell": {
     "cellMetadata": {
      "byteLimit": 2048000,
      "rowLimit": 10000
     },
     "inputWidgets": {},
     "nuid": "124bb4ec-020e-451d-977c-f712b5646a8b",
     "showTitle": false,
     "tableResultSettingsMap": {},
     "title": ""
    }
   },
   "outputs": [],
   "source": [
    "## renaming a column\n",
    "\n",
    "df1 = df.withColumnRenamed('_c19','dummy')"
   ]
  },
  {
   "cell_type": "code",
   "execution_count": null,
   "metadata": {
    "application/vnd.databricks.v1+cell": {
     "cellMetadata": {
      "byteLimit": 2048000,
      "rowLimit": 10000
     },
     "inputWidgets": {},
     "nuid": "bca99043-b95a-4846-8f56-7ffe190d6768",
     "showTitle": false,
     "tableResultSettingsMap": {},
     "title": ""
    }
   },
   "outputs": [
    {
     "name": "stdout",
     "output_type": "stream",
     "text": [
      "Out[9]: ['Order ID',\n",
      " 'Date',\n",
      " 'Status',\n",
      " 'Fulfilment',\n",
      " 'Sales Channel ',\n",
      " 'ship-service-level',\n",
      " 'Style',\n",
      " 'SKU',\n",
      " 'Category',\n",
      " 'Size',\n",
      " 'ASIN',\n",
      " 'Courier Status',\n",
      " 'Qty',\n",
      " 'currency',\n",
      " 'ship-city',\n",
      " 'ship-state',\n",
      " 'ship-postal-code',\n",
      " 'ship-country',\n",
      " 'fulfilled-by',\n",
      " 'dummy']"
     ]
    }
   ],
   "source": [
    "df1.columns"
   ]
  },
  {
   "cell_type": "code",
   "execution_count": null,
   "metadata": {
    "application/vnd.databricks.v1+cell": {
     "cellMetadata": {
      "byteLimit": 2048000,
      "rowLimit": 10000
     },
     "inputWidgets": {},
     "nuid": "5524147c-c3c0-484f-aea9-4f79a735395c",
     "showTitle": false,
     "tableResultSettingsMap": {},
     "title": ""
    }
   },
   "outputs": [
    {
     "name": "stdout",
     "output_type": "stream",
     "text": [
      "Out[10]: pyspark.sql.dataframe.DataFrame"
     ]
    }
   ],
   "source": [
    "type(df1)"
   ]
  },
  {
   "cell_type": "code",
   "execution_count": null,
   "metadata": {
    "application/vnd.databricks.v1+cell": {
     "cellMetadata": {
      "byteLimit": 2048000,
      "rowLimit": 10000
     },
     "inputWidgets": {},
     "nuid": "c3790587-705c-4eca-82bd-4c92b3b21f75",
     "showTitle": false,
     "tableResultSettingsMap": {},
     "title": ""
    }
   },
   "outputs": [],
   "source": [
    "## renaming multiple columns\n",
    "df1 = df1.withColumnRenamed('ship-service-level', 'ship_service_level') \\\n",
    "         .withColumnRenamed('ship-city', 'ship_city') \\\n",
    "         .withColumnRenamed('ship-state', 'ship_state') \\\n",
    "         .withColumnRenamed('ship-postal-code', 'ship_postal_code') \\\n",
    "         .withColumnRenamed('ship-country', 'ship_country') \\\n",
    "         .withColumnRenamed('fulfilled-by', 'fulfilled_by')\n"
   ]
  },
  {
   "cell_type": "code",
   "execution_count": null,
   "metadata": {
    "application/vnd.databricks.v1+cell": {
     "cellMetadata": {
      "byteLimit": 2048000,
      "rowLimit": 10000
     },
     "inputWidgets": {},
     "nuid": "58315210-d8fa-47b6-b43b-3fc0c2eea8f4",
     "showTitle": false,
     "tableResultSettingsMap": {},
     "title": ""
    }
   },
   "outputs": [
    {
     "name": "stdout",
     "output_type": "stream",
     "text": [
      "Out[12]: ['Order ID',\n",
      " 'Date',\n",
      " 'Status',\n",
      " 'Fulfilment',\n",
      " 'Sales Channel ',\n",
      " 'ship_service_level',\n",
      " 'Style',\n",
      " 'SKU',\n",
      " 'Category',\n",
      " 'Size',\n",
      " 'ASIN',\n",
      " 'Courier Status',\n",
      " 'Qty',\n",
      " 'currency',\n",
      " 'ship_city',\n",
      " 'ship_state',\n",
      " 'ship_postal_code',\n",
      " 'ship_country',\n",
      " 'fulfilled_by',\n",
      " 'dummy']"
     ]
    }
   ],
   "source": [
    "df1.columns"
   ]
  },
  {
   "cell_type": "code",
   "execution_count": null,
   "metadata": {
    "application/vnd.databricks.v1+cell": {
     "cellMetadata": {
      "byteLimit": 2048000,
      "rowLimit": 10000
     },
     "inputWidgets": {},
     "nuid": "c355e5ab-7b3b-4535-a008-9fbe6fd3b1db",
     "showTitle": false,
     "tableResultSettingsMap": {},
     "title": ""
    }
   },
   "outputs": [
    {
     "name": "stdout",
     "output_type": "stream",
     "text": [
      "root\n",
      " |-- Order ID: string (nullable = true)\n",
      " |-- Date: date (nullable = true)\n",
      " |-- Status: string (nullable = true)\n",
      " |-- Fulfilment: string (nullable = true)\n",
      " |-- Sales Channel : string (nullable = true)\n",
      " |-- ship_service_level: string (nullable = true)\n",
      " |-- Style: string (nullable = true)\n",
      " |-- SKU: string (nullable = true)\n",
      " |-- Category: string (nullable = true)\n",
      " |-- Size: string (nullable = true)\n",
      " |-- ASIN: string (nullable = true)\n",
      " |-- Courier Status: string (nullable = true)\n",
      " |-- Qty: integer (nullable = true)\n",
      " |-- currency: string (nullable = true)\n",
      " |-- ship_city: string (nullable = true)\n",
      " |-- ship_state: string (nullable = true)\n",
      " |-- ship_postal_code: integer (nullable = true)\n",
      " |-- ship_country: string (nullable = true)\n",
      " |-- fulfilled_by: string (nullable = true)\n",
      " |-- dummy: boolean (nullable = true)\n",
      "\n"
     ]
    }
   ],
   "source": [
    "## viewing schema information\n",
    "\n",
    "df1.printSchema()"
   ]
  },
  {
   "cell_type": "code",
   "execution_count": null,
   "metadata": {
    "application/vnd.databricks.v1+cell": {
     "cellMetadata": {
      "byteLimit": 2048000,
      "rowLimit": 10000
     },
     "inputWidgets": {},
     "nuid": "52235817-e9f0-4bd3-b669-8497d23ff777",
     "showTitle": false,
     "tableResultSettingsMap": {},
     "title": ""
    }
   },
   "outputs": [],
   "source": [
    "## renaming columns using sql select \n",
    "## to use this we have to import sql col function\n",
    "\n",
    "from pyspark.sql.functions import col\n",
    " \n",
    "df2 = df1.select(col('Order ID'),\n",
    "                 col('Date'),\n",
    "                 col('Status'),\n",
    "                 col('Fulfilment'),\n",
    "                 col('Sales Channel ').alias('Sales_Channel'),\n",
    "                 col('ship_service_level'),\n",
    "                 col('Style'),\n",
    "                 col('SKU'),\n",
    "                 col('Category'),\n",
    "                 col('Size'),\n",
    "                 col('ASIN'),\n",
    "                 col('Courier Status').alias('Courier_Status'),\n",
    "                 col('Qty'),\n",
    "                 col('currency'),\n",
    "                 col('ship_city'),\n",
    "                 col('ship_state'),\n",
    "                 col('ship_postal_code'),\n",
    "                 col('ship_country'),\n",
    "                 col('fulfilled_by'),\n",
    "                 col('dummy').alias('newdummy'))"
   ]
  },
  {
   "cell_type": "code",
   "execution_count": null,
   "metadata": {
    "application/vnd.databricks.v1+cell": {
     "cellMetadata": {
      "byteLimit": 2048000,
      "rowLimit": 10000
     },
     "inputWidgets": {},
     "nuid": "fed41be1-113e-426e-bd4e-80f38ca8079e",
     "showTitle": false,
     "tableResultSettingsMap": {},
     "title": ""
    }
   },
   "outputs": [
    {
     "name": "stdout",
     "output_type": "stream",
     "text": [
      "Out[15]: ['Order ID',\n",
      " 'Date',\n",
      " 'Status',\n",
      " 'Fulfilment',\n",
      " 'Sales_Channel',\n",
      " 'ship_service_level',\n",
      " 'Style',\n",
      " 'SKU',\n",
      " 'Category',\n",
      " 'Size',\n",
      " 'ASIN',\n",
      " 'Courier_Status',\n",
      " 'Qty',\n",
      " 'currency',\n",
      " 'ship_city',\n",
      " 'ship_state',\n",
      " 'ship_postal_code',\n",
      " 'ship_country',\n",
      " 'fulfilled_by',\n",
      " 'newdummy']"
     ]
    }
   ],
   "source": [
    "df2.columns"
   ]
  },
  {
   "cell_type": "code",
   "execution_count": null,
   "metadata": {
    "application/vnd.databricks.v1+cell": {
     "cellMetadata": {
      "byteLimit": 2048000,
      "rowLimit": 10000
     },
     "inputWidgets": {},
     "nuid": "7ee529c4-febb-4c9f-9e4b-c736cd935edd",
     "showTitle": false,
     "tableResultSettingsMap": {},
     "title": ""
    }
   },
   "outputs": [],
   "source": [
    "## removing unwanted columns\n",
    "\n",
    "df2 = df2.drop('newdummy')"
   ]
  },
  {
   "cell_type": "code",
   "execution_count": null,
   "metadata": {
    "application/vnd.databricks.v1+cell": {
     "cellMetadata": {
      "byteLimit": 2048000,
      "rowLimit": 10000
     },
     "inputWidgets": {},
     "nuid": "16798443-caa1-4bf3-8756-018b1c449334",
     "showTitle": false,
     "tableResultSettingsMap": {},
     "title": ""
    }
   },
   "outputs": [
    {
     "name": "stdout",
     "output_type": "stream",
     "text": [
      "Out[17]: ['Order ID',\n",
      " 'Date',\n",
      " 'Status',\n",
      " 'Fulfilment',\n",
      " 'Sales_Channel',\n",
      " 'ship_service_level',\n",
      " 'Style',\n",
      " 'SKU',\n",
      " 'Category',\n",
      " 'Size',\n",
      " 'ASIN',\n",
      " 'Courier_Status',\n",
      " 'Qty',\n",
      " 'currency',\n",
      " 'ship_city',\n",
      " 'ship_state',\n",
      " 'ship_postal_code',\n",
      " 'ship_country',\n",
      " 'fulfilled_by']"
     ]
    }
   ],
   "source": [
    "df2.columns"
   ]
  },
  {
   "cell_type": "code",
   "execution_count": null,
   "metadata": {
    "application/vnd.databricks.v1+cell": {
     "cellMetadata": {
      "byteLimit": 2048000,
      "rowLimit": 10000
     },
     "inputWidgets": {},
     "nuid": "7a637e87-f145-4be9-bd76-30f063d7dc56",
     "showTitle": false,
     "tableResultSettingsMap": {},
     "title": ""
    }
   },
   "outputs": [
    {
     "name": "stdout",
     "output_type": "stream",
     "text": [
      "Out[18]: ['Order ID',\n",
      " 'Date',\n",
      " 'Status',\n",
      " 'Fulfilment',\n",
      " 'Sales_Channel',\n",
      " 'ship_service_level',\n",
      " 'SKU',\n",
      " 'Category',\n",
      " 'Size',\n",
      " 'ASIN',\n",
      " 'Courier_Status',\n",
      " 'Qty',\n",
      " 'ship_city',\n",
      " 'ship_state',\n",
      " 'ship_postal_code',\n",
      " 'ship_country']"
     ]
    }
   ],
   "source": [
    "## removing multiple columns \n",
    "\n",
    "df3 = df2.drop('currency','fulfilled_by','Style')\n",
    "\n",
    "df3.columns"
   ]
  },
  {
   "cell_type": "code",
   "execution_count": null,
   "metadata": {
    "application/vnd.databricks.v1+cell": {
     "cellMetadata": {
      "byteLimit": 2048000,
      "rowLimit": 10000
     },
     "inputWidgets": {},
     "nuid": "6fdf32df-7512-4c93-bb52-cb5ae4add722",
     "showTitle": false,
     "tableResultSettingsMap": {},
     "title": ""
    }
   },
   "outputs": [],
   "source": [
    "## or we can create a list of columns to remove and pass on it\n",
    "\n",
    "cols_to_drop = ['Fulfilment',\n",
    " 'Sales_Channel',\n",
    " 'ship_service_level',\n",
    " 'SKU',\n",
    "  'ASIN',\n",
    " 'ship_city',\n",
    "  'ship_postal_code',\n",
    " ] \n",
    " "
   ]
  },
  {
   "cell_type": "code",
   "execution_count": null,
   "metadata": {
    "application/vnd.databricks.v1+cell": {
     "cellMetadata": {
      "byteLimit": 2048000,
      "rowLimit": 10000
     },
     "inputWidgets": {},
     "nuid": "5422ec99-135e-422a-b449-6ff8ec359ee0",
     "showTitle": false,
     "tableResultSettingsMap": {},
     "title": ""
    }
   },
   "outputs": [
    {
     "name": "stdout",
     "output_type": "stream",
     "text": [
      "Out[20]: ['Order ID',\n",
      " 'Date',\n",
      " 'Status',\n",
      " 'Style',\n",
      " 'Category',\n",
      " 'Size',\n",
      " 'Courier_Status',\n",
      " 'Qty',\n",
      " 'currency',\n",
      " 'ship_state',\n",
      " 'ship_country',\n",
      " 'fulfilled_by']"
     ]
    }
   ],
   "source": [
    "## *cols_to_drop is used to unpack the list of columns\n",
    "df3 = df2.drop(*cols_to_drop)\n",
    "\n",
    "df3.columns"
   ]
  },
  {
   "cell_type": "code",
   "execution_count": null,
   "metadata": {
    "application/vnd.databricks.v1+cell": {
     "cellMetadata": {
      "byteLimit": 2048000,
      "rowLimit": 10000
     },
     "inputWidgets": {},
     "nuid": "e5a1722f-3685-498f-a3a6-66313b024472",
     "showTitle": false,
     "tableResultSettingsMap": {},
     "title": ""
    }
   },
   "outputs": [
    {
     "name": "stdout",
     "output_type": "stream",
     "text": [
      "Out[21]: 77804"
     ]
    }
   ],
   "source": [
    "## filtering rows\n",
    "\n",
    "df[df['Status'] == 'Shipped'].count()"
   ]
  },
  {
   "cell_type": "code",
   "execution_count": null,
   "metadata": {
    "application/vnd.databricks.v1+cell": {
     "cellMetadata": {
      "byteLimit": 2048000,
      "rowLimit": 10000
     },
     "inputWidgets": {},
     "nuid": "8613a66a-344b-471e-9f21-ebb8010affdd",
     "showTitle": false,
     "tableResultSettingsMap": {},
     "title": ""
    }
   },
   "outputs": [
    {
     "name": "stdout",
     "output_type": "stream",
     "text": [
      "Out[22]: 18332"
     ]
    }
   ],
   "source": [
    "df[df['Status'] == 'Cancelled'].count()"
   ]
  },
  {
   "cell_type": "code",
   "execution_count": null,
   "metadata": {
    "application/vnd.databricks.v1+cell": {
     "cellMetadata": {
      "byteLimit": 2048000,
      "rowLimit": 10000
     },
     "inputWidgets": {},
     "nuid": "cc25e5f2-8ec6-4e8d-97e3-7b691efa5e42",
     "showTitle": false,
     "tableResultSettingsMap": {},
     "title": ""
    }
   },
   "outputs": [
    {
     "name": "stdout",
     "output_type": "stream",
     "text": [
      "+-------------------+----------+---------+----------+--------------+------------------+-------+----------------+-------------+----+----------+--------------+---+--------+--------------------+----------------+----------------+------------+------------+-----+\n",
      "|           Order ID|      Date|   Status|Fulfilment|Sales Channel |ship-service-level|  Style|             SKU|     Category|Size|      ASIN|Courier Status|Qty|currency|           ship-city|      ship-state|ship-postal-code|ship-country|fulfilled-by| _c19|\n",
      "+-------------------+----------+---------+----------+--------------+------------------+-------+----------------+-------------+----+----------+--------------+---+--------+--------------------+----------------+----------------+------------+------------+-----+\n",
      "|402-5408365-5989959|2022-06-02|Cancelled|    Amazon|     Amazon.in|         Expedited|  J0402|      J0402-DR-L|Western Dress|   L|B07GDM8RTW|     Cancelled|  0|    null|     BELA PRATAPGARH|   UTTAR PRADESH|          230001|          IN|        null|false|\n",
      "|405-7177299-9261119|2022-06-20|Cancelled|  Merchant|     Amazon.in|          Standard|  J0150|      J0150-KR-S|        kurta|   S|B07FY9M25N|          null|  0|     INR|            HAMIRPUR|HIMACHAL PRADESH|          177040|          IN|   Easy Ship|false|\n",
      "|404-1045052-9773906|2022-05-30|Cancelled|    Amazon|     Amazon.in|         Expedited|  J0008|   J0008-SKD-XXL|          Set| XXL|B073FH2JBT|     Cancelled|  0|    null|            GURUGRAM|         HARYANA|          122005|          IN|        null|false|\n",
      "|405-7035665-6002707|2022-06-20|Cancelled|  Merchant|     Amazon.in|          Standard|JNE3487|    JNE3487-KR-L|        kurta|   L|B073R4QMXM|          null|  0|     INR|          Valanchery|          KERALA|          676552|          IN|   Easy Ship|false|\n",
      "|405-7091647-9464329|2022-05-09|Cancelled|    Amazon|     Amazon.in|         Expedited| SET044| SET044-KR-NP-XL|          Set|  XL|B079GZKJPC|     Cancelled|  0|    null|             BARASAT|     WEST BENGAL|          700127|          IN|        null|false|\n",
      "|406-0656369-1389163|2022-06-20|Cancelled|  Merchant|     Amazon.in|          Standard|  J0127|     J0127-SKD-L|          Set|   L|B0771R5VT4|          null|  0|     INR|           ERNAKULAM|          KERALA|          682020|          IN|   Easy Ship|false|\n",
      "|408-8650218-4797957|2022-05-29|Cancelled|    Amazon|     Amazon.in|         Expedited|JNE3468|  JNE3468-KR-XXL|        kurta| XXL|B07PRD3H8X|     Cancelled|  0|    null|                PUNE|     MAHARASHTRA|          411016|          IN|        null|false|\n",
      "|408-4533589-5649918|2022-06-20|Cancelled|  Merchant|     Amazon.in|          Standard|  J0179|    J0179-KR-XXL|        kurta| XXL|B07HZ2DM14|          null|  0|    null|            Haldwani|     UTTARAKHAND|          263139|          IN|   Easy Ship|false|\n",
      "|406-0721771-8681965|2022-04-15|Cancelled|    Amazon|     Amazon.in|         Expedited|  J0185|    J0185-DR-XXL| Ethnic Dress| XXL|B01N7TRLGM|     Cancelled|  0|    null|           NEW DELHI|           DELHI|          110003|          IN|        null| null|\n",
      "|404-1349232-2526760|2022-06-20|Cancelled|    Amazon|     Amazon.in|         Expedited|JNE2032|JNE2032-KR-205-S|        kurta|   S|B07STNPGKN|     Cancelled|  0|    null|   Gobichettipalayam|      TAMIL NADU|          638476|          IN|        null|false|\n",
      "|405-3662645-4881901|2022-05-30|Cancelled|    Amazon|     Amazon.in|         Expedited|JNE3905|    JNE3905-DR-L|Western Dress|   L|B075XYCKBX|     Cancelled|  0|    null|           GHAZIABAD|   UTTAR PRADESH|          201014|          IN|        null|false|\n",
      "|404-4219788-8377156|2022-06-20|Cancelled|  Merchant|     Amazon.in|          Standard|JNE3798|    JNE3798-KR-M|Western Dress|   M|B07YPZBFW4|          null|  0|     INR|           ANANTAPUR|  ANDHRA PRADESH|          515001|          IN|   Easy Ship|false|\n",
      "|405-5354853-5951559|2022-05-09|Cancelled|  Merchant|     Amazon.in|          Standard|JNE3796| JNE3796-KR-XXXL|        kurta| 3XL|B07YTK3LM8|          null|  0|    null|Kanchipuram district|      TAMIL NADU|          602106|          IN|   Easy Ship|false|\n",
      "|407-0101573-5735522|2022-06-20|Cancelled|  Merchant|     Amazon.in|          Standard|JNE3797| JNE3797-KR-A-XL|Western Dress|  XL|B07JKRVGBN|          null|  0|     INR|               JAMMU| JAMMU & KASHMIR|          180001|          IN|   Easy Ship|false|\n",
      "|402-5947295-2733151|2022-05-30|Cancelled|    Amazon|     Amazon.in|         Expedited| BTM032|     BTM032-NP-S|       Bottom|   S|B0742LSYDC|     Cancelled|  0|    null|             CHENNAI|      TAMIL NADU|          600005|          IN|        null|false|\n",
      "|403-0413413-2473941|2022-06-20|Cancelled|    Amazon|     Amazon.in|         Expedited|JNE3811| JNE3811-KR-XXXL|        kurta| 3XL|B07Z82B2BX|     Cancelled|  0|    null|           NEW DELHI|           DELHI|          110036|          IN|        null|false|\n",
      "|404-6019946-2909948|2022-04-30|Cancelled|  Merchant|     Amazon.in|          Standard| SET291|  SET291-KR-PP-M|          Set|   M|B07H9TTVNG|          null|  0|     INR|                pune|     MAHARASHTRA|          411044|          IN|   Easy Ship| null|\n",
      "|403-1609771-3970712|2022-06-20|Cancelled|    Amazon|     Amazon.in|         Expedited| SET291|  SET291-KR-PP-M|          Set|   M|B081ZC28RT|     Cancelled|  0|    null|              KALYAN|     MAHARASHTRA|          421003|          IN|        null|false|\n",
      "|171-5664256-6792369|2022-05-30|Cancelled|  Merchant|     Amazon.in|          Standard| SET288|  SET288-KR-NP-L|          Set|   L|B07D1678VG|          null|  0|    null|           BENGALURU|       KARNATAKA|          560100|          IN|   Easy Ship|false|\n",
      "|408-2704454-2055519|2022-06-20|Cancelled|    Amazon|     Amazon.in|         Expedited|  NW003|  NW003-TP-PJ-XL|          Set|  XL|B0718SJYN1|     Cancelled|  0|    null|           AHMEDABAD|         Gujarat|          380058|          IN|        null|false|\n",
      "+-------------------+----------+---------+----------+--------------+------------------+-------+----------------+-------------+----+----------+--------------+---+--------+--------------------+----------------+----------------+------------+------------+-----+\n",
      "only showing top 20 rows\n",
      "\n"
     ]
    }
   ],
   "source": [
    "## sorting rows based on a column\n",
    "\n",
    "df.orderBy(df['Qty'].asc()).show()"
   ]
  },
  {
   "cell_type": "code",
   "execution_count": null,
   "metadata": {
    "application/vnd.databricks.v1+cell": {
     "cellMetadata": {
      "byteLimit": 2048000,
      "rowLimit": 10000
     },
     "inputWidgets": {},
     "nuid": "6d64e806-ecee-4b31-9e02-d3b9747c615e",
     "showTitle": false,
     "tableResultSettingsMap": {},
     "title": ""
    }
   },
   "outputs": [
    {
     "name": "stdout",
     "output_type": "stream",
     "text": [
      "+-------------------+----------+---------+-------+-------------+----+--------------+---+\n",
      "|           Order ID|      Date|   Status|  Style|     Category|Size|Courier Status|Qty|\n",
      "+-------------------+----------+---------+-------+-------------+----+--------------+---+\n",
      "|402-5408365-5989959|2022-06-02|Cancelled|  J0402|Western Dress|   L|     Cancelled|  0|\n",
      "|406-0721771-8681965|2022-04-15|Cancelled|  J0185| Ethnic Dress| XXL|     Cancelled|  0|\n",
      "|405-7177299-9261119|2022-06-20|Cancelled|  J0150|        kurta|   S|          null|  0|\n",
      "|406-5158175-2326751|2022-04-15|Cancelled| SET393|          Set|  XS|     Cancelled|  0|\n",
      "|404-1045052-9773906|2022-05-30|Cancelled|  J0008|          Set| XXL|     Cancelled|  0|\n",
      "|406-0721771-8681965|2022-04-15|Cancelled|  J0159|Western Dress| XXL|     Cancelled|  0|\n",
      "|405-7035665-6002707|2022-06-20|Cancelled|JNE3487|        kurta|   L|          null|  0|\n",
      "|405-0763073-8912335|2022-04-15|Cancelled|MEN5012|        kurta|  XL|          null|  0|\n",
      "|405-7091647-9464329|2022-05-09|Cancelled| SET044|          Set|  XL|     Cancelled|  0|\n",
      "|403-7758947-4914743|2022-04-15|Cancelled| SET269|          Set| 3XL|     Cancelled|  0|\n",
      "|406-0656369-1389163|2022-06-20|Cancelled|  J0127|          Set|   L|          null|  0|\n",
      "|407-4309076-4130735|2022-04-15|Cancelled|JNE3560|        kurta|  XL|          null|  0|\n",
      "|408-8650218-4797957|2022-05-29|Cancelled|JNE3468|        kurta| XXL|     Cancelled|  0|\n",
      "|403-5980304-1233127|2022-04-15|Cancelled| SET375|          Set|   L|          null|  0|\n",
      "|408-4533589-5649918|2022-06-20|Cancelled|  J0179|        kurta| XXL|          null|  0|\n",
      "|408-6370033-4512314|2022-04-15|Cancelled| SET331|          Set|   S|          null|  0|\n",
      "|404-6019946-2909948|2022-04-30|Cancelled| SET291|          Set|   M|          null|  0|\n",
      "|406-8822761-8322747|2022-04-15|Cancelled|JNE3804|        kurta|  XL|          null|  0|\n",
      "|404-1349232-2526760|2022-06-20|Cancelled|JNE2032|        kurta|   S|     Cancelled|  0|\n",
      "|405-1039130-0991545|2022-04-15|Cancelled| SET331|          Set|  XS|          null|  0|\n",
      "+-------------------+----------+---------+-------+-------------+----+--------------+---+\n",
      "only showing top 20 rows\n",
      "\n"
     ]
    }
   ],
   "source": [
    "\n",
    "df[['Order ID',\n",
    " 'Date',\n",
    " 'Status',\n",
    " 'Style',\n",
    " 'Category',\n",
    " 'Size',\n",
    " 'Courier Status',\n",
    " 'Qty',]].orderBy(df['Qty'].asc()).show()"
   ]
  },
  {
   "cell_type": "code",
   "execution_count": null,
   "metadata": {
    "application/vnd.databricks.v1+cell": {
     "cellMetadata": {
      "byteLimit": 2048000,
      "rowLimit": 10000
     },
     "inputWidgets": {},
     "nuid": "48c9d335-0173-4bbb-849b-fc0a68673f6e",
     "showTitle": false,
     "tableResultSettingsMap": {},
     "title": ""
    }
   },
   "outputs": [
    {
     "name": "stdout",
     "output_type": "stream",
     "text": [
      "+-------------------+----------+--------------------+-------+-------------+----+--------------+---+\n",
      "|           Order ID|      Date|              Status|  Style|     Category|Size|Courier Status|Qty|\n",
      "+-------------------+----------+--------------------+-------+-------------+----+--------------+---+\n",
      "|S02-5278980-4327051|2022-04-30|             Shipped|  BL017|       Blouse|Free|     Unshipped| 15|\n",
      "|S02-6828927-1180856|2022-04-28|             Shipped|JNE2305|        kurta| XXL|     Unshipped| 13|\n",
      "|S02-1006261-5356758|2022-04-28|             Shipped|JNE2305|        kurta|   L|     Unshipped|  9|\n",
      "|402-5239558-4281957|2022-04-05|             Shipped| SET268|          Set|  XS|       Shipped|  8|\n",
      "|403-4040971-3884354|2022-06-11|Shipped - Deliver...|JNE3405|        kurta|  XL|       Shipped|  5|\n",
      "|403-4106553-1691525|2022-04-23|Shipped - Deliver...|  J0013|          Set| 3XL|       Shipped|  5|\n",
      "|403-1620002-1689968|2022-06-11|Shipped - Deliver...|JNE3405|        kurta|   L|       Shipped|  4|\n",
      "|405-6877720-7865168|2022-05-07|Shipped - Returne...|JNE2086|        kurta|   M|       Shipped|  4|\n",
      "|403-0343365-3075550|2022-06-06|             Shipped| SET374|          Set| XXL|       Shipped|  4|\n",
      "|405-4755854-9568304|2022-04-10|             Shipped|JNE3465|        kurta|   S|       Shipped|  4|\n",
      "|406-9485910-0797142|2022-06-04|             Shipped|JNE2305|        kurta|   M|       Shipped|  4|\n",
      "|406-7195963-2374765|2022-05-02|             Shipped| SET197|          Set|   M|       Shipped|  4|\n",
      "|403-2332292-9207530|2022-04-20|Shipped - Deliver...|JNE2265|        kurta| XXL|       Shipped|  4|\n",
      "|408-3363121-6123562|2022-04-06|Shipped - Deliver...|JNE3797|Western Dress|  XS|       Shipped|  4|\n",
      "|S02-4284139-2649943|2022-04-06|             Shipped|JNE3391|        kurta| 3XL|     Unshipped|  4|\n",
      "|406-8791326-8702710|2022-06-13|Shipped - Deliver...|JNE3721|        kurta|   L|       Shipped|  3|\n",
      "|171-9419863-7830701|2022-05-27|             Shipped|  J0341|Western Dress| XXL|       Shipped|  3|\n",
      "|402-7744718-3391556|2022-06-06|Shipped - Returne...|JNE3609|        kurta|   L|       Shipped|  3|\n",
      "|405-7311519-3898766|2022-05-07|Shipped - Returne...|JNE2171|        kurta|   M|       Shipped|  3|\n",
      "|404-3709653-3513958|2022-06-06|Shipped - Returne...|JNE3739|        kurta|   S|       Shipped|  3|\n",
      "+-------------------+----------+--------------------+-------+-------------+----+--------------+---+\n",
      "only showing top 20 rows\n",
      "\n"
     ]
    }
   ],
   "source": [
    "df[['Order ID',\n",
    " 'Date',\n",
    " 'Status',\n",
    " 'Style',\n",
    " 'Category',\n",
    " 'Size',\n",
    " 'Courier Status',\n",
    " 'Qty',]].orderBy(df['Qty'].desc()).show()"
   ]
  },
  {
   "cell_type": "code",
   "execution_count": null,
   "metadata": {
    "application/vnd.databricks.v1+cell": {
     "cellMetadata": {
      "byteLimit": 2048000,
      "rowLimit": 10000
     },
     "inputWidgets": {},
     "nuid": "1500d539-82fb-46ae-a635-1c8b062434ab",
     "showTitle": false,
     "tableResultSettingsMap": {},
     "title": ""
    }
   },
   "outputs": [
    {
     "name": "stdout",
     "output_type": "stream",
     "text": [
      "+-------------------+----------+-------+-------+-------------+----+--------------+---+\n",
      "|           Order ID|      Date| Status|  Style|     Category|Size|Courier Status|Qty|\n",
      "+-------------------+----------+-------+-------+-------------+----+--------------+---+\n",
      "|171-9918163-5396330|2022-06-29|Pending|JNE3797|Western Dress| XXL|     Unshipped|  1|\n",
      "|402-6797751-2261148|2022-06-29|Pending|JNE3437|        kurta|   L|     Unshipped|  1|\n",
      "|406-0556934-4608363|2022-06-29|Pending|JNE3636|        kurta|  XS|     Unshipped|  1|\n",
      "|408-9438950-1286737|2022-06-29|Pending|JNE3797|Western Dress|   M|     Unshipped|  1|\n",
      "|171-1019440-1263518|2022-06-29|Pending|  J0341|Western Dress|   S|     Unshipped|  1|\n",
      "|171-3215997-9845942|2022-06-29|Pending|JNE3800|Western Dress| XXL|     Unshipped|  1|\n",
      "|407-4313531-9038767|2022-06-29|Pending| SET327|          Set|   M|     Unshipped|  1|\n",
      "|404-5545664-9871540|2022-06-29|Pending|JNE3800|Western Dress|   S|     Unshipped|  1|\n",
      "|407-4162802-9137132|2022-06-29|Pending|JNE3781|        kurta|   S|     Unshipped|  1|\n",
      "|408-3116129-2000351|2022-06-29|Pending|JNE3691|          Top|   L|     Unshipped|  1|\n",
      "|405-4198621-5464349|2022-06-29|Pending|JNE3798|Western Dress|   L|     Unshipped|  1|\n",
      "|403-3523206-6850756|2022-06-29|Pending|JNE3684|          Top|  XS|     Unshipped|  1|\n",
      "|407-0038659-0625940|2022-06-29|Pending|JNE3438|        kurta|   L|     Unshipped|  1|\n",
      "|406-7274364-9461111|2022-06-29|Pending| SET196|          Set|  XL|     Unshipped|  1|\n",
      "|403-0176285-9325126|2022-06-29|Pending|JNE3801|        kurta|  XL|     Unshipped|  1|\n",
      "|407-5797861-3428325|2022-06-29|Pending|JNE3797|Western Dress| XXL|     Unshipped|  1|\n",
      "|171-2167332-2298728|2022-06-29|Pending|  J0283|          Set| XXL|     Unshipped|  1|\n",
      "|406-5407377-2423541|2022-06-29|Pending|JNE3487|        kurta| XXL|     Unshipped|  1|\n",
      "|406-2093090-0448363|2022-06-29|Pending|JNE3797|Western Dress| XXL|     Unshipped|  1|\n",
      "|404-5621888-1216352|2022-06-29|Pending| SET286|          Set|  XS|     Unshipped|  1|\n",
      "+-------------------+----------+-------+-------+-------------+----+--------------+---+\n",
      "only showing top 20 rows\n",
      "\n"
     ]
    }
   ],
   "source": [
    "## sorting with date column\n",
    "\n",
    "df[['Order ID',\n",
    " 'Date',\n",
    " 'Status',\n",
    " 'Style',\n",
    " 'Category',\n",
    " 'Size',\n",
    " 'Courier Status',\n",
    " 'Qty',]].orderBy(df['Date'].desc()).show()"
   ]
  },
  {
   "cell_type": "code",
   "execution_count": null,
   "metadata": {
    "application/vnd.databricks.v1+cell": {
     "cellMetadata": {
      "byteLimit": 2048000,
      "rowLimit": 10000
     },
     "inputWidgets": {},
     "nuid": "f8ae5605-8c5b-4d00-a93f-03063e2940b8",
     "showTitle": false,
     "tableResultSettingsMap": {},
     "title": ""
    }
   },
   "outputs": [
    {
     "name": "stdout",
     "output_type": "stream",
     "text": [
      "+-------------------+----------+--------------------+-------+-------------+----+--------------+---+\n",
      "|           Order ID|      Date|              Status|  Style|     Category|Size|Courier Status|Qty|\n",
      "+-------------------+----------+--------------------+-------+-------------+----+--------------+---+\n",
      "|171-7326790-9044369|2022-03-31|             Shipped|JNE3614|        kurta|   L|       Shipped|  1|\n",
      "|171-7576304-0188338|2022-03-31|             Shipped|JNE3684|          Top|   S|       Shipped|  1|\n",
      "|171-7326790-9044369|2022-03-31|             Shipped|JNE3294|        kurta|   L|       Shipped|  1|\n",
      "|171-7192082-3049169|2022-03-31|           Cancelled|JNE3461|        kurta|   L|          null|  0|\n",
      "|402-9467302-4929937|2022-03-31|             Shipped|JNE3405|        kurta| 3XL|       Shipped|  1|\n",
      "|405-1392423-9557138|2022-03-31|             Shipped|JNE3068|        kurta|   L|       Shipped|  1|\n",
      "|407-7904992-8992306|2022-03-31|             Shipped|  J0281|          Set|   L|       Shipped|  1|\n",
      "|407-1987486-1549956|2022-03-31|             Shipped| SET268|          Set|  XL|       Shipped|  1|\n",
      "|408-8834155-2110755|2022-03-31|             Shipped|  J0126|          Set|   M|       Shipped|  1|\n",
      "|408-8834155-2110755|2022-03-31|             Shipped| SET227|          Set|   M|       Shipped|  1|\n",
      "|403-9181934-8229136|2022-03-31|             Shipped|JNE3504|        kurta|   L|       Shipped|  1|\n",
      "|407-4780334-9970765|2022-03-31|             Shipped| SET280|          Set|   S|       Shipped|  1|\n",
      "|402-7668856-0789906|2022-03-31|Shipped - Deliver...|JNE3797|Western Dress|   M|       Shipped|  1|\n",
      "|403-5713213-8502730|2022-03-31|Shipped - Deliver...|JNE3440|        kurta|   M|       Shipped|  1|\n",
      "|408-3697122-8357133|2022-03-31|           Cancelled|  J0230|          Set|   L|     Cancelled|  0|\n",
      "|407-4410431-5257168|2022-03-31|             Shipped| SET380|          Set|   L|       Shipped|  1|\n",
      "|406-4348588-3701933|2022-03-31|             Shipped| SET317|          Set|  XS|       Shipped|  1|\n",
      "|406-4348588-3701933|2022-03-31|             Shipped| SET184|          Set|  XS|       Shipped|  1|\n",
      "|406-2329571-0735529|2022-03-31|             Shipped|  J0127|          Set|  XS|       Shipped|  1|\n",
      "|402-3383741-5179527|2022-03-31|             Shipped|JNE3638|        kurta|  XL|       Shipped|  1|\n",
      "+-------------------+----------+--------------------+-------+-------------+----+--------------+---+\n",
      "only showing top 20 rows\n",
      "\n"
     ]
    }
   ],
   "source": [
    "df[['Order ID',\n",
    " 'Date',\n",
    " 'Status',\n",
    " 'Style',\n",
    " 'Category',\n",
    " 'Size',\n",
    " 'Courier Status',\n",
    " 'Qty',]].orderBy(df['Date'].asc()).show()"
   ]
  },
  {
   "cell_type": "code",
   "execution_count": null,
   "metadata": {
    "application/vnd.databricks.v1+cell": {
     "cellMetadata": {
      "byteLimit": 2048000,
      "rowLimit": 10000
     },
     "inputWidgets": {},
     "nuid": "30d034b7-6141-497d-8b05-8ef4c7be799f",
     "showTitle": false,
     "tableResultSettingsMap": {},
     "title": ""
    }
   },
   "outputs": [
    {
     "name": "stdout",
     "output_type": "stream",
     "text": [
      "+-------------------+----------+--------------------+--------+-------------+----+--------------+---+\n",
      "|           Order ID|      Date|              Status|   Style|     Category|Size|Courier Status|Qty|\n",
      "+-------------------+----------+--------------------+--------+-------------+----+--------------+---+\n",
      "|406-4348588-3701933|2022-03-31|             Shipped|  SET317|          Set|  XS|       Shipped|  1|\n",
      "|408-2124344-5269910|2022-03-31|             Shipped|  SET264|          Set|  XL|       Shipped|  1|\n",
      "|406-4348588-3701933|2022-03-31|             Shipped|  SET184|          Set|  XS|       Shipped|  1|\n",
      "|402-3383741-5179527|2022-03-31|             Shipped| JNE3638|        kurta|  XL|       Shipped|  1|\n",
      "|408-2513408-8602736|2022-03-31|             Shipped| JNE3160|        kurta|   M|       Shipped|  1|\n",
      "|171-7326790-9044369|2022-03-31|             Shipped| JNE3614|        kurta|   L|       Shipped|  1|\n",
      "|171-7576304-0188338|2022-03-31|             Shipped| JNE3684|          Top|   S|       Shipped|  1|\n",
      "|402-9467302-4929937|2022-03-31|             Shipped| JNE3405|        kurta| 3XL|       Shipped|  1|\n",
      "|408-3038942-1690750|2022-03-31|             Shipped| JNE3794|        kurta| 3XL|       Shipped|  1|\n",
      "|407-9562445-9572337|2022-03-31|             Shipped| JNE2199|        kurta|  XL|       Shipped|  1|\n",
      "|407-7904992-8992306|2022-03-31|             Shipped|   J0281|          Set|   L|       Shipped|  1|\n",
      "|407-9562445-9572337|2022-03-31|             Shipped| JNE3415|        kurta|  XL|       Shipped|  1|\n",
      "|408-8834155-2110755|2022-03-31|             Shipped|   J0126|          Set|   M|       Shipped|  1|\n",
      "|407-9562445-9572337|2022-03-31|             Shipped| JNE3291|        kurta|  XL|       Shipped|  1|\n",
      "|403-9181934-8229136|2022-03-31|             Shipped| JNE3504|        kurta|   L|       Shipped|  1|\n",
      "|408-8949109-9614720|2022-03-31|             Shipped|PJNE3373|        kurta| 6XL|       Shipped|  1|\n",
      "|402-7668856-0789906|2022-03-31|Shipped - Deliver...| JNE3797|Western Dress|   M|       Shipped|  1|\n",
      "|408-0304432-7862751|2022-03-31|             Shipped| JNE3675|          Top| 3XL|       Shipped|  1|\n",
      "|407-4410431-5257168|2022-03-31|             Shipped|  SET380|          Set|   L|       Shipped|  1|\n",
      "|403-0545732-1280330|2022-03-31|             Shipped| JNE3396|        kurta|   M|       Shipped|  1|\n",
      "+-------------------+----------+--------------------+--------+-------------+----+--------------+---+\n",
      "only showing top 20 rows\n",
      "\n"
     ]
    }
   ],
   "source": [
    "## sorting with more than one column\n",
    "\n",
    "df[['Order ID',\n",
    " 'Date',\n",
    " 'Status',\n",
    " 'Style',\n",
    " 'Category',\n",
    " 'Size',\n",
    " 'Courier Status',\n",
    " 'Qty',]].orderBy(df['Date'].asc(),df['Qty'].desc()).show()"
   ]
  },
  {
   "cell_type": "code",
   "execution_count": null,
   "metadata": {
    "application/vnd.databricks.v1+cell": {
     "cellMetadata": {
      "byteLimit": 2048000,
      "rowLimit": 10000
     },
     "inputWidgets": {},
     "nuid": "1dc5ebe9-3a23-4231-baf9-7edf23126622",
     "showTitle": false,
     "tableResultSettingsMap": {},
     "title": ""
    }
   },
   "outputs": [
    {
     "name": "stdout",
     "output_type": "stream",
     "text": [
      "+--------------------+\n",
      "|              Status|\n",
      "+--------------------+\n",
      "|             Shipped|\n",
      "|Shipped - Lost in...|\n",
      "|Shipped - Deliver...|\n",
      "|Shipped - Returni...|\n",
      "|Shipped - Rejecte...|\n",
      "|           Cancelled|\n",
      "|Shipped - Returne...|\n",
      "|Shipped - Out for...|\n",
      "| Shipped - Picked Up|\n",
      "|             Pending|\n",
      "|Pending - Waiting...|\n",
      "|   Shipped - Damaged|\n",
      "|            Shipping|\n",
      "+--------------------+\n",
      "\n"
     ]
    }
   ],
   "source": [
    "## checking unique values\n",
    "\n",
    "df.select('Status').distinct().show()"
   ]
  },
  {
   "cell_type": "code",
   "execution_count": null,
   "metadata": {
    "application/vnd.databricks.v1+cell": {
     "cellMetadata": {
      "byteLimit": 2048000,
      "rowLimit": 10000
     },
     "inputWidgets": {},
     "nuid": "1a8c6e70-23a2-4e88-8afb-f7355ed1f781",
     "showTitle": false,
     "tableResultSettingsMap": {},
     "title": ""
    }
   },
   "outputs": [
    {
     "name": "stdout",
     "output_type": "stream",
     "text": [
      "Out[30]: 128975"
     ]
    }
   ],
   "source": [
    "## removing duplicates\n",
    "\n",
    "df3.count()"
   ]
  },
  {
   "cell_type": "code",
   "execution_count": null,
   "metadata": {
    "application/vnd.databricks.v1+cell": {
     "cellMetadata": {
      "byteLimit": 2048000,
      "rowLimit": 10000
     },
     "inputWidgets": {},
     "nuid": "22aae81b-f3ee-4e17-b053-ef461c331552",
     "showTitle": false,
     "tableResultSettingsMap": {},
     "title": ""
    }
   },
   "outputs": [
    {
     "name": "stdout",
     "output_type": "stream",
     "text": [
      "Out[31]: 128968"
     ]
    }
   ],
   "source": [
    "df3.dropDuplicates().count()"
   ]
  },
  {
   "cell_type": "code",
   "execution_count": null,
   "metadata": {
    "application/vnd.databricks.v1+cell": {
     "cellMetadata": {
      "byteLimit": 2048000,
      "rowLimit": 10000
     },
     "inputWidgets": {},
     "nuid": "027a9803-fc37-400c-8f56-a071119b806f",
     "showTitle": false,
     "tableResultSettingsMap": {},
     "title": ""
    }
   },
   "outputs": [
    {
     "name": "stdout",
     "output_type": "stream",
     "text": [
      "Out[32]: 120378"
     ]
    }
   ],
   "source": [
    "df3.dropDuplicates(['Order ID','Status']).count()"
   ]
  },
  {
   "cell_type": "code",
   "execution_count": null,
   "metadata": {
    "application/vnd.databricks.v1+cell": {
     "cellMetadata": {
      "byteLimit": 2048000,
      "rowLimit": 10000
     },
     "inputWidgets": {},
     "nuid": "5f85cf38-4e5a-41c5-afc8-ecd5ff75b9c4",
     "showTitle": false,
     "tableResultSettingsMap": {},
     "title": ""
    }
   },
   "outputs": [],
   "source": [
    "## union operation\n",
    "\n",
    "df4 = df3.union(df3)\n"
   ]
  },
  {
   "cell_type": "code",
   "execution_count": null,
   "metadata": {
    "application/vnd.databricks.v1+cell": {
     "cellMetadata": {
      "byteLimit": 2048000,
      "rowLimit": 10000
     },
     "inputWidgets": {},
     "nuid": "5ee85986-2b56-45e3-a710-3f221afbd082",
     "showTitle": false,
     "tableResultSettingsMap": {},
     "title": ""
    }
   },
   "outputs": [
    {
     "name": "stdout",
     "output_type": "stream",
     "text": [
      "Out[34]: 257950"
     ]
    }
   ],
   "source": [
    "df4.count()"
   ]
  },
  {
   "cell_type": "code",
   "execution_count": null,
   "metadata": {
    "application/vnd.databricks.v1+cell": {
     "cellMetadata": {
      "byteLimit": 2048000,
      "rowLimit": 10000
     },
     "inputWidgets": {},
     "nuid": "392683a1-1599-41b1-aff1-3ad668321572",
     "showTitle": false,
     "tableResultSettingsMap": {},
     "title": ""
    }
   },
   "outputs": [
    {
     "name": "stdout",
     "output_type": "stream",
     "text": [
      "Out[35]: ['Order ID',\n",
      " 'Date',\n",
      " 'Status',\n",
      " 'Style',\n",
      " 'Category',\n",
      " 'Size',\n",
      " 'Courier_Status',\n",
      " 'Qty',\n",
      " 'currency',\n",
      " 'ship_state',\n",
      " 'ship_country',\n",
      " 'fulfilled_by']"
     ]
    }
   ],
   "source": [
    "## conditional logic\n",
    "\n",
    "df4.columns"
   ]
  },
  {
   "cell_type": "code",
   "execution_count": null,
   "metadata": {
    "application/vnd.databricks.v1+cell": {
     "cellMetadata": {
      "byteLimit": 2048000,
      "rowLimit": 10000
     },
     "inputWidgets": {},
     "nuid": "4cce06b5-d16c-46fc-b1c1-e40c61a41835",
     "showTitle": false,
     "tableResultSettingsMap": {},
     "title": ""
    }
   },
   "outputs": [
    {
     "name": "stdout",
     "output_type": "stream",
     "text": [
      "+----+\n",
      "|Size|\n",
      "+----+\n",
      "|  XL|\n",
      "| 4XL|\n",
      "| 3XL|\n",
      "| 5XL|\n",
      "|   L|\n",
      "|   M|\n",
      "|   S|\n",
      "|  XS|\n",
      "| XXL|\n",
      "| 6XL|\n",
      "|Free|\n",
      "+----+\n",
      "\n"
     ]
    }
   ],
   "source": [
    "df4.select('Size').distinct().show()"
   ]
  },
  {
   "cell_type": "code",
   "execution_count": null,
   "metadata": {
    "application/vnd.databricks.v1+cell": {
     "cellMetadata": {
      "byteLimit": 2048000,
      "rowLimit": 10000
     },
     "inputWidgets": {},
     "nuid": "08d60843-1779-40b2-aecd-1dfd0780d973",
     "showTitle": false,
     "tableResultSettingsMap": {},
     "title": ""
    }
   },
   "outputs": [
    {
     "name": "stdout",
     "output_type": "stream",
     "text": [
      "+---+\n",
      "|Qty|\n",
      "+---+\n",
      "|  1|\n",
      "| 13|\n",
      "|  3|\n",
      "|  5|\n",
      "| 15|\n",
      "|  9|\n",
      "|  4|\n",
      "|  2|\n",
      "|  0|\n",
      "|  8|\n",
      "+---+\n",
      "\n"
     ]
    }
   ],
   "source": [
    "df4.select('Qty').distinct().show()"
   ]
  },
  {
   "cell_type": "code",
   "execution_count": null,
   "metadata": {
    "application/vnd.databricks.v1+cell": {
     "cellMetadata": {
      "byteLimit": 2048000,
      "rowLimit": 10000
     },
     "inputWidgets": {},
     "nuid": "a1b05231-d5a9-48da-8283-646a790169f6",
     "showTitle": false,
     "tableResultSettingsMap": {},
     "title": ""
    }
   },
   "outputs": [],
   "source": [
    "## creating new columns based on a specific condition \n",
    "from pyspark.sql.functions import when\n",
    "\n",
    "\n",
    "df4 = df4.withColumn('Qty_type',when(df['Qty'] < 5,'small').otherwise('large'))"
   ]
  },
  {
   "cell_type": "code",
   "execution_count": null,
   "metadata": {
    "application/vnd.databricks.v1+cell": {
     "cellMetadata": {
      "byteLimit": 2048000,
      "rowLimit": 10000
     },
     "inputWidgets": {},
     "nuid": "12367c05-7145-4357-b274-92a585247f8f",
     "showTitle": false,
     "tableResultSettingsMap": {},
     "title": ""
    }
   },
   "outputs": [
    {
     "name": "stdout",
     "output_type": "stream",
     "text": [
      "Out[39]: ['Order ID',\n",
      " 'Date',\n",
      " 'Status',\n",
      " 'Style',\n",
      " 'Category',\n",
      " 'Size',\n",
      " 'Courier_Status',\n",
      " 'Qty',\n",
      " 'currency',\n",
      " 'ship_state',\n",
      " 'ship_country',\n",
      " 'fulfilled_by',\n",
      " 'Qty_type']"
     ]
    }
   ],
   "source": [
    "df4.columns"
   ]
  },
  {
   "cell_type": "code",
   "execution_count": null,
   "metadata": {
    "application/vnd.databricks.v1+cell": {
     "cellMetadata": {
      "byteLimit": 2048000,
      "rowLimit": 10000
     },
     "inputWidgets": {},
     "nuid": "0a87f321-1951-4f8e-8ff9-1d07348fc1f3",
     "showTitle": false,
     "tableResultSettingsMap": {},
     "title": ""
    }
   },
   "outputs": [
    {
     "name": "stdout",
     "output_type": "stream",
     "text": [
      "+-------------------+---+--------+\n",
      "|           Order ID|Qty|Qty_type|\n",
      "+-------------------+---+--------+\n",
      "|405-8078784-5731545|  0|   small|\n",
      "|171-9198151-1101146|  1|   small|\n",
      "|404-0687676-7273146|  1|   small|\n",
      "|403-9615377-8133951|  0|   small|\n",
      "|407-1069790-7240320|  1|   small|\n",
      "|404-1490984-4578765|  1|   small|\n",
      "|408-5748499-6859555|  1|   small|\n",
      "|406-7807733-3785945|  1|   small|\n",
      "|407-5443024-5233168|  0|   small|\n",
      "|402-4393761-0311520|  1|   small|\n",
      "|407-5633625-6970741|  1|   small|\n",
      "|171-4638481-6326716|  1|   small|\n",
      "|405-5513694-8146768|  1|   small|\n",
      "|408-7955685-3083534|  1|   small|\n",
      "|408-1298370-1920302|  1|   small|\n",
      "|403-4965581-9520319|  1|   small|\n",
      "|406-9379318-6555504|  1|   small|\n",
      "|405-9013803-8009918|  1|   small|\n",
      "|402-4030358-5835511|  1|   small|\n",
      "|405-5957858-1051546|  1|   small|\n",
      "+-------------------+---+--------+\n",
      "only showing top 20 rows\n",
      "\n"
     ]
    }
   ],
   "source": [
    "df4[['Order ID','Qty','Qty_type']].show()"
   ]
  },
  {
   "cell_type": "code",
   "execution_count": null,
   "metadata": {
    "application/vnd.databricks.v1+cell": {
     "cellMetadata": {
      "byteLimit": 2048000,
      "rowLimit": 10000
     },
     "inputWidgets": {},
     "nuid": "74254421-79fd-473f-9b33-c5772c14f303",
     "showTitle": false,
     "tableResultSettingsMap": {},
     "title": ""
    }
   },
   "outputs": [
    {
     "name": "stdout",
     "output_type": "stream",
     "text": [
      "+-------------------+---+--------+\n",
      "|           Order ID|Qty|Qty_type|\n",
      "+-------------------+---+--------+\n",
      "|S02-5278980-4327051| 15|   large|\n",
      "|S02-1006261-5356758|  9|   large|\n",
      "|S02-6828927-1180856| 13|   large|\n",
      "|403-4106553-1691525|  5|   large|\n",
      "|402-5239558-4281957|  8|   large|\n",
      "|403-4040971-3884354|  5|   large|\n",
      "|S02-5278980-4327051| 15|   large|\n",
      "|S02-1006261-5356758|  9|   large|\n",
      "|S02-6828927-1180856| 13|   large|\n",
      "|403-4106553-1691525|  5|   large|\n",
      "|402-5239558-4281957|  8|   large|\n",
      "|403-4040971-3884354|  5|   large|\n",
      "+-------------------+---+--------+\n",
      "\n"
     ]
    }
   ],
   "source": [
    "## filtering based on a condition \n",
    "\n",
    "df4[['Order ID','Qty','Qty_type']].filter(df4['Qty_type'] == 'large').show()"
   ]
  },
  {
   "cell_type": "code",
   "execution_count": null,
   "metadata": {
    "application/vnd.databricks.v1+cell": {
     "cellMetadata": {
      "byteLimit": 2048000,
      "rowLimit": 10000
     },
     "inputWidgets": {},
     "nuid": "6390aa3d-a836-4ae9-95ab-41304d6db017",
     "showTitle": false,
     "tableResultSettingsMap": {},
     "title": ""
    }
   },
   "outputs": [
    {
     "name": "stdout",
     "output_type": "stream",
     "text": [
      "+-------+-------------------+---------+------+--------+------+--------------+------------------+--------+------------------+------------+------------+--------+\n",
      "|summary|           Order ID|   Status| Style|Category|  Size|Courier_Status|               Qty|currency|        ship_state|ship_country|fulfilled_by|Qty_type|\n",
      "+-------+-------------------+---------+------+--------+------+--------------+------------------+--------+------------------+------------+------------+--------+\n",
      "|  count|             257950|   257950|257950|  257950|257950|        244206|            257950|  242360|            257884|      257884|       78554|  257950|\n",
      "|   mean|               null|     null|  null|    null|  null|          null|0.9044310912967629|    null|              null|        null|        null|    null|\n",
      "| stddev|               null|     null|  null|    null|  null|          null|0.3133529782550991|    null|              null|        null|        null|    null|\n",
      "|    min|171-0000547-8192359|Cancelled| AN201|  Blouse|   3XL|     Cancelled|                 0|     INR|ANDAMAN & NICOBAR |          IN|   Easy Ship|   large|\n",
      "|    max|S02-9878098-5959538| Shipping|SET462|   kurta|   XXL|     Unshipped|                15|     INR|          rajsthan|          IN|   Easy Ship|   small|\n",
      "+-------+-------------------+---------+------+--------+------+--------------+------------------+--------+------------------+------------+------------+--------+\n",
      "\n"
     ]
    }
   ],
   "source": [
    "## summary statistics \n",
    "\n",
    "df4.describe().show()"
   ]
  },
  {
   "cell_type": "code",
   "execution_count": null,
   "metadata": {
    "application/vnd.databricks.v1+cell": {
     "cellMetadata": {
      "byteLimit": 2048000,
      "rowLimit": 10000
     },
     "inputWidgets": {},
     "nuid": "81688ba9-f45b-4eb5-a602-556366faf867",
     "showTitle": false,
     "tableResultSettingsMap": {},
     "title": ""
    }
   },
   "outputs": [
    {
     "name": "stdout",
     "output_type": "stream",
     "text": [
      "+-------+-------------------+---------+------+------------------+--------+--------+\n",
      "|summary|           Order ID|   Status|  Size|               Qty|currency|Qty_type|\n",
      "+-------+-------------------+---------+------+------------------+--------+--------+\n",
      "|  count|             257950|   257950|257950|            257950|  242360|  257950|\n",
      "|   mean|               null|     null|  null|0.9044310912967629|    null|    null|\n",
      "| stddev|               null|     null|  null|0.3133529782550991|    null|    null|\n",
      "|    min|171-0000547-8192359|Cancelled|   3XL|                 0|     INR|   large|\n",
      "|    max|S02-9878098-5959538| Shipping|   XXL|                15|     INR|   small|\n",
      "+-------+-------------------+---------+------+------------------+--------+--------+\n",
      "\n"
     ]
    }
   ],
   "source": [
    "df4[['Order ID',\n",
    " 'Date',\n",
    " 'Status','Size','Qty',\n",
    " 'currency','Qty_type']].describe().show()"
   ]
  },
  {
   "cell_type": "code",
   "execution_count": null,
   "metadata": {
    "application/vnd.databricks.v1+cell": {
     "cellMetadata": {
      "byteLimit": 2048000,
      "rowLimit": 10000
     },
     "inputWidgets": {},
     "nuid": "67bb04df-aaca-4dac-a514-422082f31219",
     "showTitle": false,
     "tableResultSettingsMap": {},
     "title": ""
    }
   },
   "outputs": [
    {
     "name": "stdout",
     "output_type": "stream",
     "text": [
      "+---------------+--------------------+\n",
      "|upper(Qty_type)|       lower(Status)|\n",
      "+---------------+--------------------+\n",
      "|          SMALL|           cancelled|\n",
      "|          SMALL|shipped - deliver...|\n",
      "|          SMALL|             shipped|\n",
      "|          SMALL|           cancelled|\n",
      "|          SMALL|             shipped|\n",
      "|          SMALL|             shipped|\n",
      "|          SMALL|             shipped|\n",
      "|          SMALL|shipped - deliver...|\n",
      "|          SMALL|           cancelled|\n",
      "|          SMALL|             shipped|\n",
      "|          SMALL|             shipped|\n",
      "|          SMALL|             shipped|\n",
      "|          SMALL|shipped - deliver...|\n",
      "|          SMALL|             shipped|\n",
      "|          SMALL|shipped - deliver...|\n",
      "|          SMALL|shipped - deliver...|\n",
      "|          SMALL|             shipped|\n",
      "|          SMALL|             shipped|\n",
      "|          SMALL|shipped - deliver...|\n",
      "|          SMALL|             shipped|\n",
      "+---------------+--------------------+\n",
      "only showing top 20 rows\n",
      "\n"
     ]
    }
   ],
   "source": [
    "from pyspark.sql.functions import upper, lower\n",
    "\n",
    "df4.select(upper('Qty_type'),lower('Status')).show()"
   ]
  },
  {
   "cell_type": "code",
   "execution_count": null,
   "metadata": {
    "application/vnd.databricks.v1+cell": {
     "cellMetadata": {
      "byteLimit": 2048000,
      "rowLimit": 10000
     },
     "inputWidgets": {},
     "nuid": "23bb6db9-a25b-4d88-940f-1bacd865ab4e",
     "showTitle": false,
     "tableResultSettingsMap": {},
     "title": ""
    }
   },
   "outputs": [
    {
     "name": "stdout",
     "output_type": "stream",
     "text": [
      "+--------------------+\n",
      "|        trim(Status)|\n",
      "+--------------------+\n",
      "|           Cancelled|\n",
      "|Shipped - Deliver...|\n",
      "|             Shipped|\n",
      "|           Cancelled|\n",
      "|             Shipped|\n",
      "|             Shipped|\n",
      "|             Shipped|\n",
      "|Shipped - Deliver...|\n",
      "|           Cancelled|\n",
      "|             Shipped|\n",
      "|             Shipped|\n",
      "|             Shipped|\n",
      "|Shipped - Deliver...|\n",
      "|             Shipped|\n",
      "|Shipped - Deliver...|\n",
      "|Shipped - Deliver...|\n",
      "|             Shipped|\n",
      "|             Shipped|\n",
      "|Shipped - Deliver...|\n",
      "|             Shipped|\n",
      "+--------------------+\n",
      "only showing top 20 rows\n",
      "\n"
     ]
    }
   ],
   "source": [
    "## trim -- removing white spaces \n",
    "\n",
    "from pyspark.sql.functions import trim\n",
    "\n",
    "df4.select(trim('Status')).show()"
   ]
  },
  {
   "cell_type": "code",
   "execution_count": null,
   "metadata": {
    "application/vnd.databricks.v1+cell": {
     "cellMetadata": {
      "byteLimit": 2048000,
      "rowLimit": 10000
     },
     "inputWidgets": {},
     "nuid": "906a0d93-789b-4778-b205-d2e33e3f8cfc",
     "showTitle": false,
     "tableResultSettingsMap": {},
     "title": ""
    }
   },
   "outputs": [
    {
     "name": "stdout",
     "output_type": "stream",
     "text": [
      "+--------------------+--------------+\n",
      "|        trim(Status)|trim(Qty_type)|\n",
      "+--------------------+--------------+\n",
      "|           Cancelled|         small|\n",
      "|Shipped - Deliver...|         small|\n",
      "|             Shipped|         small|\n",
      "|           Cancelled|         small|\n",
      "|             Shipped|         small|\n",
      "|             Shipped|         small|\n",
      "|             Shipped|         small|\n",
      "|Shipped - Deliver...|         small|\n",
      "|           Cancelled|         small|\n",
      "|             Shipped|         small|\n",
      "|             Shipped|         small|\n",
      "|             Shipped|         small|\n",
      "|Shipped - Deliver...|         small|\n",
      "|             Shipped|         small|\n",
      "|Shipped - Deliver...|         small|\n",
      "|Shipped - Deliver...|         small|\n",
      "|             Shipped|         small|\n",
      "|             Shipped|         small|\n",
      "|Shipped - Deliver...|         small|\n",
      "|             Shipped|         small|\n",
      "+--------------------+--------------+\n",
      "only showing top 20 rows\n",
      "\n"
     ]
    }
   ],
   "source": [
    "df4.select(trim('Status'),trim('Qty_type')).show()"
   ]
  },
  {
   "cell_type": "code",
   "execution_count": null,
   "metadata": {
    "application/vnd.databricks.v1+cell": {
     "cellMetadata": {
      "byteLimit": 2048000,
      "rowLimit": 10000
     },
     "inputWidgets": {},
     "nuid": "e4fc8633-793e-4e20-94be-ed22e373a3f1",
     "showTitle": false,
     "tableResultSettingsMap": {},
     "title": ""
    }
   },
   "outputs": [
    {
     "name": "stdout",
     "output_type": "stream",
     "text": [
      "+-------------+\n",
      "|round(Qty, 0)|\n",
      "+-------------+\n",
      "|            0|\n",
      "|            1|\n",
      "|            1|\n",
      "|            0|\n",
      "|            1|\n",
      "|            1|\n",
      "|            1|\n",
      "|            1|\n",
      "|            0|\n",
      "|            1|\n",
      "|            1|\n",
      "|            1|\n",
      "|            1|\n",
      "|            1|\n",
      "|            1|\n",
      "|            1|\n",
      "|            1|\n",
      "|            1|\n",
      "|            1|\n",
      "|            1|\n",
      "+-------------+\n",
      "only showing top 20 rows\n",
      "\n"
     ]
    }
   ],
   "source": [
    "## rounding off the decimal points \n",
    "from pyspark.sql.functions import round\n",
    "\n",
    "df4.select(round('Qty')).show()"
   ]
  },
  {
   "cell_type": "code",
   "execution_count": null,
   "metadata": {
    "application/vnd.databricks.v1+cell": {
     "cellMetadata": {
      "byteLimit": 2048000,
      "rowLimit": 10000
     },
     "inputWidgets": {},
     "nuid": "ba0e3553-80fa-46dd-ad47-20f23c3d8908",
     "showTitle": false,
     "tableResultSettingsMap": {},
     "title": ""
    }
   },
   "outputs": [
    {
     "name": "stdout",
     "output_type": "stream",
     "text": [
      "+--------------------+\n",
      "|split(Status, -, -1)|\n",
      "+--------------------+\n",
      "|         [Cancelled]|\n",
      "|[Shipped ,  Deliv...|\n",
      "|           [Shipped]|\n",
      "|         [Cancelled]|\n",
      "|           [Shipped]|\n",
      "|           [Shipped]|\n",
      "|           [Shipped]|\n",
      "|[Shipped ,  Deliv...|\n",
      "|         [Cancelled]|\n",
      "|           [Shipped]|\n",
      "|           [Shipped]|\n",
      "|           [Shipped]|\n",
      "|[Shipped ,  Deliv...|\n",
      "|           [Shipped]|\n",
      "|[Shipped ,  Deliv...|\n",
      "|[Shipped ,  Deliv...|\n",
      "|           [Shipped]|\n",
      "|           [Shipped]|\n",
      "|[Shipped ,  Deliv...|\n",
      "|           [Shipped]|\n",
      "+--------------------+\n",
      "only showing top 20 rows\n",
      "\n"
     ]
    }
   ],
   "source": [
    "## spliting the values in a column \n",
    "from pyspark.sql.functions import split\n",
    "\n",
    "df4.select(split('Status','-')).show()"
   ]
  },
  {
   "cell_type": "code",
   "execution_count": null,
   "metadata": {
    "application/vnd.databricks.v1+cell": {
     "cellMetadata": {
      "byteLimit": 2048000,
      "rowLimit": 10000
     },
     "inputWidgets": {},
     "nuid": "e6cf42f4-986d-4b9d-8948-4f656c62a189",
     "showTitle": false,
     "tableResultSettingsMap": {},
     "title": ""
    }
   },
   "outputs": [],
   "source": [
    "## creating new columns using split (array column)\n",
    "\n",
    "df4 = df4.withColumn('split_status',split(df4['Status'],'-'))"
   ]
  },
  {
   "cell_type": "code",
   "execution_count": null,
   "metadata": {
    "application/vnd.databricks.v1+cell": {
     "cellMetadata": {
      "byteLimit": 2048000,
      "rowLimit": 10000
     },
     "inputWidgets": {},
     "nuid": "11548717-de3f-4cc4-85e5-96ec697e1d2c",
     "showTitle": false,
     "tableResultSettingsMap": {},
     "title": ""
    }
   },
   "outputs": [
    {
     "name": "stdout",
     "output_type": "stream",
     "text": [
      "+--------------------+\n",
      "|        split_status|\n",
      "+--------------------+\n",
      "|         [Cancelled]|\n",
      "|[Shipped ,  Deliv...|\n",
      "|           [Shipped]|\n",
      "|         [Cancelled]|\n",
      "|           [Shipped]|\n",
      "|           [Shipped]|\n",
      "|           [Shipped]|\n",
      "|[Shipped ,  Deliv...|\n",
      "|         [Cancelled]|\n",
      "|           [Shipped]|\n",
      "|           [Shipped]|\n",
      "|           [Shipped]|\n",
      "|[Shipped ,  Deliv...|\n",
      "|           [Shipped]|\n",
      "|[Shipped ,  Deliv...|\n",
      "|[Shipped ,  Deliv...|\n",
      "|           [Shipped]|\n",
      "|           [Shipped]|\n",
      "|[Shipped ,  Deliv...|\n",
      "|           [Shipped]|\n",
      "+--------------------+\n",
      "only showing top 20 rows\n",
      "\n"
     ]
    }
   ],
   "source": [
    "df4.select(col('split_status')).show()"
   ]
  },
  {
   "cell_type": "code",
   "execution_count": null,
   "metadata": {
    "application/vnd.databricks.v1+cell": {
     "cellMetadata": {
      "byteLimit": 2048000,
      "rowLimit": 10000
     },
     "inputWidgets": {},
     "nuid": "4c542639-3d1a-4ecd-b212-1567adea82ed",
     "showTitle": false,
     "tableResultSettingsMap": {},
     "title": ""
    }
   },
   "outputs": [
    {
     "name": "stdout",
     "output_type": "stream",
     "text": [
      "+-------------------------------------+\n",
      "|array_contains(split_status, Shipped)|\n",
      "+-------------------------------------+\n",
      "|                                false|\n",
      "|                                false|\n",
      "|                                 true|\n",
      "|                                false|\n",
      "|                                 true|\n",
      "|                                 true|\n",
      "|                                 true|\n",
      "|                                false|\n",
      "|                                false|\n",
      "|                                 true|\n",
      "|                                 true|\n",
      "|                                 true|\n",
      "|                                false|\n",
      "|                                 true|\n",
      "|                                false|\n",
      "|                                false|\n",
      "|                                 true|\n",
      "|                                 true|\n",
      "|                                false|\n",
      "|                                 true|\n",
      "+-------------------------------------+\n",
      "only showing top 20 rows\n",
      "\n"
     ]
    }
   ],
   "source": [
    "## checking or filtering values inside array\n",
    "from pyspark.sql.functions import array_contains\n",
    "\n",
    "df4.select(array_contains(col('split_status'),'Shipped')).show() "
   ]
  },
  {
   "cell_type": "code",
   "execution_count": null,
   "metadata": {
    "application/vnd.databricks.v1+cell": {
     "cellMetadata": {
      "byteLimit": 2048000,
      "rowLimit": 10000
     },
     "inputWidgets": {},
     "nuid": "58128c97-c1eb-4e9d-8501-f2b28019b532",
     "showTitle": false,
     "tableResultSettingsMap": {},
     "title": ""
    }
   },
   "outputs": [
    {
     "name": "stdout",
     "output_type": "stream",
     "text": [
      "+-------------------+----------+-------+----+---+--------+--------+------------+\n",
      "|           Order ID|      Date| Status|Size|Qty|currency|Qty_type|split_status|\n",
      "+-------------------+----------+-------+----+---+--------+--------+------------+\n",
      "|404-0687676-7273146|2022-04-30|Shipped|  XL|  1|     INR|   small|   [Shipped]|\n",
      "|407-1069790-7240320|2022-04-30|Shipped| 3XL|  1|     INR|   small|   [Shipped]|\n",
      "|404-1490984-4578765|2022-04-30|Shipped|  XL|  1|     INR|   small|   [Shipped]|\n",
      "|408-5748499-6859555|2022-04-30|Shipped|   L|  1|     INR|   small|   [Shipped]|\n",
      "|402-4393761-0311520|2022-04-30|Shipped| XXL|  1|     INR|   small|   [Shipped]|\n",
      "|407-5633625-6970741|2022-04-30|Shipped|   S|  1|     INR|   small|   [Shipped]|\n",
      "|171-4638481-6326716|2022-04-30|Shipped|  XS|  1|     INR|   small|   [Shipped]|\n",
      "|408-7955685-3083534|2022-04-30|Shipped|  XS|  1|     INR|   small|   [Shipped]|\n",
      "|406-9379318-6555504|2022-04-30|Shipped| XXL|  1|     INR|   small|   [Shipped]|\n",
      "|405-9013803-8009918|2022-04-30|Shipped|  XL|  1|     INR|   small|   [Shipped]|\n",
      "|405-5957858-1051546|2022-04-30|Shipped|  XS|  1|     INR|   small|   [Shipped]|\n",
      "|405-0607769-0716360|2022-04-30|Shipped| 3XL|  1|     INR|   small|   [Shipped]|\n",
      "|404-8494550-5860325|2022-04-30|Shipped|   M|  1|     INR|   small|   [Shipped]|\n",
      "|171-1305077-2813934|2022-04-30|Shipped|   L|  1|     INR|   small|   [Shipped]|\n",
      "|402-3384087-4005164|2022-04-30|Shipped|   L|  1|     INR|   small|   [Shipped]|\n",
      "|408-3484251-6901959|2022-04-30|Shipped| 4XL|  1|     INR|   small|   [Shipped]|\n",
      "|405-7755803-4729935|2022-04-30|Shipped|   M|  1|     INR|   small|   [Shipped]|\n",
      "|171-9040274-9291563|2022-04-30|Shipped|   S|  1|     INR|   small|   [Shipped]|\n",
      "|403-7056319-0979561|2022-04-30|Shipped|  XL|  1|     INR|   small|   [Shipped]|\n",
      "|404-7774085-3780319|2022-04-30|Shipped|  XL|  1|     INR|   small|   [Shipped]|\n",
      "+-------------------+----------+-------+----+---+--------+--------+------------+\n",
      "only showing top 20 rows\n",
      "\n"
     ]
    }
   ],
   "source": [
    "df4[['Order ID',\n",
    " 'Date',\n",
    " 'Status','Size','Qty',\n",
    " 'currency','Qty_type','split_status']].filter(array_contains('split_status','Shipped')).show()"
   ]
  },
  {
   "cell_type": "code",
   "execution_count": null,
   "metadata": {
    "application/vnd.databricks.v1+cell": {
     "cellMetadata": {
      "byteLimit": 2048000,
      "rowLimit": 10000
     },
     "inputWidgets": {},
     "nuid": "5a2e765e-95ee-4526-988e-c9ba3d1cbc79",
     "showTitle": false,
     "tableResultSettingsMap": {},
     "title": ""
    }
   },
   "outputs": [
    {
     "name": "stdout",
     "output_type": "stream",
     "text": [
      "+-------------------+\n",
      "|                col|\n",
      "+-------------------+\n",
      "|          Cancelled|\n",
      "|           Shipped |\n",
      "| Delivered to Buyer|\n",
      "|            Shipped|\n",
      "|          Cancelled|\n",
      "|            Shipped|\n",
      "|            Shipped|\n",
      "|            Shipped|\n",
      "|           Shipped |\n",
      "| Delivered to Buyer|\n",
      "|          Cancelled|\n",
      "|            Shipped|\n",
      "|            Shipped|\n",
      "|            Shipped|\n",
      "|           Shipped |\n",
      "| Delivered to Buyer|\n",
      "|            Shipped|\n",
      "|           Shipped |\n",
      "| Delivered to Buyer|\n",
      "|           Shipped |\n",
      "+-------------------+\n",
      "only showing top 20 rows\n",
      "\n"
     ]
    }
   ],
   "source": [
    "## explode function -- flatening aarray column\n",
    "\n",
    "from pyspark.sql.functions import explode\n",
    "\n",
    "df4.select(explode(col('split_status'))).show()"
   ]
  },
  {
   "cell_type": "code",
   "execution_count": null,
   "metadata": {
    "application/vnd.databricks.v1+cell": {
     "cellMetadata": {
      "byteLimit": 2048000,
      "rowLimit": 10000
     },
     "inputWidgets": {},
     "nuid": "3f0d6674-dd44-4377-be0f-04e95faca060",
     "showTitle": false,
     "tableResultSettingsMap": {},
     "title": ""
    }
   },
   "outputs": [],
   "source": []
  },
  {
   "cell_type": "code",
   "execution_count": null,
   "metadata": {
    "application/vnd.databricks.v1+cell": {
     "cellMetadata": {
      "byteLimit": 2048000,
      "rowLimit": 10000
     },
     "inputWidgets": {},
     "nuid": "80a8e867-5327-4dc3-9da4-9b9c70836b1e",
     "showTitle": false,
     "tableResultSettingsMap": {},
     "title": ""
    }
   },
   "outputs": [
    {
     "name": "stdout",
     "output_type": "stream",
     "text": [
      "Out[54]: ['Order ID',\n",
      " 'Date',\n",
      " 'Status',\n",
      " 'Style',\n",
      " 'Category',\n",
      " 'Size',\n",
      " 'Courier_Status',\n",
      " 'Qty',\n",
      " 'currency',\n",
      " 'ship_state',\n",
      " 'ship_country',\n",
      " 'fulfilled_by',\n",
      " 'Qty_type',\n",
      " 'split_status']"
     ]
    }
   ],
   "source": [
    "df4.columns"
   ]
  },
  {
   "cell_type": "code",
   "execution_count": null,
   "metadata": {
    "application/vnd.databricks.v1+cell": {
     "cellMetadata": {
      "byteLimit": 2048000,
      "rowLimit": 10000
     },
     "inputWidgets": {},
     "nuid": "c82fa3c5-1218-41d0-9b5d-e5ae0ef7e46e",
     "showTitle": false,
     "tableResultSettingsMap": {},
     "title": ""
    }
   },
   "outputs": [],
   "source": [
    "### joins\n",
    "\n",
    "## creating two different data frames\n",
    "\n",
    "df5 = df4.select('Order ID','Date','Category')\n",
    "\n",
    "df6 = df4.select('Order ID','Status','Qty','ship_country')"
   ]
  },
  {
   "cell_type": "code",
   "execution_count": null,
   "metadata": {
    "application/vnd.databricks.v1+cell": {
     "cellMetadata": {
      "byteLimit": 2048000,
      "rowLimit": 10000
     },
     "inputWidgets": {},
     "nuid": "eef1ff56-a661-4a88-b619-c90562a3a404",
     "showTitle": false,
     "tableResultSettingsMap": {},
     "title": ""
    }
   },
   "outputs": [
    {
     "name": "stdout",
     "output_type": "stream",
     "text": [
      "Out[56]: ['Order ID', 'Date', 'Category']"
     ]
    }
   ],
   "source": [
    "df5.columns"
   ]
  },
  {
   "cell_type": "code",
   "execution_count": null,
   "metadata": {
    "application/vnd.databricks.v1+cell": {
     "cellMetadata": {
      "byteLimit": 2048000,
      "rowLimit": 10000
     },
     "inputWidgets": {},
     "nuid": "1df351ab-0923-4d53-9fc0-6a3f5eba4608",
     "showTitle": false,
     "tableResultSettingsMap": {},
     "title": ""
    }
   },
   "outputs": [
    {
     "name": "stdout",
     "output_type": "stream",
     "text": [
      "Out[57]: ['Order ID', 'Status', 'Qty', 'ship_country']"
     ]
    }
   ],
   "source": [
    "df6.columns"
   ]
  },
  {
   "cell_type": "code",
   "execution_count": null,
   "metadata": {
    "application/vnd.databricks.v1+cell": {
     "cellMetadata": {
      "byteLimit": 2048000,
      "rowLimit": 10000
     },
     "inputWidgets": {},
     "nuid": "191b66fa-181a-4b4b-a073-453bbe9665d7",
     "showTitle": false,
     "tableResultSettingsMap": {},
     "title": ""
    }
   },
   "outputs": [
    {
     "name": "stdout",
     "output_type": "stream",
     "text": [
      "Out[58]: ['Order ID', 'Date', 'Category', 'Order ID', 'Status', 'Qty', 'ship_country']"
     ]
    }
   ],
   "source": [
    "## performing joins based on common columns \n",
    "## inner\n",
    "\n",
    "df7 = df5.join(df6,df5['Order ID'] == df6['Order ID'],'inner')\n",
    "\n",
    "df7.columns"
   ]
  },
  {
   "cell_type": "code",
   "execution_count": null,
   "metadata": {
    "application/vnd.databricks.v1+cell": {
     "cellMetadata": {
      "byteLimit": 2048000,
      "rowLimit": 10000
     },
     "inputWidgets": {},
     "nuid": "609a9c99-675b-4bda-836c-0266a524e91c",
     "showTitle": false,
     "tableResultSettingsMap": {},
     "title": ""
    }
   },
   "outputs": [
    {
     "name": "stdout",
     "output_type": "stream",
     "text": [
      "Out[59]: ['Order ID', 'Date', 'Category', 'Order ID', 'Status', 'Qty', 'ship_country']"
     ]
    }
   ],
   "source": [
    "## left join\n",
    "\n",
    "df8 = df5.join(df6,df5['Order ID'] == df6['Order ID'],'left')\n",
    "\n",
    "df8.columns\n"
   ]
  },
  {
   "cell_type": "code",
   "execution_count": null,
   "metadata": {
    "application/vnd.databricks.v1+cell": {
     "cellMetadata": {
      "byteLimit": 2048000,
      "rowLimit": 10000
     },
     "inputWidgets": {},
     "nuid": "048f2ad6-3139-44b1-a2ee-d928682b2dd6",
     "showTitle": false,
     "tableResultSettingsMap": {},
     "title": ""
    }
   },
   "outputs": [
    {
     "name": "stdout",
     "output_type": "stream",
     "text": [
      "Out[60]: ['Order ID', 'Date', 'Category', 'Order ID', 'Status', 'Qty', 'ship_country']"
     ]
    }
   ],
   "source": [
    "## right join\n",
    "\n",
    "df9 = df5.join(df6,df5['Order ID'] == df6['Order ID'],'right')\n",
    "\n",
    "df9.columns"
   ]
  },
  {
   "cell_type": "code",
   "execution_count": null,
   "metadata": {
    "application/vnd.databricks.v1+cell": {
     "cellMetadata": {
      "byteLimit": 2048000,
      "rowLimit": 10000
     },
     "inputWidgets": {},
     "nuid": "da437cb3-44ef-48f0-a5ff-ebb7fcfe3766",
     "showTitle": false,
     "tableResultSettingsMap": {},
     "title": ""
    }
   },
   "outputs": [
    {
     "name": "stdout",
     "output_type": "stream",
     "text": [
      "Out[61]: ['Order ID', 'Date', 'Category', 'Order ID', 'Status', 'Qty', 'ship_country']"
     ]
    }
   ],
   "source": [
    "## outer join\n",
    "\n",
    "df10 = df5.join(df6,df5['Order ID'] == df6['Order ID'],'outer')\n",
    "\n",
    "df10.columns"
   ]
  },
  {
   "cell_type": "code",
   "execution_count": null,
   "metadata": {
    "application/vnd.databricks.v1+cell": {
     "cellMetadata": {
      "byteLimit": 2048000,
      "rowLimit": 10000
     },
     "inputWidgets": {},
     "nuid": "4f3f7ce7-96be-4b44-be86-22edaaacde43",
     "showTitle": false,
     "tableResultSettingsMap": {},
     "title": ""
    }
   },
   "outputs": [
    {
     "name": "stdout",
     "output_type": "stream",
     "text": [
      "root\n",
      " |-- Order ID: string (nullable = true)\n",
      " |-- Date: date (nullable = true)\n",
      " |-- Status: string (nullable = true)\n",
      " |-- Style: string (nullable = true)\n",
      " |-- Category: string (nullable = true)\n",
      " |-- Size: string (nullable = true)\n",
      " |-- Courier_Status: string (nullable = true)\n",
      " |-- Qty: integer (nullable = true)\n",
      " |-- currency: string (nullable = true)\n",
      " |-- ship_state: string (nullable = true)\n",
      " |-- ship_country: string (nullable = true)\n",
      " |-- fulfilled_by: string (nullable = true)\n",
      " |-- Qty_type: string (nullable = false)\n",
      " |-- split_status: array (nullable = true)\n",
      " |    |-- element: string (containsNull = false)\n",
      "\n"
     ]
    }
   ],
   "source": [
    "df4.printSchema()"
   ]
  },
  {
   "cell_type": "code",
   "execution_count": null,
   "metadata": {
    "application/vnd.databricks.v1+cell": {
     "cellMetadata": {
      "byteLimit": 2048000,
      "rowLimit": 10000
     },
     "inputWidgets": {},
     "nuid": "4b2ff1b7-b5ef-404b-82f7-80b5118bee5b",
     "showTitle": false,
     "tableResultSettingsMap": {},
     "title": ""
    }
   },
   "outputs": [
    {
     "name": "stdout",
     "output_type": "stream",
     "text": [
      "+-------------+\n",
      "|     Category|\n",
      "+-------------+\n",
      "| Ethnic Dress|\n",
      "|          Top|\n",
      "|          Set|\n",
      "|        Saree|\n",
      "|       Bottom|\n",
      "|Western Dress|\n",
      "|       Blouse|\n",
      "|        kurta|\n",
      "|      Dupatta|\n",
      "+-------------+\n",
      "\n"
     ]
    }
   ],
   "source": [
    "## aggrigate fumnctions \n",
    "\n",
    "df4.select('Category').distinct().show()\n",
    "\n"
   ]
  },
  {
   "cell_type": "code",
   "execution_count": null,
   "metadata": {
    "application/vnd.databricks.v1+cell": {
     "cellMetadata": {
      "byteLimit": 2048000,
      "rowLimit": 10000
     },
     "inputWidgets": {},
     "nuid": "9638aca6-2438-4fae-ab3c-f14b3edd7e36",
     "showTitle": false,
     "tableResultSettingsMap": {},
     "title": ""
    }
   },
   "outputs": [
    {
     "name": "stdout",
     "output_type": "stream",
     "text": [
      "Out[71]: 9"
     ]
    }
   ],
   "source": [
    "df4.select('Category').distinct().count()"
   ]
  },
  {
   "cell_type": "code",
   "execution_count": null,
   "metadata": {
    "application/vnd.databricks.v1+cell": {
     "cellMetadata": {
      "byteLimit": 2048000,
      "rowLimit": 10000
     },
     "inputWidgets": {},
     "nuid": "4a1cfa89-c7f9-4afb-aeab-f4ee5159fe46",
     "showTitle": false,
     "tableResultSettingsMap": {},
     "title": ""
    }
   },
   "outputs": [
    {
     "name": "stdout",
     "output_type": "stream",
     "text": [
      "+-------------+---------------+--------+\n",
      "|     Category|count(Order ID)|sum(Qty)|\n",
      "+-------------+---------------+--------+\n",
      "| Ethnic Dress|           2318|    2106|\n",
      "|          Top|          21244|   19806|\n",
      "|          Set|         100568|   90578|\n",
      "|        Saree|            328|     304|\n",
      "|       Bottom|            880|     796|\n",
      "|Western Dress|          31000|   27886|\n",
      "|       Blouse|           1852|    1726|\n",
      "|        kurta|          99754|   90090|\n",
      "|      Dupatta|              6|       6|\n",
      "+-------------+---------------+--------+\n",
      "\n"
     ]
    }
   ],
   "source": [
    "from pyspark.sql.functions import count,sum,min,max,avg\n",
    "\n",
    "df4.groupBy('Category').agg(count('Order ID'),sum('Qty')).show()"
   ]
  },
  {
   "cell_type": "code",
   "execution_count": null,
   "metadata": {
    "application/vnd.databricks.v1+cell": {
     "cellMetadata": {
      "byteLimit": 2048000,
      "rowLimit": 10000
     },
     "inputWidgets": {},
     "nuid": "eaa45456-b2cf-4f85-8f76-51a7a41fa5f5",
     "showTitle": false,
     "tableResultSettingsMap": {},
     "title": ""
    }
   },
   "outputs": [
    {
     "name": "stdout",
     "output_type": "stream",
     "text": [
      "+--------------------+----------------------+---------+-------------------+\n",
      "|              Status|total_number_of_orders|Total_qty|Status_wise_avg_qty|\n",
      "+--------------------+----------------------+---------+-------------------+\n",
      "|             Shipped|                155608|   156018| 1.0026348259729576|\n",
      "|Shipped - Lost in...|                    10|       10|                1.0|\n",
      "|Shipped - Deliver...|                 57538|    57772| 1.0040668775417985|\n",
      "|Shipped - Returni...|                   290|      300| 1.0344827586206897|\n",
      "|Shipped - Rejecte...|                    22|       22|                1.0|\n",
      "|           Cancelled|                 36664|    11314|0.30858607898756274|\n",
      "|Shipped - Returne...|                  3906|     3940|  1.008704557091654|\n",
      "|Shipped - Out for...|                    70|       70|                1.0|\n",
      "| Shipped - Picked Up|                  1946|     1954| 1.0041109969167523|\n",
      "|             Pending|                  1316|     1314| 0.9984802431610942|\n",
      "|Pending - Waiting...|                   562|      566|   1.00711743772242|\n",
      "|   Shipped - Damaged|                     2|        2|                1.0|\n",
      "|            Shipping|                    16|       16|                1.0|\n",
      "+--------------------+----------------------+---------+-------------------+\n",
      "\n"
     ]
    }
   ],
   "source": [
    "df4.groupBy('Status').agg(count('Order ID').alias('total_number_of_orders'),\n",
    "                          sum('Qty').alias('Total_qty'),\n",
    "                          avg('Qty').alias('Status_wise_avg_qty')).show()"
   ]
  },
  {
   "cell_type": "code",
   "execution_count": null,
   "metadata": {
    "application/vnd.databricks.v1+cell": {
     "cellMetadata": {
      "byteLimit": 2048000,
      "rowLimit": 10000
     },
     "inputWidgets": {},
     "nuid": "51a179b3-41ef-4e69-b445-28586091f8ce",
     "showTitle": false,
     "tableResultSettingsMap": {},
     "title": ""
    }
   },
   "outputs": [
    {
     "name": "stdout",
     "output_type": "stream",
     "text": [
      "+--------------------+----------------------+---------+-------------------+\n",
      "|              Status|total_number_of_orders|Total_qty|Status_wise_avg_qty|\n",
      "+--------------------+----------------------+---------+-------------------+\n",
      "|             Shipped|                155608|   156018|                1.0|\n",
      "|Shipped - Lost in...|                    10|       10|                1.0|\n",
      "|Shipped - Deliver...|                 57538|    57772|                1.0|\n",
      "|Shipped - Returni...|                   290|      300|                1.0|\n",
      "|Shipped - Rejecte...|                    22|       22|                1.0|\n",
      "|           Cancelled|                 36664|    11314|                0.0|\n",
      "|Shipped - Returne...|                  3906|     3940|                1.0|\n",
      "|Shipped - Out for...|                    70|       70|                1.0|\n",
      "| Shipped - Picked Up|                  1946|     1954|                1.0|\n",
      "|             Pending|                  1316|     1314|                1.0|\n",
      "|Pending - Waiting...|                   562|      566|                1.0|\n",
      "|   Shipped - Damaged|                     2|        2|                1.0|\n",
      "|            Shipping|                    16|       16|                1.0|\n",
      "+--------------------+----------------------+---------+-------------------+\n",
      "\n"
     ]
    }
   ],
   "source": [
    "from pyspark.sql.functions import round\n",
    "\n",
    "df4.groupBy('Status').agg(count('Order ID').alias('total_number_of_orders'),\n",
    "                          sum('Qty').alias('Total_qty'),\n",
    "                          round(avg('Qty')).alias('Status_wise_avg_qty')).show()"
   ]
  },
  {
   "cell_type": "code",
   "execution_count": null,
   "metadata": {
    "application/vnd.databricks.v1+cell": {
     "cellMetadata": {
      "byteLimit": 2048000,
      "rowLimit": 10000
     },
     "inputWidgets": {},
     "nuid": "334d3783-e02b-40f9-a037-119dc77a49c4",
     "showTitle": false,
     "tableResultSettingsMap": {},
     "title": ""
    }
   },
   "outputs": [
    {
     "name": "stdout",
     "output_type": "stream",
     "text": [
      "+-------------+---------------+--------+--------+------------------+--------+\n",
      "|     Category|count(Order ID)|max(Qty)|min(Qty)|          avg(Qty)|sum(Qty)|\n",
      "+-------------+---------------+--------+--------+------------------+--------+\n",
      "| Ethnic Dress|           2318|       2|       0| 0.908541846419327|    2106|\n",
      "|          Top|          21244|       3|       0|0.9323102993786481|   19806|\n",
      "|          Set|         100568|       8|       0|0.9006642271895633|   90578|\n",
      "|        Saree|            328|       3|       0| 0.926829268292683|     304|\n",
      "|       Bottom|            880|       2|       0|0.9045454545454545|     796|\n",
      "|Western Dress|          31000|       4|       0|0.8995483870967742|   27886|\n",
      "|       Blouse|           1852|      15|       0|0.9319654427645788|    1726|\n",
      "|        kurta|          99754|      13|       0|0.9031216793311546|   90090|\n",
      "|      Dupatta|              6|       1|       1|               1.0|       6|\n",
      "+-------------+---------------+--------+--------+------------------+--------+\n",
      "\n"
     ]
    }
   ],
   "source": [
    "df4.groupBy('Category').agg(count('Order ID'),\n",
    "                            max('Qty'),\n",
    "                            min('Qty'),\n",
    "                            avg('Qty'),\n",
    "                            sum('Qty')).show()"
   ]
  },
  {
   "cell_type": "code",
   "execution_count": null,
   "metadata": {
    "application/vnd.databricks.v1+cell": {
     "cellMetadata": {
      "byteLimit": 2048000,
      "rowLimit": 10000
     },
     "inputWidgets": {},
     "nuid": "c95c59fd-ebf8-4357-934a-770a39750ecc",
     "showTitle": false,
     "tableResultSettingsMap": {},
     "title": ""
    }
   },
   "outputs": [],
   "source": [
    "## window functions\n",
    "\n",
    "from pyspark.sql.window import Window\n",
    "\n",
    "from pyspark.sql.functions import rank,dense_rank,row_number\n",
    "\n",
    "\n"
   ]
  },
  {
   "cell_type": "code",
   "execution_count": null,
   "metadata": {
    "application/vnd.databricks.v1+cell": {
     "cellMetadata": {
      "byteLimit": 2048000,
      "rowLimit": 10000
     },
     "inputWidgets": {},
     "nuid": "1e49017e-037f-4bf5-bf7b-2d407bc43c33",
     "showTitle": false,
     "tableResultSettingsMap": {},
     "title": ""
    }
   },
   "outputs": [
    {
     "name": "stdout",
     "output_type": "stream",
     "text": [
      "+-------------------+----------+------------+---------+---+------------------------------------------------------------------------------------------------------------------+\n",
      "|           Order ID|      Date|    Category|   Status|Qty|RANK() OVER (PARTITION BY Category ORDER BY Date ASC NULLS FIRST ROWS BETWEEN UNBOUNDED PRECEDING AND CURRENT ROW)|\n",
      "+-------------------+----------+------------+---------+---+------------------------------------------------------------------------------------------------------------------+\n",
      "|404-2983890-5592337|2022-03-31|Ethnic Dress|Cancelled|  1|                                                                                                                 1|\n",
      "|404-2983890-5592337|2022-03-31|Ethnic Dress|Cancelled|  1|                                                                                                                 1|\n",
      "|407-8468914-3325118|2022-04-01|Ethnic Dress|  Shipped|  1|                                                                                                                 3|\n",
      "|171-5793625-8052350|2022-04-01|Ethnic Dress|  Shipped|  1|                                                                                                                 3|\n",
      "|171-8449990-1656321|2022-04-01|Ethnic Dress|Cancelled|  0|                                                                                                                 3|\n",
      "|407-0661478-2509967|2022-04-01|Ethnic Dress|  Shipped|  1|                                                                                                                 3|\n",
      "|402-5452322-4458760|2022-04-01|Ethnic Dress|  Shipped|  1|                                                                                                                 3|\n",
      "|404-9822377-5865103|2022-04-01|Ethnic Dress|  Shipped|  1|                                                                                                                 3|\n",
      "|408-1622907-0976306|2022-04-01|Ethnic Dress|  Shipped|  1|                                                                                                                 3|\n",
      "|171-5044420-8649132|2022-04-01|Ethnic Dress|  Shipped|  1|                                                                                                                 3|\n",
      "|407-2183749-1729964|2022-04-01|Ethnic Dress|  Shipped|  1|                                                                                                                 3|\n",
      "|406-5172357-2807501|2022-04-01|Ethnic Dress|  Shipped|  1|                                                                                                                 3|\n",
      "|407-8144012-4005965|2022-04-01|Ethnic Dress|  Shipped|  1|                                                                                                                 3|\n",
      "|407-8468914-3325118|2022-04-01|Ethnic Dress|  Shipped|  1|                                                                                                                 3|\n",
      "|171-5793625-8052350|2022-04-01|Ethnic Dress|  Shipped|  1|                                                                                                                 3|\n",
      "|171-8449990-1656321|2022-04-01|Ethnic Dress|Cancelled|  0|                                                                                                                 3|\n",
      "|407-0661478-2509967|2022-04-01|Ethnic Dress|  Shipped|  1|                                                                                                                 3|\n",
      "|402-5452322-4458760|2022-04-01|Ethnic Dress|  Shipped|  1|                                                                                                                 3|\n",
      "|404-9822377-5865103|2022-04-01|Ethnic Dress|  Shipped|  1|                                                                                                                 3|\n",
      "|408-1622907-0976306|2022-04-01|Ethnic Dress|  Shipped|  1|                                                                                                                 3|\n",
      "+-------------------+----------+------------+---------+---+------------------------------------------------------------------------------------------------------------------+\n",
      "only showing top 20 rows\n",
      "\n"
     ]
    }
   ],
   "source": [
    "## creating a window specification \n",
    "\n",
    "windowspec = Window.partitionBy('Category').orderBy('Date')\n",
    "\n",
    "\n",
    "## applying that window on our data frame\n",
    "\n",
    "\n",
    "df4.select('Order ID','Date','Category','Status','Qty',\n",
    "           rank().over(windowspec)).show()"
   ]
  },
  {
   "cell_type": "code",
   "execution_count": null,
   "metadata": {
    "application/vnd.databricks.v1+cell": {
     "cellMetadata": {
      "byteLimit": 2048000,
      "rowLimit": 10000
     },
     "inputWidgets": {},
     "nuid": "bdeb8003-1e16-4d58-8c9a-7dca2644d935",
     "showTitle": false,
     "tableResultSettingsMap": {},
     "title": ""
    }
   },
   "outputs": [
    {
     "name": "stdout",
     "output_type": "stream",
     "text": [
      "+-------------------+----------+------------+---------+---+----+\n",
      "|           Order ID|      Date|    Category|   Status|Qty|rank|\n",
      "+-------------------+----------+------------+---------+---+----+\n",
      "|404-2983890-5592337|2022-03-31|Ethnic Dress|Cancelled|  1|   1|\n",
      "|404-2983890-5592337|2022-03-31|Ethnic Dress|Cancelled|  1|   1|\n",
      "|407-8468914-3325118|2022-04-01|Ethnic Dress|  Shipped|  1|   3|\n",
      "|171-5793625-8052350|2022-04-01|Ethnic Dress|  Shipped|  1|   3|\n",
      "|171-8449990-1656321|2022-04-01|Ethnic Dress|Cancelled|  0|   3|\n",
      "|407-0661478-2509967|2022-04-01|Ethnic Dress|  Shipped|  1|   3|\n",
      "|402-5452322-4458760|2022-04-01|Ethnic Dress|  Shipped|  1|   3|\n",
      "|404-9822377-5865103|2022-04-01|Ethnic Dress|  Shipped|  1|   3|\n",
      "|408-1622907-0976306|2022-04-01|Ethnic Dress|  Shipped|  1|   3|\n",
      "|171-5044420-8649132|2022-04-01|Ethnic Dress|  Shipped|  1|   3|\n",
      "|407-2183749-1729964|2022-04-01|Ethnic Dress|  Shipped|  1|   3|\n",
      "|406-5172357-2807501|2022-04-01|Ethnic Dress|  Shipped|  1|   3|\n",
      "|407-8144012-4005965|2022-04-01|Ethnic Dress|  Shipped|  1|   3|\n",
      "|407-8468914-3325118|2022-04-01|Ethnic Dress|  Shipped|  1|   3|\n",
      "|171-5793625-8052350|2022-04-01|Ethnic Dress|  Shipped|  1|   3|\n",
      "|171-8449990-1656321|2022-04-01|Ethnic Dress|Cancelled|  0|   3|\n",
      "|407-0661478-2509967|2022-04-01|Ethnic Dress|  Shipped|  1|   3|\n",
      "|402-5452322-4458760|2022-04-01|Ethnic Dress|  Shipped|  1|   3|\n",
      "|404-9822377-5865103|2022-04-01|Ethnic Dress|  Shipped|  1|   3|\n",
      "|408-1622907-0976306|2022-04-01|Ethnic Dress|  Shipped|  1|   3|\n",
      "+-------------------+----------+------------+---------+---+----+\n",
      "only showing top 20 rows\n",
      "\n"
     ]
    }
   ],
   "source": [
    "df4.select('Order ID','Date','Category','Status','Qty',\n",
    "           rank().over(windowspec).alias('rank')).show()"
   ]
  },
  {
   "cell_type": "code",
   "execution_count": null,
   "metadata": {
    "application/vnd.databricks.v1+cell": {
     "cellMetadata": {
      "byteLimit": 2048000,
      "rowLimit": 10000
     },
     "inputWidgets": {},
     "nuid": "c6b32564-5a64-453e-ae01-e4280a9075df",
     "showTitle": false,
     "tableResultSettingsMap": {},
     "title": ""
    }
   },
   "outputs": [
    {
     "name": "stdout",
     "output_type": "stream",
     "text": [
      "+-------------------+----------+------------+---------+---+----+\n",
      "|           Order ID|      Date|    Category|   Status|Qty|rank|\n",
      "+-------------------+----------+------------+---------+---+----+\n",
      "|406-2474659-2603521|2022-04-26|Ethnic Dress|Cancelled|  0|   1|\n",
      "|404-2606216-3563505|2022-04-26|Ethnic Dress|Cancelled|  0|   1|\n",
      "|405-7359830-4266711|2022-04-25|Ethnic Dress|Cancelled|  0|   1|\n",
      "|408-5809240-8487553|2022-04-24|Ethnic Dress|Cancelled|  0|   1|\n",
      "|171-7867674-1861117|2022-04-22|Ethnic Dress|Cancelled|  0|   1|\n",
      "|408-9824728-5821104|2022-04-21|Ethnic Dress|Cancelled|  0|   1|\n",
      "|407-0574025-0361161|2022-04-21|Ethnic Dress|Cancelled|  0|   1|\n",
      "|407-7953440-4832347|2022-04-20|Ethnic Dress|Cancelled|  0|   1|\n",
      "|403-5725159-1221118|2022-04-19|Ethnic Dress|Cancelled|  0|   1|\n",
      "|402-6668605-6262715|2022-04-19|Ethnic Dress|Cancelled|  0|   1|\n",
      "|404-2282001-9240320|2022-04-19|Ethnic Dress|Cancelled|  0|   1|\n",
      "|406-2272069-9937122|2022-04-19|Ethnic Dress|Cancelled|  0|   1|\n",
      "|406-9264349-3985168|2022-04-18|Ethnic Dress|Cancelled|  0|   1|\n",
      "|405-5078545-7879526|2022-04-18|Ethnic Dress|Cancelled|  0|   1|\n",
      "|403-5823373-7604323|2022-04-16|Ethnic Dress|Cancelled|  0|   1|\n",
      "|405-9932720-7486751|2022-04-15|Ethnic Dress|Cancelled|  0|   1|\n",
      "|406-0721771-8681965|2022-04-15|Ethnic Dress|Cancelled|  0|   1|\n",
      "|405-8967519-7335566|2022-04-14|Ethnic Dress|Cancelled|  0|   1|\n",
      "|405-8206877-9892363|2022-04-13|Ethnic Dress|Cancelled|  0|   1|\n",
      "|403-5121746-7969933|2022-04-13|Ethnic Dress|Cancelled|  0|   1|\n",
      "+-------------------+----------+------------+---------+---+----+\n",
      "only showing top 20 rows\n",
      "\n"
     ]
    }
   ],
   "source": [
    "\n",
    "windowspec = Window.partitionBy('Category').orderBy('Qty')\n",
    "\n",
    "df4.select('Order ID','Date','Category','Status','Qty',\n",
    "           rank().over(windowspec).alias('rank')).show()"
   ]
  },
  {
   "cell_type": "code",
   "execution_count": null,
   "metadata": {
    "application/vnd.databricks.v1+cell": {
     "cellMetadata": {
      "byteLimit": 2048000,
      "rowLimit": 10000
     },
     "inputWidgets": {},
     "nuid": "c68cf3df-bc4d-4680-b574-fb1d43f79dee",
     "showTitle": false,
     "tableResultSettingsMap": {},
     "title": ""
    }
   },
   "outputs": [
    {
     "name": "stdout",
     "output_type": "stream",
     "text": [
      "+-------------------+----------+------------+--------------------+---+----+\n",
      "|           Order ID|      Date|    Category|              Status|Qty|rank|\n",
      "+-------------------+----------+------------+--------------------+---+----+\n",
      "|408-9803050-5767559|2022-05-19|Ethnic Dress|Shipped - Deliver...|  2|   1|\n",
      "|406-9400779-4128320|2022-05-13|Ethnic Dress|Shipped - Deliver...|  2|   1|\n",
      "|406-9400779-4128320|2022-05-13|Ethnic Dress|Shipped - Deliver...|  2|   1|\n",
      "|408-9803050-5767559|2022-05-19|Ethnic Dress|Shipped - Deliver...|  2|   1|\n",
      "|406-9400779-4128320|2022-05-13|Ethnic Dress|Shipped - Deliver...|  2|   1|\n",
      "|406-9400779-4128320|2022-05-13|Ethnic Dress|Shipped - Deliver...|  2|   1|\n",
      "|408-7165704-5643524|2022-04-30|Ethnic Dress|             Shipped|  1|   7|\n",
      "|407-6283946-7749133|2022-04-30|Ethnic Dress|             Shipped|  1|   7|\n",
      "|171-2644368-7969167|2022-04-30|Ethnic Dress|             Shipped|  1|   7|\n",
      "|408-0666162-2209142|2022-04-30|Ethnic Dress|             Shipped|  1|   7|\n",
      "|403-8342497-0727510|2022-04-30|Ethnic Dress|Shipped - Deliver...|  1|   7|\n",
      "|406-6302630-1482741|2022-04-30|Ethnic Dress|             Shipped|  1|   7|\n",
      "|171-2863176-0009922|2022-04-29|Ethnic Dress|             Shipped|  1|   7|\n",
      "|403-7874530-3249149|2022-04-29|Ethnic Dress|             Shipped|  1|   7|\n",
      "|402-6844063-3025935|2022-04-29|Ethnic Dress|             Shipped|  1|   7|\n",
      "|171-4927324-1152312|2022-04-29|Ethnic Dress|             Shipped|  1|   7|\n",
      "|407-6122000-3730745|2022-04-29|Ethnic Dress|Shipped - Deliver...|  1|   7|\n",
      "|402-7084917-5921944|2022-04-29|Ethnic Dress|             Shipped|  1|   7|\n",
      "|403-5047171-5946703|2022-04-29|Ethnic Dress|             Shipped|  1|   7|\n",
      "|402-7861807-8550726|2022-04-29|Ethnic Dress|Shipped - Deliver...|  1|   7|\n",
      "+-------------------+----------+------------+--------------------+---+----+\n",
      "only showing top 20 rows\n",
      "\n"
     ]
    }
   ],
   "source": [
    "from pyspark.sql.functions import desc\n",
    "\n",
    "windowspec = Window.partitionBy('Category').orderBy(desc('Qty'))\n",
    "\n",
    "df4.select('Order ID','Date','Category','Status','Qty',\n",
    "           rank().over(windowspec).alias('rank')).show()"
   ]
  },
  {
   "cell_type": "code",
   "execution_count": null,
   "metadata": {
    "application/vnd.databricks.v1+cell": {
     "cellMetadata": {
      "byteLimit": 2048000,
      "rowLimit": 10000
     },
     "inputWidgets": {},
     "nuid": "9abb7c1c-8eb4-4774-8d08-6e486e6949fb",
     "showTitle": false,
     "tableResultSettingsMap": {},
     "title": ""
    }
   },
   "outputs": [
    {
     "name": "stdout",
     "output_type": "stream",
     "text": [
      "+-------------------+----------+------------+--------------------+---+----+---------+---------+\n",
      "|           Order ID|      Date|    Category|              Status|Qty|rank|denserank|rownumber|\n",
      "+-------------------+----------+------------+--------------------+---+----+---------+---------+\n",
      "|408-9803050-5767559|2022-05-19|Ethnic Dress|Shipped - Deliver...|  2|   1|        1|        1|\n",
      "|406-9400779-4128320|2022-05-13|Ethnic Dress|Shipped - Deliver...|  2|   1|        1|        2|\n",
      "|406-9400779-4128320|2022-05-13|Ethnic Dress|Shipped - Deliver...|  2|   1|        1|        3|\n",
      "|408-9803050-5767559|2022-05-19|Ethnic Dress|Shipped - Deliver...|  2|   1|        1|        4|\n",
      "|406-9400779-4128320|2022-05-13|Ethnic Dress|Shipped - Deliver...|  2|   1|        1|        5|\n",
      "|406-9400779-4128320|2022-05-13|Ethnic Dress|Shipped - Deliver...|  2|   1|        1|        6|\n",
      "|408-7165704-5643524|2022-04-30|Ethnic Dress|             Shipped|  1|   7|        2|        7|\n",
      "|407-6283946-7749133|2022-04-30|Ethnic Dress|             Shipped|  1|   7|        2|        8|\n",
      "|171-2644368-7969167|2022-04-30|Ethnic Dress|             Shipped|  1|   7|        2|        9|\n",
      "|408-0666162-2209142|2022-04-30|Ethnic Dress|             Shipped|  1|   7|        2|       10|\n",
      "|403-8342497-0727510|2022-04-30|Ethnic Dress|Shipped - Deliver...|  1|   7|        2|       11|\n",
      "|406-6302630-1482741|2022-04-30|Ethnic Dress|             Shipped|  1|   7|        2|       12|\n",
      "|171-2863176-0009922|2022-04-29|Ethnic Dress|             Shipped|  1|   7|        2|       13|\n",
      "|403-7874530-3249149|2022-04-29|Ethnic Dress|             Shipped|  1|   7|        2|       14|\n",
      "|402-6844063-3025935|2022-04-29|Ethnic Dress|             Shipped|  1|   7|        2|       15|\n",
      "|171-4927324-1152312|2022-04-29|Ethnic Dress|             Shipped|  1|   7|        2|       16|\n",
      "|407-6122000-3730745|2022-04-29|Ethnic Dress|Shipped - Deliver...|  1|   7|        2|       17|\n",
      "|402-7084917-5921944|2022-04-29|Ethnic Dress|             Shipped|  1|   7|        2|       18|\n",
      "|403-5047171-5946703|2022-04-29|Ethnic Dress|             Shipped|  1|   7|        2|       19|\n",
      "|402-7861807-8550726|2022-04-29|Ethnic Dress|Shipped - Deliver...|  1|   7|        2|       20|\n",
      "+-------------------+----------+------------+--------------------+---+----+---------+---------+\n",
      "only showing top 20 rows\n",
      "\n"
     ]
    }
   ],
   "source": [
    "windowspec = Window.partitionBy('Category').orderBy(desc('Qty'))\n",
    "\n",
    "df4.select('Order ID','Date','Category','Status','Qty',\n",
    "           rank().over(windowspec).alias('rank'),\n",
    "           dense_rank().over(windowspec).alias('denserank'),\n",
    "           row_number().over(windowspec).alias('rownumber')).show()"
   ]
  },
  {
   "cell_type": "code",
   "execution_count": null,
   "metadata": {
    "application/vnd.databricks.v1+cell": {
     "cellMetadata": {
      "byteLimit": 2048000,
      "rowLimit": 10000
     },
     "inputWidgets": {},
     "nuid": "f83c1880-8d42-4488-827c-3f395a644bf7",
     "showTitle": false,
     "tableResultSettingsMap": {},
     "title": ""
    }
   },
   "outputs": [
    {
     "name": "stdout",
     "output_type": "stream",
     "text": [
      "Out[103]: ['Order ID',\n",
      " 'Date',\n",
      " 'Status',\n",
      " 'Style',\n",
      " 'Category',\n",
      " 'Size',\n",
      " 'Courier_Status',\n",
      " 'Qty',\n",
      " 'currency',\n",
      " 'ship_state',\n",
      " 'ship_country',\n",
      " 'fulfilled_by',\n",
      " 'Qty_type',\n",
      " 'split_status']"
     ]
    }
   ],
   "source": [
    "df4.columns"
   ]
  },
  {
   "cell_type": "code",
   "execution_count": null,
   "metadata": {
    "application/vnd.databricks.v1+cell": {
     "cellMetadata": {
      "byteLimit": 2048000,
      "rowLimit": 10000
     },
     "inputWidgets": {},
     "nuid": "0b11a8ee-2868-4a7d-8f9b-65cfa37c540a",
     "showTitle": false,
     "tableResultSettingsMap": {},
     "title": ""
    }
   },
   "outputs": [
    {
     "name": "stdout",
     "output_type": "stream",
     "text": [
      "+-------------------+----------+-------------+--------------------+---+-----------------+\n",
      "|           Order ID|      Date|     Category|              Status|Qty|running_total_qty|\n",
      "+-------------------+----------+-------------+--------------------+---+-----------------+\n",
      "|171-7326790-9044369|2022-03-31|        kurta|             Shipped|  1|              312|\n",
      "|171-7326790-9044369|2022-03-31|        kurta|             Shipped|  1|              312|\n",
      "|171-7192082-3049169|2022-03-31|        kurta|           Cancelled|  0|              312|\n",
      "|402-9467302-4929937|2022-03-31|        kurta|             Shipped|  1|              312|\n",
      "|405-1392423-9557138|2022-03-31|        kurta|             Shipped|  1|              312|\n",
      "|407-7904992-8992306|2022-03-31|          Set|             Shipped|  1|              312|\n",
      "|407-1987486-1549956|2022-03-31|          Set|             Shipped|  1|              312|\n",
      "|408-8834155-2110755|2022-03-31|          Set|             Shipped|  1|              312|\n",
      "|408-8834155-2110755|2022-03-31|          Set|             Shipped|  1|              312|\n",
      "|403-9181934-8229136|2022-03-31|        kurta|             Shipped|  1|              312|\n",
      "|407-4780334-9970765|2022-03-31|          Set|             Shipped|  1|              312|\n",
      "|402-7668856-0789906|2022-03-31|Western Dress|Shipped - Deliver...|  1|              312|\n",
      "|403-5713213-8502730|2022-03-31|        kurta|Shipped - Deliver...|  1|              312|\n",
      "|408-3697122-8357133|2022-03-31|          Set|           Cancelled|  0|              312|\n",
      "|407-4410431-5257168|2022-03-31|          Set|             Shipped|  1|              312|\n",
      "|406-4348588-3701933|2022-03-31|          Set|             Shipped|  1|              312|\n",
      "|406-4348588-3701933|2022-03-31|          Set|             Shipped|  1|              312|\n",
      "|406-2329571-0735529|2022-03-31|          Set|             Shipped|  1|              312|\n",
      "|402-3383741-5179527|2022-03-31|        kurta|             Shipped|  1|              312|\n",
      "|408-2513408-8602736|2022-03-31|        kurta|             Shipped|  1|              312|\n",
      "+-------------------+----------+-------------+--------------------+---+-----------------+\n",
      "only showing top 20 rows\n",
      "\n"
     ]
    }
   ],
   "source": [
    "## calculating running total using window\n",
    "\n",
    "## without specifying the rows between it will consider cummulative values \n",
    "\n",
    "windowspec = Window.orderBy('Date')\n",
    "\n",
    "\n",
    "df4.select('Order ID','Date','Category','Status','Qty',\n",
    "           sum(col('Qty')).over(windowspec).alias('running_total_qty')).show()\n"
   ]
  },
  {
   "cell_type": "code",
   "execution_count": null,
   "metadata": {
    "application/vnd.databricks.v1+cell": {
     "cellMetadata": {
      "byteLimit": 2048000,
      "rowLimit": 10000
     },
     "inputWidgets": {},
     "nuid": "7363d9a9-5924-448a-a6e5-7759136811ea",
     "showTitle": false,
     "tableResultSettingsMap": {},
     "title": ""
    }
   },
   "outputs": [
    {
     "name": "stdout",
     "output_type": "stream",
     "text": [
      "+-------------------+----------+-------------+--------------------+---+-----------------+\n",
      "|           Order ID|      Date|     Category|              Status|Qty|running_total_qty|\n",
      "+-------------------+----------+-------------+--------------------+---+-----------------+\n",
      "|171-7326790-9044369|2022-03-31|        kurta|             Shipped|  1|                1|\n",
      "|171-7326790-9044369|2022-03-31|        kurta|             Shipped|  1|                2|\n",
      "|171-7192082-3049169|2022-03-31|        kurta|           Cancelled|  0|                2|\n",
      "|402-9467302-4929937|2022-03-31|        kurta|             Shipped|  1|                3|\n",
      "|405-1392423-9557138|2022-03-31|        kurta|             Shipped|  1|                4|\n",
      "|407-7904992-8992306|2022-03-31|          Set|             Shipped|  1|                5|\n",
      "|407-1987486-1549956|2022-03-31|          Set|             Shipped|  1|                6|\n",
      "|408-8834155-2110755|2022-03-31|          Set|             Shipped|  1|                7|\n",
      "|408-8834155-2110755|2022-03-31|          Set|             Shipped|  1|                8|\n",
      "|403-9181934-8229136|2022-03-31|        kurta|             Shipped|  1|                9|\n",
      "|407-4780334-9970765|2022-03-31|          Set|             Shipped|  1|               10|\n",
      "|402-7668856-0789906|2022-03-31|Western Dress|Shipped - Deliver...|  1|               11|\n",
      "|403-5713213-8502730|2022-03-31|        kurta|Shipped - Deliver...|  1|               12|\n",
      "|408-3697122-8357133|2022-03-31|          Set|           Cancelled|  0|               12|\n",
      "|407-4410431-5257168|2022-03-31|          Set|             Shipped|  1|               13|\n",
      "|406-4348588-3701933|2022-03-31|          Set|             Shipped|  1|               14|\n",
      "|406-4348588-3701933|2022-03-31|          Set|             Shipped|  1|               15|\n",
      "|406-2329571-0735529|2022-03-31|          Set|             Shipped|  1|               16|\n",
      "|402-3383741-5179527|2022-03-31|        kurta|             Shipped|  1|               17|\n",
      "|408-2513408-8602736|2022-03-31|        kurta|             Shipped|  1|               18|\n",
      "+-------------------+----------+-------------+--------------------+---+-----------------+\n",
      "only showing top 20 rows\n",
      "\n"
     ]
    }
   ],
   "source": [
    "## calculating running total using window\n",
    "## rows between will consider each row as a differtent eleement and calcualtes running total on top of that\n",
    "\n",
    "windowspec = Window.orderBy('Date').rowsBetween(Window.unboundedPreceding,Window.currentRow)\n",
    "\n",
    "\n",
    "df4.select('Order ID','Date','Category','Status','Qty',\n",
    "           sum(col('Qty')).over(windowspec).alias('running_total_qty')).show()"
   ]
  },
  {
   "cell_type": "code",
   "execution_count": null,
   "metadata": {
    "application/vnd.databricks.v1+cell": {
     "cellMetadata": {
      "byteLimit": 2048000,
      "rowLimit": 10000
     },
     "inputWidgets": {},
     "nuid": "5f77b19c-069e-4cd5-bf8b-df0c51944fa0",
     "showTitle": false,
     "tableResultSettingsMap": {},
     "title": ""
    }
   },
   "outputs": [
    {
     "name": "stdout",
     "output_type": "stream",
     "text": [
      "Out[112]: 12"
     ]
    }
   ],
   "source": [
    "## to look at the number of partions \n",
    "\n",
    "df4.rdd.getNumPartitions()"
   ]
  },
  {
   "cell_type": "code",
   "execution_count": null,
   "metadata": {
    "application/vnd.databricks.v1+cell": {
     "cellMetadata": {
      "byteLimit": 2048000,
      "rowLimit": 10000
     },
     "inputWidgets": {},
     "nuid": "37b55009-2c4b-443b-988d-2ee7b3faa84b",
     "showTitle": false,
     "tableResultSettingsMap": {},
     "title": ""
    }
   },
   "outputs": [
    {
     "name": "stdout",
     "output_type": "stream",
     "text": [
      "Out[114]: 24"
     ]
    }
   ],
   "source": [
    "## to repartition (to increase the number of partions )\n",
    "\n",
    "df4_repartioned = df4.repartition(24)\n",
    "\n",
    "df4_repartioned.rdd.getNumPartitions()"
   ]
  },
  {
   "cell_type": "code",
   "execution_count": null,
   "metadata": {
    "application/vnd.databricks.v1+cell": {
     "cellMetadata": {
      "byteLimit": 2048000,
      "rowLimit": 10000
     },
     "inputWidgets": {},
     "nuid": "0178cd3b-7992-4b89-b936-4ce50375fa0d",
     "showTitle": false,
     "tableResultSettingsMap": {},
     "title": ""
    }
   },
   "outputs": [
    {
     "name": "stdout",
     "output_type": "stream",
     "text": [
      "Out[116]: 7"
     ]
    }
   ],
   "source": [
    "## to coalesce (reduce the number of partitions)\n",
    "\n",
    "coalesced_df4 = df4.coalesce(7)\n",
    "\n",
    "coalesced_df4.rdd.getNumPartitions()"
   ]
  },
  {
   "cell_type": "code",
   "execution_count": null,
   "metadata": {
    "application/vnd.databricks.v1+cell": {
     "cellMetadata": {
      "byteLimit": 2048000,
      "rowLimit": 10000
     },
     "inputWidgets": {},
     "nuid": "04d67e01-7fb6-45fd-a6f9-373dfcb3a40d",
     "showTitle": false,
     "tableResultSettingsMap": {},
     "title": ""
    }
   },
   "outputs": [],
   "source": [
    "\n",
    "\n",
    "df5 = df4[['Order ID',\n",
    " 'Date',\n",
    " 'Status',\n",
    " 'Style',\n",
    " 'Category',\n",
    " 'Size',\n",
    " 'Qty',\n",
    " 'currency',\n",
    " 'ship_state']]"
   ]
  },
  {
   "cell_type": "code",
   "execution_count": null,
   "metadata": {
    "application/vnd.databricks.v1+cell": {
     "cellMetadata": {
      "byteLimit": 2048000,
      "rowLimit": 10000
     },
     "inputWidgets": {},
     "nuid": "6d340e90-532d-4657-a132-2b5303b0225d",
     "showTitle": false,
     "tableResultSettingsMap": {},
     "title": ""
    }
   },
   "outputs": [
    {
     "name": "stdout",
     "output_type": "stream",
     "text": [
      "root\n",
      " |-- Order ID: string (nullable = true)\n",
      " |-- Date: date (nullable = true)\n",
      " |-- Status: string (nullable = true)\n",
      " |-- Style: string (nullable = true)\n",
      " |-- Category: string (nullable = true)\n",
      " |-- Size: string (nullable = true)\n",
      " |-- Qty: integer (nullable = true)\n",
      " |-- currency: string (nullable = true)\n",
      " |-- ship_state: string (nullable = true)\n",
      "\n"
     ]
    }
   ],
   "source": [
    "## cast column --> changing data type\n",
    "\n",
    "df5.printSchema()"
   ]
  },
  {
   "cell_type": "code",
   "execution_count": null,
   "metadata": {
    "application/vnd.databricks.v1+cell": {
     "cellMetadata": {
      "byteLimit": 2048000,
      "rowLimit": 10000
     },
     "inputWidgets": {},
     "nuid": "308a0c3f-07f4-4cd7-bd7e-f9459a1689d4",
     "showTitle": false,
     "tableResultSettingsMap": {},
     "title": ""
    }
   },
   "outputs": [
    {
     "name": "stdout",
     "output_type": "stream",
     "text": [
      "+-------------------+----------+--------------------+--------+-------------+----+---+--------+--------------+------+\n",
      "|           Order ID|      Date|              Status|   Style|     Category|Size|Qty|currency|    ship_state|number|\n",
      "+-------------------+----------+--------------------+--------+-------------+----+---+--------+--------------+------+\n",
      "|405-8078784-5731545|2022-04-30|           Cancelled|  SET389|          Set|   S|  0|     INR|   MAHARASHTRA|   0.0|\n",
      "|171-9198151-1101146|2022-04-30|Shipped - Deliver...| JNE3781|        kurta| 3XL|  1|     INR|     KARNATAKA|  1.75|\n",
      "|404-0687676-7273146|2022-04-30|             Shipped| JNE3371|        kurta|  XL|  1|     INR|   MAHARASHTRA|  1.75|\n",
      "|403-9615377-8133951|2022-04-30|           Cancelled|   J0341|Western Dress|   L|  0|     INR|    PUDUCHERRY|   0.0|\n",
      "|407-1069790-7240320|2022-04-30|             Shipped| JNE3671|          Top| 3XL|  1|     INR|    TAMIL NADU|  1.75|\n",
      "|404-1490984-4578765|2022-04-30|             Shipped|  SET264|          Set|  XL|  1|     INR| UTTAR PRADESH|  1.75|\n",
      "|408-5748499-6859555|2022-04-30|             Shipped|   J0095|          Set|   L|  1|     INR|    CHANDIGARH|  1.75|\n",
      "|406-7807733-3785945|2022-04-30|Shipped - Deliver...| JNE3405|        kurta|   S|  1|     INR|     TELANGANA|  1.75|\n",
      "|407-5443024-5233168|2022-04-30|           Cancelled|  SET200|          Set| 3XL|  0|    null|     TELANGANA|   0.0|\n",
      "|402-4393761-0311520|2022-04-30|             Shipped| JNE3461|        kurta| XXL|  1|     INR|    TAMIL NADU|  1.75|\n",
      "|407-5633625-6970741|2022-04-30|             Shipped| JNE3160|        kurta|   S|  1|     INR|    TAMIL NADU|  1.75|\n",
      "|171-4638481-6326716|2022-04-30|             Shipped| JNE3500|        kurta|  XS|  1|     INR| UTTAR PRADESH|  1.75|\n",
      "|405-5513694-8146768|2022-04-30|Shipped - Deliver...| JNE3405|        kurta|  XS|  1|     INR|   MAHARASHTRA|  1.75|\n",
      "|408-7955685-3083534|2022-04-30|             Shipped|  SET182|          Set|  XS|  1|     INR|   MAHARASHTRA|  1.75|\n",
      "|408-1298370-1920302|2022-04-30|Shipped - Deliver...|   J0351|          Set|   L|  1|     INR|   MAHARASHTRA|  1.75|\n",
      "|403-4965581-9520319|2022-04-30|Shipped - Deliver...|PJNE3368|        kurta| 6XL|  1|     INR|ANDHRA PRADESH|  1.75|\n",
      "|406-9379318-6555504|2022-04-30|             Shipped| JNE3721|        kurta| XXL|  1|     INR|     RAJASTHAN|  1.75|\n",
      "|405-9013803-8009918|2022-04-30|             Shipped| JNE3405|        kurta|  XL|  1|     INR|         DELHI|  1.75|\n",
      "|402-4030358-5835511|2022-04-30|Shipped - Deliver...| JNE3697|        kurta| XXL|  1|     INR|       HARYANA|  1.75|\n",
      "|405-5957858-1051546|2022-04-30|             Shipped|  SET254|          Set|  XS|  1|     INR|     KARNATAKA|  1.75|\n",
      "+-------------------+----------+--------------------+--------+-------------+----+---+--------+--------------+------+\n",
      "only showing top 20 rows\n",
      "\n"
     ]
    }
   ],
   "source": [
    "## creating a dummy column with float values\n",
    "\n",
    "df5 = df5.withColumn('number',df5['Qty']*1.75)\n",
    "\n",
    "df5.show()"
   ]
  },
  {
   "cell_type": "code",
   "execution_count": null,
   "metadata": {
    "application/vnd.databricks.v1+cell": {
     "cellMetadata": {
      "byteLimit": 2048000,
      "rowLimit": 10000
     },
     "inputWidgets": {},
     "nuid": "2d936965-e2c2-4fd5-bbff-e38290d30933",
     "showTitle": false,
     "tableResultSettingsMap": {},
     "title": ""
    }
   },
   "outputs": [
    {
     "name": "stdout",
     "output_type": "stream",
     "text": [
      "Out[123]: ['Order ID',\n",
      " 'Date',\n",
      " 'Status',\n",
      " 'Style',\n",
      " 'Category',\n",
      " 'Size',\n",
      " 'Qty',\n",
      " 'currency',\n",
      " 'ship_state',\n",
      " 'number']"
     ]
    }
   ],
   "source": [
    "df5.columns"
   ]
  },
  {
   "cell_type": "code",
   "execution_count": null,
   "metadata": {
    "application/vnd.databricks.v1+cell": {
     "cellMetadata": {
      "byteLimit": 2048000,
      "rowLimit": 10000
     },
     "inputWidgets": {},
     "nuid": "d6ce97bf-69b2-4415-841f-ea87efb0a985",
     "showTitle": false,
     "tableResultSettingsMap": {},
     "title": ""
    }
   },
   "outputs": [
    {
     "name": "stdout",
     "output_type": "stream",
     "text": [
      "+------+---+\n",
      "|number|Qty|\n",
      "+------+---+\n",
      "|   0.0|  0|\n",
      "|  1.75|  1|\n",
      "|  1.75|  1|\n",
      "|   0.0|  0|\n",
      "|  1.75|  1|\n",
      "|  1.75|  1|\n",
      "|  1.75|  1|\n",
      "|  1.75|  1|\n",
      "|   0.0|  0|\n",
      "|  1.75|  1|\n",
      "|  1.75|  1|\n",
      "|  1.75|  1|\n",
      "|  1.75|  1|\n",
      "|  1.75|  1|\n",
      "|  1.75|  1|\n",
      "|  1.75|  1|\n",
      "|  1.75|  1|\n",
      "|  1.75|  1|\n",
      "|  1.75|  1|\n",
      "|  1.75|  1|\n",
      "+------+---+\n",
      "only showing top 20 rows\n",
      "\n"
     ]
    }
   ],
   "source": [
    "df5[['number','Qty']].show()"
   ]
  },
  {
   "cell_type": "code",
   "execution_count": null,
   "metadata": {
    "application/vnd.databricks.v1+cell": {
     "cellMetadata": {
      "byteLimit": 2048000,
      "rowLimit": 10000
     },
     "inputWidgets": {},
     "nuid": "69330386-19fb-4254-8b56-2975d2624e68",
     "showTitle": false,
     "tableResultSettingsMap": {},
     "title": ""
    }
   },
   "outputs": [
    {
     "name": "stdout",
     "output_type": "stream",
     "text": [
      "root\n",
      " |-- Order ID: string (nullable = true)\n",
      " |-- Date: date (nullable = true)\n",
      " |-- Status: string (nullable = true)\n",
      " |-- Style: string (nullable = true)\n",
      " |-- Category: string (nullable = true)\n",
      " |-- Size: string (nullable = true)\n",
      " |-- Qty: integer (nullable = true)\n",
      " |-- currency: string (nullable = true)\n",
      " |-- ship_state: string (nullable = true)\n",
      " |-- number: double (nullable = true)\n",
      "\n"
     ]
    }
   ],
   "source": [
    "df5.printSchema()"
   ]
  },
  {
   "cell_type": "code",
   "execution_count": null,
   "metadata": {
    "application/vnd.databricks.v1+cell": {
     "cellMetadata": {
      "byteLimit": 2048000,
      "rowLimit": 10000
     },
     "inputWidgets": {},
     "nuid": "84ad8420-1779-4058-a0de-b6f0c4151cd0",
     "showTitle": false,
     "tableResultSettingsMap": {},
     "title": ""
    }
   },
   "outputs": [
    {
     "name": "stdout",
     "output_type": "stream",
     "text": [
      "+------+---+\n",
      "|number|Qty|\n",
      "+------+---+\n",
      "|     0|  0|\n",
      "|     1|  1|\n",
      "|     1|  1|\n",
      "|     0|  0|\n",
      "|     1|  1|\n",
      "|     1|  1|\n",
      "|     1|  1|\n",
      "|     1|  1|\n",
      "|     0|  0|\n",
      "|     1|  1|\n",
      "|     1|  1|\n",
      "|     1|  1|\n",
      "|     1|  1|\n",
      "|     1|  1|\n",
      "|     1|  1|\n",
      "|     1|  1|\n",
      "|     1|  1|\n",
      "|     1|  1|\n",
      "|     1|  1|\n",
      "|     1|  1|\n",
      "+------+---+\n",
      "only showing top 20 rows\n",
      "\n"
     ]
    }
   ],
   "source": [
    "## we are goint to cast that float column to integer \n",
    "\n",
    "df5 =df5.withColumn('number',df5['number'].cast('integer'))\n",
    "\n",
    "df5[['number','Qty']].show()"
   ]
  },
  {
   "cell_type": "code",
   "execution_count": null,
   "metadata": {
    "application/vnd.databricks.v1+cell": {
     "cellMetadata": {
      "byteLimit": 2048000,
      "rowLimit": 10000
     },
     "inputWidgets": {},
     "nuid": "eda531d5-8464-4c5a-b93f-477f3b5d9d84",
     "showTitle": false,
     "tableResultSettingsMap": {},
     "title": ""
    }
   },
   "outputs": [
    {
     "name": "stdout",
     "output_type": "stream",
     "text": [
      "root\n",
      " |-- Order ID: string (nullable = true)\n",
      " |-- Date: date (nullable = true)\n",
      " |-- Status: string (nullable = true)\n",
      " |-- Style: string (nullable = true)\n",
      " |-- Category: string (nullable = true)\n",
      " |-- Size: string (nullable = true)\n",
      " |-- Qty: integer (nullable = true)\n",
      " |-- currency: string (nullable = true)\n",
      " |-- ship_state: string (nullable = true)\n",
      " |-- number: integer (nullable = true)\n",
      "\n"
     ]
    }
   ],
   "source": [
    "df5.printSchema()"
   ]
  },
  {
   "cell_type": "code",
   "execution_count": null,
   "metadata": {
    "application/vnd.databricks.v1+cell": {
     "cellMetadata": {
      "byteLimit": 2048000,
      "rowLimit": 10000
     },
     "inputWidgets": {},
     "nuid": "6bdee465-abe7-4ea5-8221-e6bc6a62709f",
     "showTitle": false,
     "tableResultSettingsMap": {},
     "title": ""
    }
   },
   "outputs": [],
   "source": [
    "#filling missing values  \n",
    "\n",
    "df5 = df5.fillna('0',subset='Qty')\n"
   ]
  },
  {
   "cell_type": "code",
   "execution_count": null,
   "metadata": {
    "application/vnd.databricks.v1+cell": {
     "cellMetadata": {
      "byteLimit": 2048000,
      "rowLimit": 10000
     },
     "inputWidgets": {},
     "nuid": "65da2eeb-9160-4a27-80c9-1234b78cee6d",
     "showTitle": false,
     "tableResultSettingsMap": {},
     "title": ""
    }
   },
   "outputs": [],
   "source": [
    "## filling missing values in multiple columns using differnt vaules\n",
    "\n",
    "\n",
    "df5 = df5.fillna({'Qty':0,\n",
    "                  'number':1,\n",
    "                  'Category':'unknown'})"
   ]
  },
  {
   "cell_type": "code",
   "execution_count": null,
   "metadata": {
    "application/vnd.databricks.v1+cell": {
     "cellMetadata": {
      "byteLimit": 2048000,
      "rowLimit": 10000
     },
     "inputWidgets": {},
     "nuid": "fbe434c0-6c1c-4de1-b2b0-303eeaab9cd5",
     "showTitle": false,
     "tableResultSettingsMap": {},
     "title": ""
    }
   },
   "outputs": [
    {
     "name": "stdout",
     "output_type": "stream",
     "text": [
      "+-------------------+----------+--------------------+--------+-------------+----+---+--------+--------------+------+----------+\n",
      "|           Order ID|      Date|              Status|   Style|     Category|Size|Qty|currency|    ship_state|number|lit_column|\n",
      "+-------------------+----------+--------------------+--------+-------------+----+---+--------+--------------+------+----------+\n",
      "|405-8078784-5731545|2022-04-30|           Cancelled|  SET389|          Set|   S|  0|     INR|   MAHARASHTRA|     0|     dummy|\n",
      "|171-9198151-1101146|2022-04-30|Shipped - Deliver...| JNE3781|        kurta| 3XL|  1|     INR|     KARNATAKA|     1|     dummy|\n",
      "|404-0687676-7273146|2022-04-30|             Shipped| JNE3371|        kurta|  XL|  1|     INR|   MAHARASHTRA|     1|     dummy|\n",
      "|403-9615377-8133951|2022-04-30|           Cancelled|   J0341|Western Dress|   L|  0|     INR|    PUDUCHERRY|     0|     dummy|\n",
      "|407-1069790-7240320|2022-04-30|             Shipped| JNE3671|          Top| 3XL|  1|     INR|    TAMIL NADU|     1|     dummy|\n",
      "|404-1490984-4578765|2022-04-30|             Shipped|  SET264|          Set|  XL|  1|     INR| UTTAR PRADESH|     1|     dummy|\n",
      "|408-5748499-6859555|2022-04-30|             Shipped|   J0095|          Set|   L|  1|     INR|    CHANDIGARH|     1|     dummy|\n",
      "|406-7807733-3785945|2022-04-30|Shipped - Deliver...| JNE3405|        kurta|   S|  1|     INR|     TELANGANA|     1|     dummy|\n",
      "|407-5443024-5233168|2022-04-30|           Cancelled|  SET200|          Set| 3XL|  0|    null|     TELANGANA|     0|     dummy|\n",
      "|402-4393761-0311520|2022-04-30|             Shipped| JNE3461|        kurta| XXL|  1|     INR|    TAMIL NADU|     1|     dummy|\n",
      "|407-5633625-6970741|2022-04-30|             Shipped| JNE3160|        kurta|   S|  1|     INR|    TAMIL NADU|     1|     dummy|\n",
      "|171-4638481-6326716|2022-04-30|             Shipped| JNE3500|        kurta|  XS|  1|     INR| UTTAR PRADESH|     1|     dummy|\n",
      "|405-5513694-8146768|2022-04-30|Shipped - Deliver...| JNE3405|        kurta|  XS|  1|     INR|   MAHARASHTRA|     1|     dummy|\n",
      "|408-7955685-3083534|2022-04-30|             Shipped|  SET182|          Set|  XS|  1|     INR|   MAHARASHTRA|     1|     dummy|\n",
      "|408-1298370-1920302|2022-04-30|Shipped - Deliver...|   J0351|          Set|   L|  1|     INR|   MAHARASHTRA|     1|     dummy|\n",
      "|403-4965581-9520319|2022-04-30|Shipped - Deliver...|PJNE3368|        kurta| 6XL|  1|     INR|ANDHRA PRADESH|     1|     dummy|\n",
      "|406-9379318-6555504|2022-04-30|             Shipped| JNE3721|        kurta| XXL|  1|     INR|     RAJASTHAN|     1|     dummy|\n",
      "|405-9013803-8009918|2022-04-30|             Shipped| JNE3405|        kurta|  XL|  1|     INR|         DELHI|     1|     dummy|\n",
      "|402-4030358-5835511|2022-04-30|Shipped - Deliver...| JNE3697|        kurta| XXL|  1|     INR|       HARYANA|     1|     dummy|\n",
      "|405-5957858-1051546|2022-04-30|             Shipped|  SET254|          Set|  XS|  1|     INR|     KARNATAKA|     1|     dummy|\n",
      "+-------------------+----------+--------------------+--------+-------------+----+---+--------+--------------+------+----------+\n",
      "only showing top 20 rows\n",
      "\n"
     ]
    }
   ],
   "source": [
    "## litral(lit) and expressin(expr)\n",
    "\n",
    "\n",
    "\n",
    "## lit s used to create a ltral charecters \n",
    "from pyspark.sql.functions import lit\n",
    "\n",
    "df5 = df5.withColumn('lit_column',lit('dummy'))\n",
    "df5.show()"
   ]
  },
  {
   "cell_type": "code",
   "execution_count": null,
   "metadata": {
    "application/vnd.databricks.v1+cell": {
     "cellMetadata": {
      "byteLimit": 2048000,
      "rowLimit": 10000
     },
     "inputWidgets": {},
     "nuid": "5b242320-d849-46a1-b966-f0d20832f68e",
     "showTitle": false,
     "tableResultSettingsMap": {},
     "title": ""
    }
   },
   "outputs": [
    {
     "name": "stdout",
     "output_type": "stream",
     "text": [
      "Out[137]: ['Order ID',\n",
      " 'Date',\n",
      " 'Status',\n",
      " 'Style',\n",
      " 'Category',\n",
      " 'Size',\n",
      " 'Qty',\n",
      " 'currency',\n",
      " 'ship_state',\n",
      " 'number',\n",
      " 'lit_column']"
     ]
    }
   ],
   "source": [
    "df5.columns"
   ]
  },
  {
   "cell_type": "code",
   "execution_count": null,
   "metadata": {
    "application/vnd.databricks.v1+cell": {
     "cellMetadata": {
      "byteLimit": 2048000,
      "rowLimit": 10000
     },
     "inputWidgets": {},
     "nuid": "ca34d9f6-9b0b-4a59-af8f-c71aff837abd",
     "showTitle": false,
     "tableResultSettingsMap": {},
     "title": ""
    }
   },
   "outputs": [
    {
     "name": "stdout",
     "output_type": "stream",
     "text": [
      "+-------------------+----------+--------------------+---+--------+--------------+------+----------+\n",
      "|           Order ID|      Date|              Status|Qty|currency|    ship_state|number|lit_column|\n",
      "+-------------------+----------+--------------------+---+--------+--------------+------+----------+\n",
      "|405-8078784-5731545|2022-04-30|           Cancelled|  0|     INR|   MAHARASHTRA|     0|     dummy|\n",
      "|171-9198151-1101146|2022-04-30|Shipped - Deliver...|  1|     INR|     KARNATAKA|     1|     dummy|\n",
      "|404-0687676-7273146|2022-04-30|             Shipped|  1|     INR|   MAHARASHTRA|     1|     dummy|\n",
      "|403-9615377-8133951|2022-04-30|           Cancelled|  0|     INR|    PUDUCHERRY|     0|     dummy|\n",
      "|407-1069790-7240320|2022-04-30|             Shipped|  1|     INR|    TAMIL NADU|     1|     dummy|\n",
      "|404-1490984-4578765|2022-04-30|             Shipped|  1|     INR| UTTAR PRADESH|     1|     dummy|\n",
      "|408-5748499-6859555|2022-04-30|             Shipped|  1|     INR|    CHANDIGARH|     1|     dummy|\n",
      "|406-7807733-3785945|2022-04-30|Shipped - Deliver...|  1|     INR|     TELANGANA|     1|     dummy|\n",
      "|407-5443024-5233168|2022-04-30|           Cancelled|  0|    null|     TELANGANA|     0|     dummy|\n",
      "|402-4393761-0311520|2022-04-30|             Shipped|  1|     INR|    TAMIL NADU|     1|     dummy|\n",
      "|407-5633625-6970741|2022-04-30|             Shipped|  1|     INR|    TAMIL NADU|     1|     dummy|\n",
      "|171-4638481-6326716|2022-04-30|             Shipped|  1|     INR| UTTAR PRADESH|     1|     dummy|\n",
      "|405-5513694-8146768|2022-04-30|Shipped - Deliver...|  1|     INR|   MAHARASHTRA|     1|     dummy|\n",
      "|408-7955685-3083534|2022-04-30|             Shipped|  1|     INR|   MAHARASHTRA|     1|     dummy|\n",
      "|408-1298370-1920302|2022-04-30|Shipped - Deliver...|  1|     INR|   MAHARASHTRA|     1|     dummy|\n",
      "|403-4965581-9520319|2022-04-30|Shipped - Deliver...|  1|     INR|ANDHRA PRADESH|     1|     dummy|\n",
      "|406-9379318-6555504|2022-04-30|             Shipped|  1|     INR|     RAJASTHAN|     1|     dummy|\n",
      "|405-9013803-8009918|2022-04-30|             Shipped|  1|     INR|         DELHI|     1|     dummy|\n",
      "|402-4030358-5835511|2022-04-30|Shipped - Deliver...|  1|     INR|       HARYANA|     1|     dummy|\n",
      "|405-5957858-1051546|2022-04-30|             Shipped|  1|     INR|     KARNATAKA|     1|     dummy|\n",
      "+-------------------+----------+--------------------+---+--------+--------------+------+----------+\n",
      "only showing top 20 rows\n",
      "\n"
     ]
    }
   ],
   "source": [
    "df5[['Order ID',\n",
    " 'Date',\n",
    " 'Status',\n",
    " 'Qty',\n",
    " 'currency',\n",
    " 'ship_state',\n",
    " 'number',\n",
    " 'lit_column']].show()"
   ]
  },
  {
   "cell_type": "code",
   "execution_count": null,
   "metadata": {
    "application/vnd.databricks.v1+cell": {
     "cellMetadata": {
      "byteLimit": 2048000,
      "rowLimit": 10000
     },
     "inputWidgets": {},
     "nuid": "8e19a7d8-c2c8-4a2c-9c2b-bdc028cba800",
     "showTitle": false,
     "tableResultSettingsMap": {},
     "title": ""
    }
   },
   "outputs": [
    {
     "name": "stdout",
     "output_type": "stream",
     "text": [
      "Out[139]: ['Order ID',\n",
      " 'Date',\n",
      " 'Status',\n",
      " 'Style',\n",
      " 'Category',\n",
      " 'Size',\n",
      " 'Qty',\n",
      " 'currency',\n",
      " 'ship_state',\n",
      " 'number',\n",
      " 'lit_column',\n",
      " 'new_exp_col']"
     ]
    }
   ],
   "source": [
    "## expression used o populate values based on some expresions\n",
    "\n",
    "df5 = df5.withColumn('new_exp_col',df5['Qty']*2.75)\n",
    "\n",
    "df5.columns"
   ]
  },
  {
   "cell_type": "code",
   "execution_count": null,
   "metadata": {
    "application/vnd.databricks.v1+cell": {
     "cellMetadata": {
      "byteLimit": 2048000,
      "rowLimit": 10000
     },
     "inputWidgets": {},
     "nuid": "71e0c1cb-72d0-4c37-bf1f-77b44d66ef41",
     "showTitle": false,
     "tableResultSettingsMap": {},
     "title": ""
    }
   },
   "outputs": [
    {
     "name": "stdout",
     "output_type": "stream",
     "text": [
      "+-------------------+----------+---+--------+--------------+------+----------+-----------+\n",
      "|           Order ID|      Date|Qty|currency|    ship_state|number|lit_column|new_exp_col|\n",
      "+-------------------+----------+---+--------+--------------+------+----------+-----------+\n",
      "|405-8078784-5731545|2022-04-30|  0|     INR|   MAHARASHTRA|     0|     dummy|        0.0|\n",
      "|171-9198151-1101146|2022-04-30|  1|     INR|     KARNATAKA|     1|     dummy|       2.75|\n",
      "|404-0687676-7273146|2022-04-30|  1|     INR|   MAHARASHTRA|     1|     dummy|       2.75|\n",
      "|403-9615377-8133951|2022-04-30|  0|     INR|    PUDUCHERRY|     0|     dummy|        0.0|\n",
      "|407-1069790-7240320|2022-04-30|  1|     INR|    TAMIL NADU|     1|     dummy|       2.75|\n",
      "|404-1490984-4578765|2022-04-30|  1|     INR| UTTAR PRADESH|     1|     dummy|       2.75|\n",
      "|408-5748499-6859555|2022-04-30|  1|     INR|    CHANDIGARH|     1|     dummy|       2.75|\n",
      "|406-7807733-3785945|2022-04-30|  1|     INR|     TELANGANA|     1|     dummy|       2.75|\n",
      "|407-5443024-5233168|2022-04-30|  0|    null|     TELANGANA|     0|     dummy|        0.0|\n",
      "|402-4393761-0311520|2022-04-30|  1|     INR|    TAMIL NADU|     1|     dummy|       2.75|\n",
      "|407-5633625-6970741|2022-04-30|  1|     INR|    TAMIL NADU|     1|     dummy|       2.75|\n",
      "|171-4638481-6326716|2022-04-30|  1|     INR| UTTAR PRADESH|     1|     dummy|       2.75|\n",
      "|405-5513694-8146768|2022-04-30|  1|     INR|   MAHARASHTRA|     1|     dummy|       2.75|\n",
      "|408-7955685-3083534|2022-04-30|  1|     INR|   MAHARASHTRA|     1|     dummy|       2.75|\n",
      "|408-1298370-1920302|2022-04-30|  1|     INR|   MAHARASHTRA|     1|     dummy|       2.75|\n",
      "|403-4965581-9520319|2022-04-30|  1|     INR|ANDHRA PRADESH|     1|     dummy|       2.75|\n",
      "|406-9379318-6555504|2022-04-30|  1|     INR|     RAJASTHAN|     1|     dummy|       2.75|\n",
      "|405-9013803-8009918|2022-04-30|  1|     INR|         DELHI|     1|     dummy|       2.75|\n",
      "|402-4030358-5835511|2022-04-30|  1|     INR|       HARYANA|     1|     dummy|       2.75|\n",
      "|405-5957858-1051546|2022-04-30|  1|     INR|     KARNATAKA|     1|     dummy|       2.75|\n",
      "+-------------------+----------+---+--------+--------------+------+----------+-----------+\n",
      "only showing top 20 rows\n",
      "\n"
     ]
    }
   ],
   "source": [
    "df5[['Order ID',\n",
    " 'Date',\n",
    " 'Qty',\n",
    " 'currency',\n",
    " 'ship_state',\n",
    " 'number',\n",
    " 'lit_column',\n",
    " 'new_exp_col']].show()"
   ]
  },
  {
   "cell_type": "code",
   "execution_count": null,
   "metadata": {
    "application/vnd.databricks.v1+cell": {
     "cellMetadata": {
      "byteLimit": 2048000,
      "rowLimit": 10000
     },
     "inputWidgets": {},
     "nuid": "dafaddc8-1596-4173-8fd8-20a3baa8251f",
     "showTitle": false,
     "tableResultSettingsMap": {},
     "title": ""
    }
   },
   "outputs": [
    {
     "name": "stdout",
     "output_type": "stream",
     "text": [
      "+----------+------+------+-------+------------+-----+----+---+-------------+-----+\n",
      "|      Date|Blouse|Bottom|Dupatta|Ethnic Dress|Saree| Set|Top|Western Dress|kurta|\n",
      "+----------+------+------+-------+------------+-----+----+---+-------------+-----+\n",
      "|2022-05-19|    28|    12|   null|          20|    4| 768|242|          450|  658|\n",
      "|2022-05-26|    14|     8|   null|          34|    2| 760|212|          370|  838|\n",
      "|2022-06-22|    14|    14|   null|          24|    2| 854|160|          306|  972|\n",
      "|2022-06-18|    10|    10|   null|          16|    2| 880|136|          264|  820|\n",
      "|2022-06-06|    12|  null|   null|          18| null|1058|148|          372| 1218|\n",
      "|2022-04-02|    10|     6|   null|           8|    2|1246|248|          192| 1104|\n",
      "|2022-04-10|    22|    14|   null|          26|    2|1372|250|          314| 1238|\n",
      "|2022-05-01|    26|     8|   null|           8|    2|1364|268|          296| 1350|\n",
      "|2022-04-27|    30|    20|   null|           8|    2|1058|224|          230| 1016|\n",
      "|2022-05-07|    22|  null|   null|          32|    4|1096|240|          332|  920|\n",
      "|2022-05-23|    16|    16|   null|          26|    2| 794|272|          340|  682|\n",
      "|2022-04-12|    12|     4|   null|          38| null|1148|236|          272|  892|\n",
      "|2022-06-02|    22|     6|   null|          36|    4| 900|250|          500|  840|\n",
      "|2022-06-05|     6|     2|   null|          42|    8|1076|156|          296| 1318|\n",
      "|2022-04-18|    42|    16|   null|          12|    0|1054|248|          254| 1168|\n",
      "|2022-05-24|    14|    12|   null|          34|    2| 830|262|          346|  732|\n",
      "|2022-06-29|     6|     0|   null|          10| null| 428|102|          212|  496|\n",
      "|2022-04-09|    28|    12|   null|          30|    4|1174|274|          374| 1046|\n",
      "|2022-04-06|    18|     8|   null|          20|    2|1038|224|          254| 1314|\n",
      "|2022-06-28|    16|    10|   null|          20|    4| 804|170|          354|  830|\n",
      "+----------+------+------+-------+------------+-----+----+---+-------------+-----+\n",
      "only showing top 20 rows\n",
      "\n"
     ]
    }
   ],
   "source": [
    "## using pivot\n",
    "\n",
    "pivoted_df = df5.groupby('Date').pivot('Category').agg(sum('Qty'))\n",
    "\n",
    "pivoted_df.show()"
   ]
  },
  {
   "cell_type": "code",
   "execution_count": null,
   "metadata": {
    "application/vnd.databricks.v1+cell": {
     "cellMetadata": {
      "byteLimit": 2048000,
      "rowLimit": 10000
     },
     "inputWidgets": {},
     "nuid": "4cf5e303-759e-4fdf-b764-c4109e808198",
     "showTitle": false,
     "tableResultSettingsMap": {},
     "title": ""
    }
   },
   "outputs": [
    {
     "name": "stdout",
     "output_type": "stream",
     "text": [
      "+----------+------+------+-------+------------+-----+----+---+-------------+-----+\n",
      "|      Date|Blouse|Bottom|Dupatta|Ethnic Dress|Saree| Set|Top|Western Dress|kurta|\n",
      "+----------+------+------+-------+------------+-----+----+---+-------------+-----+\n",
      "|2022-03-31|     2|  null|   null|           2| null| 136| 18|           12|  142|\n",
      "|2022-04-01|    28|     4|   null|          20| null|1114|286|          172| 1014|\n",
      "|2022-04-02|    10|     6|   null|           8|    2|1246|248|          192| 1104|\n",
      "|2022-04-03|    34|     2|   null|          14|   12|1396|304|          166| 1160|\n",
      "|2022-04-04|    16|     8|   null|          20| null|1178|252|          156| 1032|\n",
      "|2022-04-05|    10|    14|   null|          18| null|1294|282|          158| 1196|\n",
      "|2022-04-06|    18|     8|   null|          20|    2|1038|224|          254| 1314|\n",
      "|2022-04-07|    38|    18|   null|          18|    8|1140|202|          228| 1102|\n",
      "|2022-04-08|    20|    14|   null|          16|    6|1198|270|          460| 1054|\n",
      "|2022-04-09|    28|    12|   null|          30|    4|1174|274|          374| 1046|\n",
      "|2022-04-10|    22|    14|   null|          26|    2|1372|250|          314| 1238|\n",
      "|2022-04-11|    28|     8|   null|          28| null|1222|222|          276| 1008|\n",
      "|2022-04-12|    12|     4|   null|          38| null|1148|236|          272|  892|\n",
      "|2022-04-13|    14|     4|   null|          34| null|1158|216|          312| 1220|\n",
      "|2022-04-14|    28|     4|   null|          26| null|1422|222|          256| 1432|\n",
      "|2022-04-15|    46|  null|   null|          18|    2|1286|240|          238| 1410|\n",
      "|2022-04-16|    24|    12|   null|          12|   30|1162|232|          270| 1334|\n",
      "|2022-04-17|    36|    14|   null|          18| null|1174|216|          180| 1252|\n",
      "|2022-04-18|    42|    16|   null|          12|    0|1054|248|          254| 1168|\n",
      "|2022-04-19|    40|    12|   null|          20|    2|1208|224|          224| 1260|\n",
      "+----------+------+------+-------+------------+-----+----+---+-------------+-----+\n",
      "only showing top 20 rows\n",
      "\n"
     ]
    }
   ],
   "source": [
    "pivoted_df.orderBy('Date').show()"
   ]
  },
  {
   "cell_type": "code",
   "execution_count": null,
   "metadata": {
    "application/vnd.databricks.v1+cell": {
     "cellMetadata": {
      "byteLimit": 2048000,
      "rowLimit": 10000
     },
     "inputWidgets": {},
     "nuid": "e2d2da5a-2739-4402-803c-498eb0b3bd27",
     "showTitle": false,
     "tableResultSettingsMap": {},
     "title": ""
    }
   },
   "outputs": [
    {
     "name": "stdout",
     "output_type": "stream",
     "text": [
      "Out[144]: ['Order ID',\n",
      " 'Date',\n",
      " 'Status',\n",
      " 'Style',\n",
      " 'Category',\n",
      " 'Size',\n",
      " 'Qty',\n",
      " 'currency',\n",
      " 'ship_state',\n",
      " 'number',\n",
      " 'lit_column',\n",
      " 'new_exp_col']"
     ]
    }
   ],
   "source": [
    "df5.columns"
   ]
  },
  {
   "cell_type": "code",
   "execution_count": null,
   "metadata": {
    "application/vnd.databricks.v1+cell": {
     "cellMetadata": {
      "byteLimit": 2048000,
      "rowLimit": 10000
     },
     "inputWidgets": {},
     "nuid": "51800347-a264-40c9-948f-c308d42fbd8a",
     "showTitle": false,
     "tableResultSettingsMap": {},
     "title": ""
    }
   },
   "outputs": [
    {
     "name": "stdout",
     "output_type": "stream",
     "text": [
      "+-------------------+----------+--------------------+-------------+---+\n",
      "|           Order ID|      Date|              Status|     Category|Qty|\n",
      "+-------------------+----------+--------------------+-------------+---+\n",
      "|405-8078784-5731545|2022-04-30|           Cancelled|          Set|  0|\n",
      "|171-9198151-1101146|2022-04-30|Shipped - Deliver...|        kurta|  1|\n",
      "|404-0687676-7273146|2022-04-30|             Shipped|        kurta|  1|\n",
      "|403-9615377-8133951|2022-04-30|           Cancelled|Western Dress|  0|\n",
      "|407-1069790-7240320|2022-04-30|             Shipped|          Top|  1|\n",
      "|404-1490984-4578765|2022-04-30|             Shipped|          Set|  1|\n",
      "|408-5748499-6859555|2022-04-30|             Shipped|          Set|  1|\n",
      "|406-7807733-3785945|2022-04-30|Shipped - Deliver...|        kurta|  1|\n",
      "|407-5443024-5233168|2022-04-30|           Cancelled|          Set|  0|\n",
      "|402-4393761-0311520|2022-04-30|             Shipped|        kurta|  1|\n",
      "|407-5633625-6970741|2022-04-30|             Shipped|        kurta|  1|\n",
      "|171-4638481-6326716|2022-04-30|             Shipped|        kurta|  1|\n",
      "|405-5513694-8146768|2022-04-30|Shipped - Deliver...|        kurta|  1|\n",
      "|408-7955685-3083534|2022-04-30|             Shipped|          Set|  1|\n",
      "|408-1298370-1920302|2022-04-30|Shipped - Deliver...|          Set|  1|\n",
      "|403-4965581-9520319|2022-04-30|Shipped - Deliver...|        kurta|  1|\n",
      "|406-9379318-6555504|2022-04-30|             Shipped|        kurta|  1|\n",
      "|405-9013803-8009918|2022-04-30|             Shipped|        kurta|  1|\n",
      "|402-4030358-5835511|2022-04-30|Shipped - Deliver...|        kurta|  1|\n",
      "|405-5957858-1051546|2022-04-30|             Shipped|          Set|  1|\n",
      "+-------------------+----------+--------------------+-------------+---+\n",
      "only showing top 20 rows\n",
      "\n"
     ]
    }
   ],
   "source": [
    "df6 = df5[['Order ID',\n",
    " 'Date',\n",
    " 'Status',\n",
    " 'Category',\n",
    " 'Qty']]\n",
    "\n",
    "\n",
    "df6.show()"
   ]
  },
  {
   "cell_type": "code",
   "execution_count": null,
   "metadata": {
    "application/vnd.databricks.v1+cell": {
     "cellMetadata": {
      "byteLimit": 2048000,
      "rowLimit": 10000
     },
     "inputWidgets": {},
     "nuid": "7aaa6398-4f02-49ee-a8ae-f6d7f132a414",
     "showTitle": false,
     "tableResultSettingsMap": {},
     "title": ""
    }
   },
   "outputs": [
    {
     "name": "stdout",
     "output_type": "stream",
     "text": [
      "+-------------------+----------+--------------------+-------------+---+----+\n",
      "|           Order ID|      Date|              Status|     Category|Qty|year|\n",
      "+-------------------+----------+--------------------+-------------+---+----+\n",
      "|405-8078784-5731545|2022-04-30|           Cancelled|          Set|  0|2022|\n",
      "|171-9198151-1101146|2022-04-30|Shipped - Deliver...|        kurta|  1|2022|\n",
      "|404-0687676-7273146|2022-04-30|             Shipped|        kurta|  1|2022|\n",
      "|403-9615377-8133951|2022-04-30|           Cancelled|Western Dress|  0|2022|\n",
      "|407-1069790-7240320|2022-04-30|             Shipped|          Top|  1|2022|\n",
      "|404-1490984-4578765|2022-04-30|             Shipped|          Set|  1|2022|\n",
      "|408-5748499-6859555|2022-04-30|             Shipped|          Set|  1|2022|\n",
      "|406-7807733-3785945|2022-04-30|Shipped - Deliver...|        kurta|  1|2022|\n",
      "|407-5443024-5233168|2022-04-30|           Cancelled|          Set|  0|2022|\n",
      "|402-4393761-0311520|2022-04-30|             Shipped|        kurta|  1|2022|\n",
      "|407-5633625-6970741|2022-04-30|             Shipped|        kurta|  1|2022|\n",
      "|171-4638481-6326716|2022-04-30|             Shipped|        kurta|  1|2022|\n",
      "|405-5513694-8146768|2022-04-30|Shipped - Deliver...|        kurta|  1|2022|\n",
      "|408-7955685-3083534|2022-04-30|             Shipped|          Set|  1|2022|\n",
      "|408-1298370-1920302|2022-04-30|Shipped - Deliver...|          Set|  1|2022|\n",
      "|403-4965581-9520319|2022-04-30|Shipped - Deliver...|        kurta|  1|2022|\n",
      "|406-9379318-6555504|2022-04-30|             Shipped|        kurta|  1|2022|\n",
      "|405-9013803-8009918|2022-04-30|             Shipped|        kurta|  1|2022|\n",
      "|402-4030358-5835511|2022-04-30|Shipped - Deliver...|        kurta|  1|2022|\n",
      "|405-5957858-1051546|2022-04-30|             Shipped|          Set|  1|2022|\n",
      "+-------------------+----------+--------------------+-------------+---+----+\n",
      "only showing top 20 rows\n",
      "\n"
     ]
    }
   ],
   "source": [
    "### Date functions \n",
    "\n",
    "from pyspark.sql.functions import year,month,dayofmonth,datediff,current_date,date_format\n",
    "\n",
    "df6 = df6.withColumn('year',year(df6['Date']))\n",
    "\n",
    "df6.show()"
   ]
  },
  {
   "cell_type": "code",
   "execution_count": null,
   "metadata": {
    "application/vnd.databricks.v1+cell": {
     "cellMetadata": {
      "byteLimit": 2048000,
      "rowLimit": 10000
     },
     "inputWidgets": {},
     "nuid": "d3feb08c-5c2d-4581-bf90-133028fb0d63",
     "showTitle": false,
     "tableResultSettingsMap": {},
     "title": ""
    }
   },
   "outputs": [
    {
     "name": "stdout",
     "output_type": "stream",
     "text": [
      "+-------------------+----------+--------------------+-------------+---+----+-----+\n",
      "|           Order ID|      Date|              Status|     Category|Qty|year|month|\n",
      "+-------------------+----------+--------------------+-------------+---+----+-----+\n",
      "|405-8078784-5731545|2022-04-30|           Cancelled|          Set|  0|2022|    4|\n",
      "|171-9198151-1101146|2022-04-30|Shipped - Deliver...|        kurta|  1|2022|    4|\n",
      "|404-0687676-7273146|2022-04-30|             Shipped|        kurta|  1|2022|    4|\n",
      "|403-9615377-8133951|2022-04-30|           Cancelled|Western Dress|  0|2022|    4|\n",
      "|407-1069790-7240320|2022-04-30|             Shipped|          Top|  1|2022|    4|\n",
      "|404-1490984-4578765|2022-04-30|             Shipped|          Set|  1|2022|    4|\n",
      "|408-5748499-6859555|2022-04-30|             Shipped|          Set|  1|2022|    4|\n",
      "|406-7807733-3785945|2022-04-30|Shipped - Deliver...|        kurta|  1|2022|    4|\n",
      "|407-5443024-5233168|2022-04-30|           Cancelled|          Set|  0|2022|    4|\n",
      "|402-4393761-0311520|2022-04-30|             Shipped|        kurta|  1|2022|    4|\n",
      "|407-5633625-6970741|2022-04-30|             Shipped|        kurta|  1|2022|    4|\n",
      "|171-4638481-6326716|2022-04-30|             Shipped|        kurta|  1|2022|    4|\n",
      "|405-5513694-8146768|2022-04-30|Shipped - Deliver...|        kurta|  1|2022|    4|\n",
      "|408-7955685-3083534|2022-04-30|             Shipped|          Set|  1|2022|    4|\n",
      "|408-1298370-1920302|2022-04-30|Shipped - Deliver...|          Set|  1|2022|    4|\n",
      "|403-4965581-9520319|2022-04-30|Shipped - Deliver...|        kurta|  1|2022|    4|\n",
      "|406-9379318-6555504|2022-04-30|             Shipped|        kurta|  1|2022|    4|\n",
      "|405-9013803-8009918|2022-04-30|             Shipped|        kurta|  1|2022|    4|\n",
      "|402-4030358-5835511|2022-04-30|Shipped - Deliver...|        kurta|  1|2022|    4|\n",
      "|405-5957858-1051546|2022-04-30|             Shipped|          Set|  1|2022|    4|\n",
      "+-------------------+----------+--------------------+-------------+---+----+-----+\n",
      "only showing top 20 rows\n",
      "\n"
     ]
    }
   ],
   "source": [
    "df6 = df6.withColumn('month',month(df6['Date']))\n",
    "\n",
    "df6.show()"
   ]
  },
  {
   "cell_type": "code",
   "execution_count": null,
   "metadata": {
    "application/vnd.databricks.v1+cell": {
     "cellMetadata": {
      "byteLimit": 2048000,
      "rowLimit": 10000
     },
     "inputWidgets": {},
     "nuid": "867c311d-0a38-41c4-bdc5-1f682e7f4e47",
     "showTitle": false,
     "tableResultSettingsMap": {},
     "title": ""
    }
   },
   "outputs": [
    {
     "name": "stdout",
     "output_type": "stream",
     "text": [
      "+-------------------+----------+--------------------+-------------+---+----+-----+------------+\n",
      "|           Order ID|      Date|              Status|     Category|Qty|year|month|exp_del_date|\n",
      "+-------------------+----------+--------------------+-------------+---+----+-----+------------+\n",
      "|405-8078784-5731545|2022-04-30|           Cancelled|          Set|  0|2022|    4|  2022-05-08|\n",
      "|171-9198151-1101146|2022-04-30|Shipped - Deliver...|        kurta|  1|2022|    4|  2022-05-08|\n",
      "|404-0687676-7273146|2022-04-30|             Shipped|        kurta|  1|2022|    4|  2022-05-08|\n",
      "|403-9615377-8133951|2022-04-30|           Cancelled|Western Dress|  0|2022|    4|  2022-05-08|\n",
      "|407-1069790-7240320|2022-04-30|             Shipped|          Top|  1|2022|    4|  2022-05-08|\n",
      "|404-1490984-4578765|2022-04-30|             Shipped|          Set|  1|2022|    4|  2022-05-08|\n",
      "|408-5748499-6859555|2022-04-30|             Shipped|          Set|  1|2022|    4|  2022-05-08|\n",
      "|406-7807733-3785945|2022-04-30|Shipped - Deliver...|        kurta|  1|2022|    4|  2022-05-08|\n",
      "|407-5443024-5233168|2022-04-30|           Cancelled|          Set|  0|2022|    4|  2022-05-08|\n",
      "|402-4393761-0311520|2022-04-30|             Shipped|        kurta|  1|2022|    4|  2022-05-08|\n",
      "|407-5633625-6970741|2022-04-30|             Shipped|        kurta|  1|2022|    4|  2022-05-08|\n",
      "|171-4638481-6326716|2022-04-30|             Shipped|        kurta|  1|2022|    4|  2022-05-08|\n",
      "|405-5513694-8146768|2022-04-30|Shipped - Deliver...|        kurta|  1|2022|    4|  2022-05-08|\n",
      "|408-7955685-3083534|2022-04-30|             Shipped|          Set|  1|2022|    4|  2022-05-08|\n",
      "|408-1298370-1920302|2022-04-30|Shipped - Deliver...|          Set|  1|2022|    4|  2022-05-08|\n",
      "|403-4965581-9520319|2022-04-30|Shipped - Deliver...|        kurta|  1|2022|    4|  2022-05-08|\n",
      "|406-9379318-6555504|2022-04-30|             Shipped|        kurta|  1|2022|    4|  2022-05-08|\n",
      "|405-9013803-8009918|2022-04-30|             Shipped|        kurta|  1|2022|    4|  2022-05-08|\n",
      "|402-4030358-5835511|2022-04-30|Shipped - Deliver...|        kurta|  1|2022|    4|  2022-05-08|\n",
      "|405-5957858-1051546|2022-04-30|             Shipped|          Set|  1|2022|    4|  2022-05-08|\n",
      "+-------------------+----------+--------------------+-------------+---+----+-----+------------+\n",
      "only showing top 20 rows\n",
      "\n"
     ]
    }
   ],
   "source": [
    "### adding date (expected delvery date - 8 days from the day of order )\n",
    "from pyspark.sql.functions import expr\n",
    "\n",
    "df6 = df6.withColumn('exp_del_date',expr('date_add(Date,8)'))\n",
    "\n",
    "df6.show()\n",
    "\n"
   ]
  },
  {
   "cell_type": "code",
   "execution_count": null,
   "metadata": {
    "application/vnd.databricks.v1+cell": {
     "cellMetadata": {
      "byteLimit": 2048000,
      "rowLimit": 10000
     },
     "inputWidgets": {},
     "nuid": "d830d380-295e-4e63-a7b6-f32788a4a2b9",
     "showTitle": false,
     "tableResultSettingsMap": {},
     "title": ""
    }
   },
   "outputs": [
    {
     "name": "stdout",
     "output_type": "stream",
     "text": [
      "+-------------------+----------+--------------------+-------------+---+----+-----+------------+----------+\n",
      "|           Order ID|      Date|              Status|     Category|Qty|year|month|exp_del_date|     today|\n",
      "+-------------------+----------+--------------------+-------------+---+----+-----+------------+----------+\n",
      "|405-8078784-5731545|2022-04-30|           Cancelled|          Set|  0|2022|    4|  2022-05-08|2024-09-11|\n",
      "|171-9198151-1101146|2022-04-30|Shipped - Deliver...|        kurta|  1|2022|    4|  2022-05-08|2024-09-11|\n",
      "|404-0687676-7273146|2022-04-30|             Shipped|        kurta|  1|2022|    4|  2022-05-08|2024-09-11|\n",
      "|403-9615377-8133951|2022-04-30|           Cancelled|Western Dress|  0|2022|    4|  2022-05-08|2024-09-11|\n",
      "|407-1069790-7240320|2022-04-30|             Shipped|          Top|  1|2022|    4|  2022-05-08|2024-09-11|\n",
      "|404-1490984-4578765|2022-04-30|             Shipped|          Set|  1|2022|    4|  2022-05-08|2024-09-11|\n",
      "|408-5748499-6859555|2022-04-30|             Shipped|          Set|  1|2022|    4|  2022-05-08|2024-09-11|\n",
      "|406-7807733-3785945|2022-04-30|Shipped - Deliver...|        kurta|  1|2022|    4|  2022-05-08|2024-09-11|\n",
      "|407-5443024-5233168|2022-04-30|           Cancelled|          Set|  0|2022|    4|  2022-05-08|2024-09-11|\n",
      "|402-4393761-0311520|2022-04-30|             Shipped|        kurta|  1|2022|    4|  2022-05-08|2024-09-11|\n",
      "|407-5633625-6970741|2022-04-30|             Shipped|        kurta|  1|2022|    4|  2022-05-08|2024-09-11|\n",
      "|171-4638481-6326716|2022-04-30|             Shipped|        kurta|  1|2022|    4|  2022-05-08|2024-09-11|\n",
      "|405-5513694-8146768|2022-04-30|Shipped - Deliver...|        kurta|  1|2022|    4|  2022-05-08|2024-09-11|\n",
      "|408-7955685-3083534|2022-04-30|             Shipped|          Set|  1|2022|    4|  2022-05-08|2024-09-11|\n",
      "|408-1298370-1920302|2022-04-30|Shipped - Deliver...|          Set|  1|2022|    4|  2022-05-08|2024-09-11|\n",
      "|403-4965581-9520319|2022-04-30|Shipped - Deliver...|        kurta|  1|2022|    4|  2022-05-08|2024-09-11|\n",
      "|406-9379318-6555504|2022-04-30|             Shipped|        kurta|  1|2022|    4|  2022-05-08|2024-09-11|\n",
      "|405-9013803-8009918|2022-04-30|             Shipped|        kurta|  1|2022|    4|  2022-05-08|2024-09-11|\n",
      "|402-4030358-5835511|2022-04-30|Shipped - Deliver...|        kurta|  1|2022|    4|  2022-05-08|2024-09-11|\n",
      "|405-5957858-1051546|2022-04-30|             Shipped|          Set|  1|2022|    4|  2022-05-08|2024-09-11|\n",
      "+-------------------+----------+--------------------+-------------+---+----+-----+------------+----------+\n",
      "only showing top 20 rows\n",
      "\n"
     ]
    }
   ],
   "source": [
    "## creating a column with current date\n",
    "df6 = df6.withColumn('today',expr('current_date()'))\n",
    "\n",
    "df6.show()"
   ]
  },
  {
   "cell_type": "code",
   "execution_count": null,
   "metadata": {
    "application/vnd.databricks.v1+cell": {
     "cellMetadata": {
      "byteLimit": 2048000,
      "rowLimit": 10000
     },
     "inputWidgets": {},
     "nuid": "1004a9a3-32e9-4583-8c46-bba7a9417370",
     "showTitle": false,
     "tableResultSettingsMap": {},
     "title": ""
    }
   },
   "outputs": [
    {
     "name": "stdout",
     "output_type": "stream",
     "text": [
      "Out[157]: ['Order ID',\n",
      " 'Date',\n",
      " 'Status',\n",
      " 'Category',\n",
      " 'Qty',\n",
      " 'year',\n",
      " 'month',\n",
      " 'exp_del_date',\n",
      " 'today']"
     ]
    }
   ],
   "source": [
    "df6.columns"
   ]
  },
  {
   "cell_type": "code",
   "execution_count": null,
   "metadata": {
    "application/vnd.databricks.v1+cell": {
     "cellMetadata": {
      "byteLimit": 2048000,
      "rowLimit": 10000
     },
     "inputWidgets": {},
     "nuid": "23b3b7f6-98c5-4881-a7f5-e96a5df9d522",
     "showTitle": false,
     "tableResultSettingsMap": {},
     "title": ""
    }
   },
   "outputs": [
    {
     "name": "stdout",
     "output_type": "stream",
     "text": [
      "+-------------------+----------+-------------+---+----+-----+------------+----------+\n",
      "|           Order ID|      Date|     Category|Qty|year|month|exp_del_date|     today|\n",
      "+-------------------+----------+-------------+---+----+-----+------------+----------+\n",
      "|405-8078784-5731545|2022-04-30|          Set|  0|2022|    4|  2022-05-08|2024-09-11|\n",
      "|171-9198151-1101146|2022-04-30|        kurta|  1|2022|    4|  2022-05-08|2024-09-11|\n",
      "|404-0687676-7273146|2022-04-30|        kurta|  1|2022|    4|  2022-05-08|2024-09-11|\n",
      "|403-9615377-8133951|2022-04-30|Western Dress|  0|2022|    4|  2022-05-08|2024-09-11|\n",
      "|407-1069790-7240320|2022-04-30|          Top|  1|2022|    4|  2022-05-08|2024-09-11|\n",
      "|404-1490984-4578765|2022-04-30|          Set|  1|2022|    4|  2022-05-08|2024-09-11|\n",
      "|408-5748499-6859555|2022-04-30|          Set|  1|2022|    4|  2022-05-08|2024-09-11|\n",
      "|406-7807733-3785945|2022-04-30|        kurta|  1|2022|    4|  2022-05-08|2024-09-11|\n",
      "|407-5443024-5233168|2022-04-30|          Set|  0|2022|    4|  2022-05-08|2024-09-11|\n",
      "|402-4393761-0311520|2022-04-30|        kurta|  1|2022|    4|  2022-05-08|2024-09-11|\n",
      "|407-5633625-6970741|2022-04-30|        kurta|  1|2022|    4|  2022-05-08|2024-09-11|\n",
      "|171-4638481-6326716|2022-04-30|        kurta|  1|2022|    4|  2022-05-08|2024-09-11|\n",
      "|405-5513694-8146768|2022-04-30|        kurta|  1|2022|    4|  2022-05-08|2024-09-11|\n",
      "|408-7955685-3083534|2022-04-30|          Set|  1|2022|    4|  2022-05-08|2024-09-11|\n",
      "|408-1298370-1920302|2022-04-30|          Set|  1|2022|    4|  2022-05-08|2024-09-11|\n",
      "|403-4965581-9520319|2022-04-30|        kurta|  1|2022|    4|  2022-05-08|2024-09-11|\n",
      "|406-9379318-6555504|2022-04-30|        kurta|  1|2022|    4|  2022-05-08|2024-09-11|\n",
      "|405-9013803-8009918|2022-04-30|        kurta|  1|2022|    4|  2022-05-08|2024-09-11|\n",
      "|402-4030358-5835511|2022-04-30|        kurta|  1|2022|    4|  2022-05-08|2024-09-11|\n",
      "|405-5957858-1051546|2022-04-30|          Set|  1|2022|    4|  2022-05-08|2024-09-11|\n",
      "+-------------------+----------+-------------+---+----+-----+------------+----------+\n",
      "only showing top 20 rows\n",
      "\n"
     ]
    }
   ],
   "source": [
    "df7 = df6[['Order ID',\n",
    "           'Date',\n",
    "           'Category',\n",
    "            'Qty',\n",
    "            'year',\n",
    "            'month',\n",
    "            'exp_del_date',\n",
    "            'today']]\n",
    "df7.show()"
   ]
  },
  {
   "cell_type": "code",
   "execution_count": null,
   "metadata": {
    "application/vnd.databricks.v1+cell": {
     "cellMetadata": {
      "byteLimit": 2048000,
      "rowLimit": 10000
     },
     "inputWidgets": {},
     "nuid": "7d5a2d0b-90e7-44bc-b0de-c69c5ba29209",
     "showTitle": false,
     "tableResultSettingsMap": {},
     "title": ""
    }
   },
   "outputs": [
    {
     "name": "stdout",
     "output_type": "stream",
     "text": [
      "Out[161]: ['Order ID',\n",
      " 'Date',\n",
      " 'Category',\n",
      " 'Qty',\n",
      " 'year',\n",
      " 'month',\n",
      " 'exp_del_date',\n",
      " 'today']"
     ]
    }
   ],
   "source": [
    "df7.columns"
   ]
  },
  {
   "cell_type": "code",
   "execution_count": null,
   "metadata": {
    "application/vnd.databricks.v1+cell": {
     "cellMetadata": {
      "byteLimit": 2048000,
      "rowLimit": 10000
     },
     "inputWidgets": {},
     "nuid": "cc526dab-8930-417a-957e-0880e62157b0",
     "showTitle": false,
     "tableResultSettingsMap": {},
     "title": ""
    }
   },
   "outputs": [
    {
     "name": "stdout",
     "output_type": "stream",
     "text": [
      "+-------------------+----------+-------------+---+----+-----+------------+----------+-----------------+\n",
      "|           Order ID|      Date|     Category|Qty|year|month|exp_del_date|     today|no_of_days_passed|\n",
      "+-------------------+----------+-------------+---+----+-----+------------+----------+-----------------+\n",
      "|405-8078784-5731545|2022-04-30|          Set|  0|2022|    4|  2022-05-08|2024-09-11|              857|\n",
      "|171-9198151-1101146|2022-04-30|        kurta|  1|2022|    4|  2022-05-08|2024-09-11|              857|\n",
      "|404-0687676-7273146|2022-04-30|        kurta|  1|2022|    4|  2022-05-08|2024-09-11|              857|\n",
      "|403-9615377-8133951|2022-04-30|Western Dress|  0|2022|    4|  2022-05-08|2024-09-11|              857|\n",
      "|407-1069790-7240320|2022-04-30|          Top|  1|2022|    4|  2022-05-08|2024-09-11|              857|\n",
      "|404-1490984-4578765|2022-04-30|          Set|  1|2022|    4|  2022-05-08|2024-09-11|              857|\n",
      "|408-5748499-6859555|2022-04-30|          Set|  1|2022|    4|  2022-05-08|2024-09-11|              857|\n",
      "|406-7807733-3785945|2022-04-30|        kurta|  1|2022|    4|  2022-05-08|2024-09-11|              857|\n",
      "|407-5443024-5233168|2022-04-30|          Set|  0|2022|    4|  2022-05-08|2024-09-11|              857|\n",
      "|402-4393761-0311520|2022-04-30|        kurta|  1|2022|    4|  2022-05-08|2024-09-11|              857|\n",
      "|407-5633625-6970741|2022-04-30|        kurta|  1|2022|    4|  2022-05-08|2024-09-11|              857|\n",
      "|171-4638481-6326716|2022-04-30|        kurta|  1|2022|    4|  2022-05-08|2024-09-11|              857|\n",
      "|405-5513694-8146768|2022-04-30|        kurta|  1|2022|    4|  2022-05-08|2024-09-11|              857|\n",
      "|408-7955685-3083534|2022-04-30|          Set|  1|2022|    4|  2022-05-08|2024-09-11|              857|\n",
      "|408-1298370-1920302|2022-04-30|          Set|  1|2022|    4|  2022-05-08|2024-09-11|              857|\n",
      "|403-4965581-9520319|2022-04-30|        kurta|  1|2022|    4|  2022-05-08|2024-09-11|              857|\n",
      "|406-9379318-6555504|2022-04-30|        kurta|  1|2022|    4|  2022-05-08|2024-09-11|              857|\n",
      "|405-9013803-8009918|2022-04-30|        kurta|  1|2022|    4|  2022-05-08|2024-09-11|              857|\n",
      "|402-4030358-5835511|2022-04-30|        kurta|  1|2022|    4|  2022-05-08|2024-09-11|              857|\n",
      "|405-5957858-1051546|2022-04-30|          Set|  1|2022|    4|  2022-05-08|2024-09-11|              857|\n",
      "+-------------------+----------+-------------+---+----+-----+------------+----------+-----------------+\n",
      "only showing top 20 rows\n",
      "\n"
     ]
    }
   ],
   "source": [
    "## date difference column\n",
    "\n",
    "\n",
    "df7 = df7.withColumn('no_of_days_passed',expr(\"datediff(today,exp_del_date)\"))\n",
    "df7.show()"
   ]
  },
  {
   "cell_type": "code",
   "execution_count": null,
   "metadata": {
    "application/vnd.databricks.v1+cell": {
     "cellMetadata": {
      "byteLimit": 2048000,
      "rowLimit": 10000
     },
     "inputWidgets": {},
     "nuid": "f79e9380-b526-4fb2-b594-01dfc00d73da",
     "showTitle": false,
     "tableResultSettingsMap": {},
     "title": ""
    }
   },
   "outputs": [
    {
     "name": "stdout",
     "output_type": "stream",
     "text": [
      "root\n",
      " |-- Order ID: string (nullable = true)\n",
      " |-- Date: date (nullable = true)\n",
      " |-- Category: string (nullable = false)\n",
      " |-- Qty: integer (nullable = false)\n",
      " |-- year: integer (nullable = true)\n",
      " |-- month: integer (nullable = true)\n",
      " |-- exp_del_date: date (nullable = true)\n",
      " |-- today: date (nullable = false)\n",
      " |-- no_of_days_passed: integer (nullable = true)\n",
      "\n"
     ]
    }
   ],
   "source": [
    "df7.printSchema()"
   ]
  },
  {
   "cell_type": "code",
   "execution_count": null,
   "metadata": {
    "application/vnd.databricks.v1+cell": {
     "cellMetadata": {
      "byteLimit": 2048000,
      "rowLimit": 10000
     },
     "inputWidgets": {},
     "nuid": "2ac9eb1f-7d8d-4aca-99ef-63e3abe6f8c8",
     "showTitle": false,
     "tableResultSettingsMap": {},
     "title": ""
    }
   },
   "outputs": [
    {
     "name": "stdout",
     "output_type": "stream",
     "text": [
      "Out[167]: 122301"
     ]
    }
   ],
   "source": [
    "## droping duplicates\n",
    "\n",
    "df7 = df7.dropDuplicates()\n",
    "df7.count()"
   ]
  },
  {
   "cell_type": "code",
   "execution_count": null,
   "metadata": {
    "application/vnd.databricks.v1+cell": {
     "cellMetadata": {
      "byteLimit": 2048000,
      "rowLimit": 10000
     },
     "inputWidgets": {},
     "nuid": "0149c1bb-bc3c-44e0-be24-572948a65b5e",
     "showTitle": false,
     "tableResultSettingsMap": {},
     "title": ""
    }
   },
   "outputs": [
    {
     "name": "stdout",
     "output_type": "stream",
     "text": [
      "+-------------------+----------+--------+---+----+-----+------------+----------+-----------------+-------+\n",
      "|           Order ID|      Date|Category|Qty|year|month|exp_del_date|     today|no_of_days_passed|cat_ord|\n",
      "+-------------------+----------+--------+---+----+-----+------------+----------+-----------------+-------+\n",
      "|405-8078784-5731545|2022-04-30|     Set|  0|2022|    4|  2022-05-08|2024-09-11|              857| 405Set|\n",
      "|402-4030358-5835511|2022-04-30|   kurta|  1|2022|    4|  2022-05-08|2024-09-11|              857| 402kur|\n",
      "|405-9013803-8009918|2022-04-30|   kurta|  1|2022|    4|  2022-05-08|2024-09-11|              857| 405kur|\n",
      "|404-0687676-7273146|2022-04-30|   kurta|  1|2022|    4|  2022-05-08|2024-09-11|              857| 404kur|\n",
      "|405-5513694-8146768|2022-04-30|   kurta|  1|2022|    4|  2022-05-08|2024-09-11|              857| 405kur|\n",
      "|408-7955685-3083534|2022-04-30|     Set|  1|2022|    4|  2022-05-08|2024-09-11|              857| 408Set|\n",
      "|407-5443024-5233168|2022-04-30|     Set|  0|2022|    4|  2022-05-08|2024-09-11|              857| 407Set|\n",
      "|406-9379318-6555504|2022-04-30|   kurta|  1|2022|    4|  2022-05-08|2024-09-11|              857| 406kur|\n",
      "|404-1490984-4578765|2022-04-30|     Set|  1|2022|    4|  2022-05-08|2024-09-11|              857| 404Set|\n",
      "|407-1069790-7240320|2022-04-30|     Top|  1|2022|    4|  2022-05-08|2024-09-11|              857| 407Top|\n",
      "|408-1298370-1920302|2022-04-30|     Set|  1|2022|    4|  2022-05-08|2024-09-11|              857| 408Set|\n",
      "|171-9198151-1101146|2022-04-30|   kurta|  1|2022|    4|  2022-05-08|2024-09-11|              857| 171kur|\n",
      "|171-4638481-6326716|2022-04-30|   kurta|  1|2022|    4|  2022-05-08|2024-09-11|              857| 171kur|\n",
      "|403-4965581-9520319|2022-04-30|   kurta|  1|2022|    4|  2022-05-08|2024-09-11|              857| 403kur|\n",
      "|408-5748499-6859555|2022-04-30|     Set|  1|2022|    4|  2022-05-08|2024-09-11|              857| 408Set|\n",
      "|405-5957858-1051546|2022-04-30|     Set|  1|2022|    4|  2022-05-08|2024-09-11|              857| 405Set|\n",
      "|405-0607769-0716360|2022-04-30|   kurta|  1|2022|    4|  2022-05-08|2024-09-11|              857| 405kur|\n",
      "|407-5633625-6970741|2022-04-30|   kurta|  1|2022|    4|  2022-05-08|2024-09-11|              857| 407kur|\n",
      "|402-4393761-0311520|2022-04-30|   kurta|  1|2022|    4|  2022-05-08|2024-09-11|              857| 402kur|\n",
      "|406-7807733-3785945|2022-04-30|   kurta|  1|2022|    4|  2022-05-08|2024-09-11|              857| 406kur|\n",
      "+-------------------+----------+--------+---+----+-----+------------+----------+-----------------+-------+\n",
      "only showing top 20 rows\n",
      "\n"
     ]
    }
   ],
   "source": [
    "## string functions\n",
    "\n",
    "\n",
    "## taking the first 3 charecters of order id and first 3 charectes of the category and making it as cat_ord field\n",
    "\n",
    "\n",
    "df7 = df7.withColumn('cat_ord',expr('concat(left(`Order ID`,3),left(Category,3))'))\n",
    "df7.show()"
   ]
  },
  {
   "cell_type": "code",
   "execution_count": null,
   "metadata": {
    "application/vnd.databricks.v1+cell": {
     "cellMetadata": {},
     "inputWidgets": {},
     "nuid": "faa1b049-a808-4a65-be46-a84a55bb7a8e",
     "showTitle": false,
     "tableResultSettingsMap": {},
     "title": ""
    }
   },
   "outputs": [],
   "source": []
  }
 ],
 "metadata": {
  "application/vnd.databricks.v1+notebook": {
   "dashboards": [],
   "environmentMetadata": null,
   "language": "python",
   "notebookMetadata": {
    "pythonIndentUnit": 4
   },
   "notebookName": "pyspark_cheat_sheet_functions",
   "widgets": {}
  },
  "kernelspec": {
   "display_name": "Python 3 (ipykernel)",
   "language": "python",
   "name": "python3"
  },
  "language_info": {
   "codemirror_mode": {
    "name": "ipython",
    "version": 3
   },
   "file_extension": ".py",
   "mimetype": "text/x-python",
   "name": "python",
   "nbconvert_exporter": "python",
   "pygments_lexer": "ipython3",
   "version": "3.12.7"
  }
 },
 "nbformat": 4,
 "nbformat_minor": 4
}
